{
 "metadata": {
  "name": "",
  "signature": "sha256:dd8c30362d3dc04f01bcaf722f4a116f45d12df6f2d2cf3ba758da95e4bc3c71"
 },
 "nbformat": 3,
 "nbformat_minor": 0,
 "worksheets": [
  {
   "cells": [
    {
     "cell_type": "markdown",
     "metadata": {},
     "source": [
      "# The Riordan Group"
     ]
    },
    {
     "cell_type": "markdown",
     "metadata": {},
     "source": [
      "This notebook attempt to study *The Riordan Group* article, by Shapiro, Getu, Woan and Woodson. It is my first attempt to explain ideas and to find meaning and connections among things. We reference objects and equations explained in the article using their reference numbers in order to have a direct mapping to them.\n",
      "\n",
      "We start with some SymPy stuff in order to setup the environment:"
     ]
    },
    {
     "cell_type": "code",
     "collapsed": false,
     "input": [
      "import sympy\n",
      "from sympy import *\n",
      "from sympy.abc import x, n, z, t\n",
      "\n",
      "init_printing() # for nice printing, a-la' TeX"
     ],
     "language": "python",
     "metadata": {},
     "outputs": [],
     "prompt_number": 1
    },
    {
     "cell_type": "markdown",
     "metadata": {},
     "source": [
      "## Pascal triangle standard"
     ]
    },
    {
     "cell_type": "code",
     "collapsed": false,
     "input": [
      "def g(x): return 1/(1-x)\n",
      "def f(x): return x/(1-x)\n",
      "\n",
      "[series(g(x) * f(x)**i,x,n=10) for i in range(5)]"
     ],
     "language": "python",
     "metadata": {},
     "outputs": [
      {
       "latex": [
        "$$\\left [ 1 + x + x^{2} + x^{3} + x^{4} + x^{5} + x^{6} + x^{7} + x^{8} + x^{9} + \\mathcal{O}\\left(x^{10}\\right), \\quad x + 2 x^{2} + 3 x^{3} + 4 x^{4} + 5 x^{5} + 6 x^{6} + 7 x^{7} + 8 x^{8} + 9 x^{9} + \\mathcal{O}\\left(x^{10}\\right), \\quad x^{2} + 3 x^{3} + 6 x^{4} + 10 x^{5} + 15 x^{6} + 21 x^{7} + 28 x^{8} + 36 x^{9} + \\mathcal{O}\\left(x^{10}\\right), \\quad x^{3} + 4 x^{4} + 10 x^{5} + 20 x^{6} + 35 x^{7} + 56 x^{8} + 84 x^{9} + \\mathcal{O}\\left(x^{10}\\right), \\quad x^{4} + 5 x^{5} + 15 x^{6} + 35 x^{7} + 70 x^{8} + 126 x^{9} + \\mathcal{O}\\left(x^{10}\\right)\\right ]$$"
       ],
       "metadata": {},
       "output_type": "pyout",
       "png": "[encoded data removed]",
       "prompt_number": 2,
       "text": [
        "\u23a1         2    3    4    5    6    7    8    9    \u239b 10\u239e         2      3      \n",
        "\u23a31 + x + x  + x  + x  + x  + x  + x  + x  + x  + O\u239dx  \u23a0, x + 2\u22c5x  + 3\u22c5x  + 4\u22c5x\n",
        "\n",
        "4      5      6      7      8      9    \u239b 10\u239e   2      3      4       5       \n",
        "  + 5\u22c5x  + 6\u22c5x  + 7\u22c5x  + 8\u22c5x  + 9\u22c5x  + O\u239dx  \u23a0, x  + 3\u22c5x  + 6\u22c5x  + 10\u22c5x  + 15\u22c5x\n",
        "\n",
        "6       7       8       9    \u239b 10\u239e   3      4       5       6       7       8 \n",
        "  + 21\u22c5x  + 28\u22c5x  + 36\u22c5x  + O\u239dx  \u23a0, x  + 4\u22c5x  + 10\u22c5x  + 20\u22c5x  + 35\u22c5x  + 56\u22c5x  \n",
        "\n",
        "      9    \u239b 10\u239e   4      5       6       7       8        9    \u239b 10\u239e\u23a4\n",
        "+ 84\u22c5x  + O\u239dx  \u23a0, x  + 5\u22c5x  + 15\u22c5x  + 35\u22c5x  + 70\u22c5x  + 126\u22c5x  + O\u239dx  \u23a0\u23a6"
       ]
      }
     ],
     "prompt_number": 2
    },
    {
     "cell_type": "markdown",
     "metadata": {},
     "source": [
      "## Pascal triangle enhanced"
     ]
    },
    {
     "cell_type": "code",
     "collapsed": false,
     "input": [
      "def g(x): return 1/sqrt(1 -4*x**2)\n",
      "def f(x): return (1-sqrt(1 -4*x**2))/(2*x)\n",
      " \n",
      "[series(g(x) * f(x)**i,x,n=10) for i in range(5)]"
     ],
     "language": "python",
     "metadata": {},
     "outputs": [
      {
       "latex": [
        "$$\\left [ 1 + 2 x^{2} + 6 x^{4} + 20 x^{6} + 70 x^{8} + \\mathcal{O}\\left(x^{10}\\right), \\quad x + 3 x^{3} + 10 x^{5} + 35 x^{7} + 126 x^{9} + \\mathcal{O}\\left(x^{10}\\right), \\quad x^{2} + 4 x^{4} + 15 x^{6} + 56 x^{8} + \\mathcal{O}\\left(x^{10}\\right), \\quad x^{3} + 5 x^{5} + 21 x^{7} + 84 x^{9} + \\mathcal{O}\\left(x^{10}\\right), \\quad x^{4} + 6 x^{6} + 28 x^{8} + \\mathcal{O}\\left(x^{10}\\right)\\right ]$$"
       ],
       "metadata": {},
       "output_type": "pyout",
       "png": "[encoded data removed]",
       "prompt_number": 3,
       "text": [
        "\u23a1       2      4       6       8    \u239b 10\u239e         3       5       7        9  \n",
        "\u23a31 + 2\u22c5x  + 6\u22c5x  + 20\u22c5x  + 70\u22c5x  + O\u239dx  \u23a0, x + 3\u22c5x  + 10\u22c5x  + 35\u22c5x  + 126\u22c5x  +\n",
        "\n",
        "  \u239b 10\u239e   2      4       6       8    \u239b 10\u239e   3      5       7       9    \u239b 10\n",
        " O\u239dx  \u23a0, x  + 4\u22c5x  + 15\u22c5x  + 56\u22c5x  + O\u239dx  \u23a0, x  + 5\u22c5x  + 21\u22c5x  + 84\u22c5x  + O\u239dx  \n",
        "\n",
        "\u239e   4      6       8    \u239b 10\u239e\u23a4\n",
        "\u23a0, x  + 6\u22c5x  + 28\u22c5x  + O\u239dx  \u23a0\u23a6"
       ]
      }
     ],
     "prompt_number": 3
    },
    {
     "cell_type": "markdown",
     "metadata": {},
     "source": [
      "---"
     ]
    },
    {
     "cell_type": "markdown",
     "metadata": {},
     "source": [
      "# Printing and displaying stuff\n",
      "\n",
      "In this foot section we save some display tricks in order to support the implementation of a function that builds Riordan coefficient matrix:"
     ]
    },
    {
     "cell_type": "code",
     "collapsed": false,
     "input": [
      "from IPython.display import Math\n",
      "Math(r'F(k) = \\int_{-\\infty}^{\\infty} f(x) e^{2\\pi i k} dx')"
     ],
     "language": "python",
     "metadata": {},
     "outputs": [
      {
       "latex": [
        "$$F(k) = \\int_{-\\infty}^{\\infty} f(x) e^{2\\pi i k} dx$$"
       ],
       "metadata": {},
       "output_type": "pyout",
       "prompt_number": 4,
       "text": [
        "<IPython.core.display.Math at 0x7f2e942dc5c0>"
       ]
      }
     ],
     "prompt_number": 4
    },
    {
     "cell_type": "code",
     "collapsed": false,
     "input": [
      "from IPython.display import Latex\n",
      "Latex(r\"\"\"\\begin{eqnarray}\n",
      "\\nabla \\times \\vec{\\mathbf{B}} -\\, \\frac1c\\, \\frac{\\partial\\vec{\\mathbf{E}}}{\\partial t} & = \\frac{4\\pi}{c}\\vec{\\mathbf{j}} \\\\\n",
      "\\nabla \\cdot \\vec{\\mathbf{E}} & = 4 \\pi \\rho \\\\\n",
      "\\nabla \\times \\vec{\\mathbf{E}}\\, +\\, \\frac1c\\, \\frac{\\partial\\vec{\\mathbf{B}}}{\\partial t} & = \\vec{\\mathbf{0}} \\\\\n",
      "\\nabla \\cdot \\vec{\\mathbf{B}} & = 0 \n",
      "\\end{eqnarray}\"\"\")"
     ],
     "language": "python",
     "metadata": {},
     "outputs": [
      {
       "latex": [
        "\\begin{eqnarray}\n",
        "\\nabla \\times \\vec{\\mathbf{B}} -\\, \\frac1c\\, \\frac{\\partial\\vec{\\mathbf{E}}}{\\partial t} & = \\frac{4\\pi}{c}\\vec{\\mathbf{j}} \\\\\n",
        "\\nabla \\cdot \\vec{\\mathbf{E}} & = 4 \\pi \\rho \\\\\n",
        "\\nabla \\times \\vec{\\mathbf{E}}\\, +\\, \\frac1c\\, \\frac{\\partial\\vec{\\mathbf{B}}}{\\partial t} & = \\vec{\\mathbf{0}} \\\\\n",
        "\\nabla \\cdot \\vec{\\mathbf{B}} & = 0 \n",
        "\\end{eqnarray}"
       ],
       "metadata": {},
       "output_type": "pyout",
       "prompt_number": 5,
       "text": [
        "<IPython.core.display.Latex at 0x7f2e942dc630>"
       ]
      }
     ],
     "prompt_number": 5
    },
    {
     "cell_type": "code",
     "collapsed": false,
     "input": [
      "from IPython.display import display, Math, Latex\n",
      "display(Math(r'F(k) = \\int_{-\\infty}^{\\infty} f(x) e^{2\\pi i k} dx'))"
     ],
     "language": "python",
     "metadata": {},
     "outputs": [
      {
       "latex": [
        "$$F(k) = \\int_{-\\infty}^{\\infty} f(x) e^{2\\pi i k} dx$$"
       ],
       "metadata": {},
       "output_type": "display_data",
       "text": [
        "<IPython.core.display.Math at 0x7f2e942dc080>"
       ]
      }
     ],
     "prompt_number": 6
    }
   ],
   "metadata": {}
  }
 ]
}