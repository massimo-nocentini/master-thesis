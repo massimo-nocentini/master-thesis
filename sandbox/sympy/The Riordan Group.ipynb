{
 "metadata": {
  "name": "",
  "signature": "sha256:2a09a389c3debb98e5004c98e1e1c0dc7d8bde86dedbfe8eaa846d548402763e"
 },
 "nbformat": 3,
 "nbformat_minor": 0,
 "worksheets": [
  {
   "cells": [
    {
     "cell_type": "markdown",
     "metadata": {},
     "source": [
      "# The Riordan Group"
     ]
    },
    {
     "cell_type": "markdown",
     "metadata": {},
     "source": [
      "This notebook attempt to study *The Riordan Group* article, by Shapiro, Getu, Woan and Woodson. It is my first attempt to explain ideas and to find meaning and connections among things. We reference objects and equations explained in the article using their reference numbers in order to have a direct mapping to them.\n",
      "\n",
      "We start with some SymPy stuff in order to setup the environment:"
     ]
    },
    {
     "cell_type": "code",
     "collapsed": false,
     "input": [
      "import sympy\n",
      "from sympy import *\n",
      "from sympy.abc import x, n, z, t\n",
      "\n",
      "from IPython.display import display, Math, Latex\n",
      "\n",
      "init_printing() # for nice printing, a-la' TeX"
     ],
     "language": "python",
     "metadata": {},
     "outputs": [],
     "prompt_number": 5
    },
    {
     "cell_type": "markdown",
     "metadata": {},
     "source": [
      "# Definitions"
     ]
    },
    {
     "cell_type": "markdown",
     "metadata": {},
     "source": [
      "Let $M$ be an infinite matrix with elements $m_{ji} \\in \\mathbb{C}$ defined as:\n",
      "$$\n",
      "M = (m_{ji})_{i,j \\geq 0}= \\left[ \\begin{array}{cccccc}\n",
      "m_{00} & m_{01} & m_{02} & \\ldots & m_{0i} & \\ldots \\\\\n",
      "m_{10} & m_{11} & m_{12} & \\ldots & m_{1i} & \\ldots \\\\\n",
      "m_{20} & m_{21} & m_{22} & \\ldots & m_{2i} & \\ldots \\\\\n",
      "\\vdots & \\vdots & \\vdots & \\ddots & \\vdots &  \\\\\n",
      "m_{j0} & m_{j1} & m_{j2} & \\ldots & m_{ji} & \\ldots \\\\\n",
      "\\vdots & \\vdots & \\vdots &  & \\vdots & \\ddots \\\\\n",
      "\\end{array} \\right]\n",
      "$$\n",
      "Now define $C_i(x)$ as a generating function taking coefficients from $i$-th column:\n",
      "$$\n",
      "    C_i(x) = \\sum_{j=0}^{\\infty}{m_{ji}x^j}\n",
      "$$\n",
      "So the following matrix product holds:\n",
      "$\n",
      "\\left[\\begin{array}{cccccc}        1 & x & x^2 & \\ldots & x^j & \\ldots \\end{array} \\right] M =\n",
      "\\left[\\begin{array}{cccccc}        C_0(x) & C_1(x) & C_2(x) & \\ldots & C_i(x)& \\ldots \\end{array} \\right]\n",
      "$\n",
      "\n",
      "Now assume that $C_i(x)$ can be written as $g(x)f(x)^i$, for all $i \\geq 0$ where:\n",
      "$$ g(x) = g_0 + g_1 x + g_2 x^2 + g_3 x^3 +\\ldots \\\\\n",
      "f(x) = x + f_2 x^2 + f_3 x^3 +\\ldots$$\n",
      "\n",
      "So, there are no requirements on function $g$ while function $f$ has to obeys the following: \n",
      "$$f(0) = 0  \\\\ \\left . \\frac{\\partial f}{\\partial x} \\right|_0 = 1$$\n",
      "\n",
      "Under these assumptions we can rewrite:\n",
      "$\n",
      "\\left[\\begin{array}{cccccc}        1 & x & x^2 & \\ldots & x^j & \\ldots \\end{array} \\right] M =\n",
      "\\left[\\begin{array}{cccccc}        g(x) & g(x)f(x) & g(x)f(x)^2 & \\ldots & g(x)f(x)^i & \\ldots \\end{array} \\right]\n",
      "$ \n",
      "\n",
      "and we call a matrix $M = (g(x), f(x))$ a *Riordan matrix*."
     ]
    },
    {
     "cell_type": "markdown",
     "metadata": {},
     "source": [
      "## Product with a vector\n",
      "\n",
      "Now take the product on the right with a vector $\\left[\\begin{array}{cccccc}        a_0 & a_1 & a_2 & \\ldots & a_i & \\ldots \\end{array} \\right]^T$:\n",
      "$$\n",
      "\\begin{split}\n",
      "\\left[\\begin{array}{cccccc}        1 & x & x^2 & \\ldots & x^j & \\ldots \\end{array} \\right] M \n",
      "\\left[\\begin{array}{c}        1 \\\\ a_1 \\\\ a_2 \\\\ \\vdots \\\\ a_i \\\\ \\vdots \\end{array} \\right] &=\n",
      "a_0 g(x) + a_1 g(x) f(x) + a_2 g(x) f(x)^2 + \\ldots \\\\\n",
      "&= g(x) \\left( a_0  + a_1 f(x) + a_2 f(x)^2 + \\ldots \\right) \\\\\n",
      "&= g(x) A(f(x))\n",
      "\\end{split}\n",
      "$$\n",
      "where $A(t) = a_0 + a_1 t + a_2 t^2 + \\ldots$ is the formal power series of the sequence $(a_0, a_1, a_2, \\ldots)$."
     ]
    },
    {
     "cell_type": "markdown",
     "metadata": {},
     "source": [
      "## Product with a matrix\n",
      "\n",
      "Let $M, N$ be two Riordan matrices such that $M = (g(x),f(x))$ and $N =  (h(x),l(x))$. In order to study the product $M N$ consider the $i$-th column of matrix $N$, namely coefficients in the formal power series expansion of $h(x)l(x)^i$.\n",
      "By product by vector explanation above, coefficients of $i$-th column of $M N$ are denoted by series expansion of $g(x)h(f(x))l(f(x))^i$, hence repeating the same reasoning for all $i$, it is possible to write: $M N = (g(x)h(f(x)), l(f(x)))$ hence $M N$ is a Riordan matrix too."
     ]
    },
    {
     "cell_type": "markdown",
     "metadata": {},
     "source": [
      "## Pascal triangle standard"
     ]
    },
    {
     "cell_type": "code",
     "collapsed": false,
     "input": [
      "def g(x): return 1/(1-x)\n",
      "def f(x): return x/(1-x)\n",
      "\n",
      "pascal_columns = (series(g(x) * f(x)**i,x,n=10) for i in range(5))\n",
      "for col in pascal_columns: display(col.as_coefficients_dict()[Symbol('x')**4])"
     ],
     "language": "python",
     "metadata": {},
     "outputs": [
      {
       "latex": [
        "$$1$$"
       ],
       "metadata": {},
       "output_type": "display_data",
       "png": "[encoded data removed]",
       "text": [
        "1"
       ]
      },
      {
       "latex": [
        "$$4$$"
       ],
       "metadata": {},
       "output_type": "display_data",
       "png": "[encoded data removed]",
       "text": [
        "4"
       ]
      },
      {
       "latex": [
        "$$6$$"
       ],
       "metadata": {},
       "output_type": "display_data",
       "png": "[encoded data removed]",
       "text": [
        "6"
       ]
      },
      {
       "latex": [
        "$$4$$"
       ],
       "metadata": {},
       "output_type": "display_data",
       "png": "[encoded data removed]",
       "text": [
        "4"
       ]
      },
      {
       "latex": [
        "$$1$$"
       ],
       "metadata": {},
       "output_type": "display_data",
       "png": "[encoded data removed]",
       "text": [
        "1"
       ]
      }
     ],
     "prompt_number": 39
    },
    {
     "cell_type": "markdown",
     "metadata": {},
     "source": [
      "## Pascal triangle enhanced"
     ]
    },
    {
     "cell_type": "code",
     "collapsed": false,
     "input": [
      "def g(x): return 1/sqrt(1 -4*x**2)\n",
      "def f(x): return (1-sqrt(1 -4*x**2))/(2*x)\n",
      " \n",
      "[series(g(x) * f(x)**i,x,n=10) for i in range(5)]"
     ],
     "language": "python",
     "metadata": {},
     "outputs": [
      {
       "latex": [
        "$$\\left [ 1 + 2 x^{2} + 6 x^{4} + 20 x^{6} + 70 x^{8} + \\mathcal{O}\\left(x^{10}\\right), \\quad x + 3 x^{3} + 10 x^{5} + 35 x^{7} + 126 x^{9} + \\mathcal{O}\\left(x^{10}\\right), \\quad x^{2} + 4 x^{4} + 15 x^{6} + 56 x^{8} + \\mathcal{O}\\left(x^{10}\\right), \\quad x^{3} + 5 x^{5} + 21 x^{7} + 84 x^{9} + \\mathcal{O}\\left(x^{10}\\right), \\quad x^{4} + 6 x^{6} + 28 x^{8} + \\mathcal{O}\\left(x^{10}\\right)\\right ]$$"
       ],
       "metadata": {},
       "output_type": "pyout",
       "png": "[encoded data removed]",
       "prompt_number": 7,
       "text": [
        "\u23a1       2      4       6       8    \u239b 10\u239e         3       5       7        9  \n",
        "\u23a31 + 2\u22c5x  + 6\u22c5x  + 20\u22c5x  + 70\u22c5x  + O\u239dx  \u23a0, x + 3\u22c5x  + 10\u22c5x  + 35\u22c5x  + 126\u22c5x  +\n",
        "\n",
        "  \u239b 10\u239e   2      4       6       8    \u239b 10\u239e   3      5       7       9    \u239b 10\n",
        " O\u239dx  \u23a0, x  + 4\u22c5x  + 15\u22c5x  + 56\u22c5x  + O\u239dx  \u23a0, x  + 5\u22c5x  + 21\u22c5x  + 84\u22c5x  + O\u239dx  \n",
        "\n",
        "\u239e   4      6       8    \u239b 10\u239e\u23a4\n",
        "\u23a0, x  + 6\u22c5x  + 28\u22c5x  + O\u239dx  \u23a0\u23a6"
       ]
      }
     ],
     "prompt_number": 7
    },
    {
     "cell_type": "markdown",
     "metadata": {},
     "source": [
      "---"
     ]
    },
    {
     "cell_type": "markdown",
     "metadata": {},
     "source": [
      "# Printing and displaying stuff\n",
      "\n",
      "In this foot section we save some display tricks in order to support the implementation of a function that builds Riordan coefficient matrix:"
     ]
    },
    {
     "cell_type": "code",
     "collapsed": false,
     "input": [
      "from IPython.display import Math\n",
      "Math(r'F(k) = \\int_{-\\infty}^{\\infty} f(x) e^{2\\pi i k} dx')"
     ],
     "language": "python",
     "metadata": {},
     "outputs": [
      {
       "latex": [
        "$$F(k) = \\int_{-\\infty}^{\\infty} f(x) e^{2\\pi i k} dx$$"
       ],
       "metadata": {},
       "output_type": "pyout",
       "prompt_number": 8,
       "text": [
        "<IPython.core.display.Math at 0x7f114025b390>"
       ]
      }
     ],
     "prompt_number": 8
    },
    {
     "cell_type": "code",
     "collapsed": false,
     "input": [
      "from IPython.display import Latex\n",
      "Latex(r\"\"\"\\begin{eqnarray}\n",
      "\\nabla \\times \\vec{\\mathbf{B}} -\\, \\frac1c\\, \\frac{\\partial\\vec{\\mathbf{E}}}{\\partial t} & = \\frac{4\\pi}{c}\\vec{\\mathbf{j}} \\\\\n",
      "\\nabla \\cdot \\vec{\\mathbf{E}} & = 4 \\pi \\rho \\\\\n",
      "\\nabla \\times \\vec{\\mathbf{E}}\\, +\\, \\frac1c\\, \\frac{\\partial\\vec{\\mathbf{B}}}{\\partial t} & = \\vec{\\mathbf{0}} \\\\\n",
      "\\nabla \\cdot \\vec{\\mathbf{B}} & = 0 \n",
      "\\end{eqnarray}\"\"\")"
     ],
     "language": "python",
     "metadata": {},
     "outputs": [
      {
       "latex": [
        "\\begin{eqnarray}\n",
        "\\nabla \\times \\vec{\\mathbf{B}} -\\, \\frac1c\\, \\frac{\\partial\\vec{\\mathbf{E}}}{\\partial t} & = \\frac{4\\pi}{c}\\vec{\\mathbf{j}} \\\\\n",
        "\\nabla \\cdot \\vec{\\mathbf{E}} & = 4 \\pi \\rho \\\\\n",
        "\\nabla \\times \\vec{\\mathbf{E}}\\, +\\, \\frac1c\\, \\frac{\\partial\\vec{\\mathbf{B}}}{\\partial t} & = \\vec{\\mathbf{0}} \\\\\n",
        "\\nabla \\cdot \\vec{\\mathbf{B}} & = 0 \n",
        "\\end{eqnarray}"
       ],
       "metadata": {},
       "output_type": "pyout",
       "prompt_number": 9,
       "text": [
        "<IPython.core.display.Latex at 0x7f114025b860>"
       ]
      }
     ],
     "prompt_number": 9
    },
    {
     "cell_type": "code",
     "collapsed": false,
     "input": [
      "from IPython.display import display, Math, Latex\n",
      "display(Math(r'F(k) = \\int_{-\\infty}^{\\infty} f(x) e^{2\\pi i k} dx'))"
     ],
     "language": "python",
     "metadata": {},
     "outputs": [
      {
       "latex": [
        "$$F(k) = \\int_{-\\infty}^{\\infty} f(x) e^{2\\pi i k} dx$$"
       ],
       "metadata": {},
       "output_type": "display_data",
       "text": [
        "<IPython.core.display.Math at 0x7f114025b748>"
       ]
      }
     ],
     "prompt_number": 10
    }
   ],
   "metadata": {}
  }
 ]
}