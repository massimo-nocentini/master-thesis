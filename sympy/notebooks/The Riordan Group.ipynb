{
 "metadata": {
  "name": "",
  "signature": "sha256:2f267c67e9e7ca76cf989c57080f1280dcc3a8efce30dc735ed3f4e4ee8c4ca8"
 },
 "nbformat": 3,
 "nbformat_minor": 0,
 "worksheets": [
  {
   "cells": [
    {
     "cell_type": "markdown",
     "metadata": {},
     "source": [
      "# The Riordan Group"
     ]
    },
    {
     "cell_type": "markdown",
     "metadata": {},
     "source": [
      "This notebook attempt to study *The Riordan Group* article, by Shapiro, Getu, Woan and Woodson. It is my first attempt to explain ideas and to find meaning and connections among things. We reference objects and equations explained in the article using their reference numbers in order to have a direct mapping to them.\n",
      "\n",
      "We start with some SymPy stuff in order to setup the environment:"
     ]
    },
    {
     "cell_type": "code",
     "collapsed": false,
     "input": [
      "import sympy\n",
      "from sympy import *\n",
      "from sympy.abc import x, n, z, t\n",
      "\n",
      "from IPython.display import display, Math, Latex\n",
      "\n",
      "init_printing() # for nice printing, a-la' TeX\n",
      "\n",
      "%run '../riordan-group.py'"
     ],
     "language": "python",
     "metadata": {},
     "outputs": [],
     "prompt_number": 14
    },
    {
     "cell_type": "markdown",
     "metadata": {},
     "source": [
      "# Definitions"
     ]
    },
    {
     "cell_type": "markdown",
     "metadata": {},
     "source": [
      "Let $M$ be an infinite matrix with elements $m_{ji} \\in \\mathbb{C}$ defined as:\n",
      "$$ M = (m_{ji})_{i,j \\geq 0}= \\left[ \\begin{array}{cccccc}\n",
      "m_{00} & m_{01} & m_{02} & \\ldots & m_{0i} & \\ldots \\\\\n",
      "m_{10} & m_{11} & m_{12} & \\ldots & m_{1i} & \\ldots \\\\\n",
      "m_{20} & m_{21} & m_{22} & \\ldots & m_{2i} & \\ldots \\\\\n",
      "\\vdots & \\vdots & \\vdots & \\ddots & \\vdots &  \\\\\n",
      "m_{j0} & m_{j1} & m_{j2} & \\ldots & m_{ji} & \\ldots \\\\\n",
      "\\vdots & \\vdots & \\vdots &  & \\vdots & \\ddots \\\\\n",
      "\\end{array} \\right] $$\n",
      "\n",
      "Now define $C_i(x)$ as a generating function taking coefficients from $i$-th column:\n",
      "$$ C_i(x) = \\sum_{j=0}^{\\infty}{m_{ji}x^j} $$\n",
      "\n",
      "So the following matrix product holds:\n",
      "$\n",
      "\\left[\\begin{array}{cccccc}        1 & x & x^2 & \\ldots & x^j & \\ldots \\end{array} \\right] M =\n",
      "\\left[\\begin{array}{cccccc}        C_0(x) & C_1(x) & C_2(x) & \\ldots & C_i(x)& \\ldots \\end{array} \\right]\n",
      "$\n",
      "\n",
      "Now assume that $C_i(x)$ can be written as $g(x)f(x)^i$, for all $i \\geq 0$ where:\n",
      "$$ g(x) = g_0 + g_1 x + g_2 x^2 + g_3 x^3 +\\ldots \\\\\n",
      "f(x) = x + f_2 x^2 + f_3 x^3 +\\ldots$$\n",
      "\n",
      "So, there are no requirements on function $g$ while function $f$ has to obeys the following: \n",
      "$$f(0) = 0  \\\\ \\left . \\frac{\\partial f}{\\partial x} \\right|_0 = 1$$\n",
      "\n",
      "Under these assumptions we can rewrite:\n",
      "$\n",
      "\\left[\\begin{array}{cccccc}        1 & x & x^2 & \\ldots & x^j & \\ldots \\end{array} \\right] M =\n",
      "\\left[\\begin{array}{cccccc}        g(x) & g(x)f(x) & g(x)f(x)^2 & \\ldots & g(x)f(x)^i & \\ldots \\end{array} \\right]\n",
      "$ \n",
      "\n",
      "and we call a matrix $M = (g(x), f(x))$ a *Riordan matrix*."
     ]
    },
    {
     "cell_type": "markdown",
     "metadata": {},
     "source": [
      "## Product with a vector\n",
      "\n",
      "Now take the product on the right with a vector $\\left[\\begin{array}{cccccc}        a_0 & a_1 & a_2 & \\ldots & a_i & \\ldots \\end{array} \\right]^T$:\n",
      "$$ \\begin{split}\n",
      "\\left[\\begin{array}{cccccc}        1 & x & x^2 & \\ldots & x^j & \\ldots \\end{array} \\right] M \n",
      "\\left[\\begin{array}{c}        a_0 \\\\ a_1 \\\\ a_2 \\\\ \\vdots \\\\ a_i \\\\ \\vdots \\end{array} \\right] &=\n",
      "a_0 g(x) + a_1 g(x) f(x) + a_2 g(x) f(x)^2 + \\ldots \\\\\n",
      "&= g(x) \\left( a_0  + a_1 f(x) + a_2 f(x)^2 + \\ldots \\right) \\\\\n",
      "&= g(x) A(f(x))\n",
      "\\end{split}$$\n",
      "where $A(t) = a_0 + a_1 t + a_2 t^2 + \\ldots$ is the formal power series of the sequence $(a_0, a_1, a_2, \\ldots)$.\n",
      "\n",
      "Observe that $ g(x) A(f(x))$ can be expanded as a formal power series $b_0 + b_1 x + b_2 x^2 + \\ldots$ for some sequence $\\{b_n\\}_{n \\in \\mathbb{N}}$ after collecting coefficients for equal powers of $x$: applying $\\mathcal{G}$ operator it is possibile to write $\\mathcal{G}(\\{b_n\\}) = g(x) A(f(x))$. Since on the right side there is a product of two separable function, it does follow that the generic term of $\\{b_n\\}$ is a convolution by properties of $\\mathcal{G}$, namely:\n",
      "$$ b_n = \\sum_{i=0}^{n}{g_i r_{n-i}}$$\n",
      "where coefficient $r_j$ depends on both finitely coefficients $a_0, \\ldots, a_j$ both on infinitely coefficients $f_2,f_3,\\ldots$"
     ]
    },
    {
     "cell_type": "markdown",
     "metadata": {},
     "source": [
      "## Product with a matrix\n",
      "\n",
      "Let $M, N$ be two Riordan matrices such that $M = (g(x),f(x))$ and $N =  (h(x),l(x))$. In order to study the product $M N$ consider the $i$-th column of matrix $N$, namely coefficients in the formal power series expansion of $h(x)l(x)^i$.\n",
      "By product by vector explanation above, coefficients of $i$-th column of $M N$ are denoted by series expansion of $g(x)h(f(x))l(f(x))^i$, hence repeating the same reasoning for all $i$, it is possible to write: $M N = (g(x)h(f(x)), l(f(x)))$ hence $M N$ is a Riordan matrix too."
     ]
    },
    {
     "cell_type": "markdown",
     "metadata": {},
     "source": [
      "## The set of Riordan matrices with product operation is a group\n",
      "\n",
      "TODO"
     ]
    },
    {
     "cell_type": "markdown",
     "metadata": {},
     "source": [
      "## Pascal triangle standard"
     ]
    },
    {
     "cell_type": "code",
     "collapsed": false,
     "input": [
      "def g(x): return 1/(1-x)\n",
      "def f(x): return x/(1-x)\n",
      "\n",
      "Latex(Riordan_matrix_latex_code(g, f, x, order=10))"
     ],
     "language": "python",
     "metadata": {},
     "outputs": [
      {
       "latex": [
        "\\begin{equation} \\left( \\frac{1}{- x + 1}, \\frac{x}{- x + 1} \\right) = \\left[ \\begin{array}{ccccccccccc}1 &  &  &  &  &  &  &  &  &  &  \\\\ 1 & 1 &  &  &  &  &  &  &  &  &  \\\\ 1 & 2 & 1 &  &  &  &  &  &  &  &  \\\\ 1 & 3 & 3 & 1 &  &  &  &  &  &  &  \\\\ 1 & 4 & 6 & 4 & 1 &  &  &  &  &  &  \\\\ 1 & 5 & 10 & 10 & 5 & 1 &  &  &  &  &  \\\\ 1 & 6 & 15 & 20 & 15 & 6 & 1 &  &  &  &  \\\\ 1 & 7 & 21 & 35 & 35 & 21 & 7 & 1 &  &  &  \\\\ 1 & 8 & 28 & 56 & 70 & 56 & 28 & 8 & 1 &  &  \\\\ 1 & 9 & 36 & 84 & 126 & 126 & 84 & 36 & 9 & 1 &  \\\\ \\vdots & \\vdots & \\vdots & \\vdots & \\vdots & \\vdots & \\vdots & \\vdots & \\vdots & \\vdots & \\ddots\\end{array} \\right] \\end{equation}"
       ],
       "metadata": {},
       "output_type": "pyout",
       "prompt_number": 16,
       "text": [
        "<IPython.core.display.Latex at 0x2b46fd581cf8>"
       ]
      }
     ],
     "prompt_number": 16
    },
    {
     "cell_type": "markdown",
     "metadata": {},
     "source": [
      "## Pascal triangle enhanced"
     ]
    },
    {
     "cell_type": "code",
     "collapsed": false,
     "input": [
      "def g(x): return 1/sqrt(1 -4*x**2)\n",
      "def f(x): return (1-sqrt(1 -4*x**2))/(2*x)\n",
      "\n",
      "Latex(Riordan_matrix_latex_code(g, f, x, order=10))"
     ],
     "language": "python",
     "metadata": {},
     "outputs": [
      {
       "latex": [
        "\\begin{equation} \\left( \\frac{1}{\\sqrt{- 4 x^{2} + 1}}, \\frac{1}{2 x} \\left(- \\sqrt{- 4 x^{2} + 1} + 1\\right) \\right) = \\left[ \\begin{array}{ccccccccccc}1 &  &  &  &  &  &  &  &  &  &  \\\\ 0 & 1 &  &  &  &  &  &  &  &  &  \\\\ 2 & 0 & 1 &  &  &  &  &  &  &  &  \\\\ 0 & 3 & 0 & 1 &  &  &  &  &  &  &  \\\\ 6 & 0 & 4 & 0 & 1 &  &  &  &  &  &  \\\\ 0 & 10 & 0 & 5 & 0 & 1 &  &  &  &  &  \\\\ 20 & 0 & 15 & 0 & 6 & 0 & 1 &  &  &  &  \\\\ 0 & 35 & 0 & 21 & 0 & 7 & 0 & 1 &  &  &  \\\\ 70 & 0 & 56 & 0 & 28 & 0 & 8 & 0 & 1 &  &  \\\\ 0 & 126 & 0 & 84 & 0 & 36 & 0 & 9 & 0 & 1 &  \\\\ \\vdots & \\vdots & \\vdots & \\vdots & \\vdots & \\vdots & \\vdots & \\vdots & \\vdots & \\vdots & \\ddots\\end{array} \\right] \\end{equation}"
       ],
       "metadata": {},
       "output_type": "pyout",
       "prompt_number": 17,
       "text": [
        "<IPython.core.display.Latex at 0x2b46fdc104e0>"
       ]
      }
     ],
     "prompt_number": 17
    },
    {
     "cell_type": "markdown",
     "metadata": {},
     "source": [
      "---"
     ]
    },
    {
     "cell_type": "markdown",
     "metadata": {},
     "source": [
      "# Printing and displaying stuff\n",
      "\n",
      "In this foot section we save some display tricks in order to support the implementation of a function that builds Riordan coefficient matrix:"
     ]
    },
    {
     "cell_type": "code",
     "collapsed": false,
     "input": [
      "from IPython.display import Math\n",
      "Math(r'F(k) = \\int_{-\\infty}^{\\infty} f(x) e^{2\\pi i k} dx')"
     ],
     "language": "python",
     "metadata": {},
     "outputs": [
      {
       "latex": [
        "$$F(k) = \\int_{-\\infty}^{\\infty} f(x) e^{2\\pi i k} dx$$"
       ],
       "metadata": {},
       "output_type": "pyout",
       "prompt_number": 4,
       "text": [
        "<IPython.core.display.Math at 0x7f47b47de668>"
       ]
      }
     ],
     "prompt_number": 4
    },
    {
     "cell_type": "code",
     "collapsed": false,
     "input": [
      "from IPython.display import Latex\n",
      "Latex(r\"\"\"\\begin{eqnarray}\n",
      "\\nabla \\times \\vec{\\mathbf{B}} -\\, \\frac1c\\, \\frac{\\partial\\vec{\\mathbf{E}}}{\\partial t} & = \\frac{4\\pi}{c}\\vec{\\mathbf{j}} \\\\\n",
      "\\nabla \\cdot \\vec{\\mathbf{E}} & = 4 \\pi \\rho \\\\\n",
      "\\nabla \\times \\vec{\\mathbf{E}}\\, +\\, \\frac1c\\, \\frac{\\partial\\vec{\\mathbf{B}}}{\\partial t} & = \\vec{\\mathbf{0}} \\\\\n",
      "\\nabla \\cdot \\vec{\\mathbf{B}} & = 0 \n",
      "\\end{eqnarray}\"\"\")\n",
      "Latex(r\"\"\"\\[ 4 \\]\"\"\")"
     ],
     "language": "python",
     "metadata": {},
     "outputs": [
      {
       "latex": [
        "\\[ 4 \\]"
       ],
       "metadata": {},
       "output_type": "pyout",
       "prompt_number": 52,
       "text": [
        "<IPython.core.display.Latex at 0x7f47ac9f9a20>"
       ]
      }
     ],
     "prompt_number": 52
    },
    {
     "cell_type": "code",
     "collapsed": false,
     "input": [
      "from IPython.display import display, Math, Latex\n",
      "display(Math(r'F(k) = \\int_{-\\infty}^{\\infty} f(x) e^{2\\pi i k} dx'))"
     ],
     "language": "python",
     "metadata": {},
     "outputs": [
      {
       "latex": [
        "$$F(k) = \\int_{-\\infty}^{\\infty} f(x) e^{2\\pi i k} dx$$"
       ],
       "metadata": {},
       "output_type": "display_data",
       "text": [
        "<IPython.core.display.Math at 0x7f47b47de198>"
       ]
      }
     ],
     "prompt_number": 6
    }
   ],
   "metadata": {}
  }
 ]
}