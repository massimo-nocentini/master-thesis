{
 "metadata": {
  "name": "",
  "signature": "sha256:e39b81d678b8ef89b6f975fd4362a02716dcc85a590d3f21848be2c037cfbe7b"
 },
 "nbformat": 3,
 "nbformat_minor": 0,
 "worksheets": [
  {
   "cells": [
    {
     "cell_type": "markdown",
     "metadata": {},
     "source": [
      "# The Riordan Group"
     ]
    },
    {
     "cell_type": "markdown",
     "metadata": {},
     "source": [
      "This notebook attempt to study *The Riordan Group* article, by Shapiro, Getu, Woan and Woodson. It is my first attempt to explain ideas and to find meaning and connections among things. We reference objects and equations explained in the article using their reference numbers in order to have a direct mapping to them.\n",
      "\n",
      "We start with some SymPy stuff in order to setup the environment:"
     ]
    },
    {
     "cell_type": "code",
     "collapsed": false,
     "input": [
      "import sympy\n",
      "from sympy import *\n",
      "from sympy.abc import x, n, z, t, y, k\n",
      "\n",
      "from IPython.display import display, Math, Latex\n",
      "\n",
      "init_printing() # for nice printing, a-la' TeX\n",
      "\n",
      "%run '../riordan-group.py'"
     ],
     "language": "python",
     "metadata": {},
     "outputs": [],
     "prompt_number": 1
    },
    {
     "cell_type": "markdown",
     "metadata": {},
     "source": [
      "# Definitions"
     ]
    },
    {
     "cell_type": "markdown",
     "metadata": {},
     "source": [
      "Let $M$ be an infinite matrix with elements $m_{ji} \\in \\mathbb{C}$ defined as:\n",
      "$$ M = (m_{ji})_{i,j \\geq 0}= \\left[ \\begin{array}{cccccc}\n",
      "m_{00} & m_{01} & m_{02} & \\ldots & m_{0i} & \\ldots \\\\\n",
      "m_{10} & m_{11} & m_{12} & \\ldots & m_{1i} & \\ldots \\\\\n",
      "m_{20} & m_{21} & m_{22} & \\ldots & m_{2i} & \\ldots \\\\\n",
      "\\vdots & \\vdots & \\vdots & \\ddots & \\vdots &  \\\\\n",
      "m_{j0} & m_{j1} & m_{j2} & \\ldots & m_{ji} & \\ldots \\\\\n",
      "\\vdots & \\vdots & \\vdots &  & \\vdots & \\ddots \\\\\n",
      "\\end{array} \\right] $$\n",
      "\n",
      "Now define $C_i(x)$ as a generating function taking coefficients from $i$-th column:\n",
      "$$ C_i(x) = \\sum_{j=0}^{\\infty}{m_{ji}x^j} $$\n",
      "\n",
      "So the following matrix product holds:\n",
      "$\n",
      "\\left[\\begin{array}{cccccc}        1 & x & x^2 & \\ldots & x^j & \\ldots \\end{array} \\right] M =\n",
      "\\left[\\begin{array}{cccccc}        C_0(x) & C_1(x) & C_2(x) & \\ldots & C_i(x)& \\ldots \\end{array} \\right]\n",
      "$\n",
      "\n",
      "Now assume that $C_i(x)$ can be written as $g(x)f(x)^i$, for all $i \\geq 0$ where:\n",
      "$$ g(x) = g_0 + g_1 x + g_2 x^2 + g_3 x^3 +\\ldots \\\\\n",
      "f(x) = x + f_2 x^2 + f_3 x^3 +\\ldots$$\n",
      "\n",
      "So, there are no requirements on function $g$ while function $f$ has to obeys the following: \n",
      "$$f(0) = 0  \\\\ \\left . \\frac{\\partial f}{\\partial x} \\right|_0 = 1$$\n",
      "\n",
      "Under these assumptions we can rewrite:\n",
      "$\n",
      "\\left[\\begin{array}{cccccc}        1 & x & x^2 & \\ldots & x^j & \\ldots \\end{array} \\right] M =\n",
      "\\left[\\begin{array}{cccccc}        g(x) & g(x)f(x) & g(x)f(x)^2 & \\ldots & g(x)f(x)^i & \\ldots \\end{array} \\right]\n",
      "$ \n",
      "\n",
      "and we call a matrix $M = (g(x), f(x))$ a *Riordan matrix*."
     ]
    },
    {
     "cell_type": "markdown",
     "metadata": {},
     "source": [
      "## Product with a vector\n",
      "\n",
      "Now take the product on the right with a vector $\\left[\\begin{array}{cccccc}        a_0 & a_1 & a_2 & \\ldots & a_i & \\ldots \\end{array} \\right]^T$:\n",
      "$$ \\begin{split}\n",
      "\\left[\\begin{array}{cccccc}        1 & x & x^2 & \\ldots & x^j & \\ldots \\end{array} \\right] M \n",
      "\\left[\\begin{array}{c}        a_0 \\\\ a_1 \\\\ a_2 \\\\ \\vdots \\\\ a_i \\\\ \\vdots \\end{array} \\right] &=\n",
      "a_0 g(x) + a_1 g(x) f(x) + a_2 g(x) f(x)^2 + \\ldots \\\\\n",
      "&= g(x) \\left( a_0  + a_1 f(x) + a_2 f(x)^2 + \\ldots \\right) \\\\\n",
      "&= g(x) A(f(x))\n",
      "\\end{split}$$\n",
      "where $A(t) = a_0 + a_1 t + a_2 t^2 + \\ldots$ is the formal power series of the sequence $(a_0, a_1, a_2, \\ldots)$.\n",
      "\n",
      "Observe that $ g(x) A(f(x))$ can be expanded as a formal power series $b_0 + b_1 x + b_2 x^2 + \\ldots$ for some sequence $\\{b_n\\}_{n \\in \\mathbb{N}}$ after collecting coefficients for equal powers of $x$: applying $\\mathcal{G}$ operator it is possibile to write $\\mathcal{G}(\\{b_n\\}) = g(x) A(f(x))$. Since on the right side there is a product of two separable function, it does follow that the generic term of $\\{b_n\\}$ is a convolution by properties of $\\mathcal{G}$, namely:\n",
      "$$ b_n = \\sum_{i=0}^{n}{g_i r_{n-i}}$$\n",
      "where coefficient $r_j$ depends on both finitely coefficients $a_0, \\ldots, a_j$ both on infinitely coefficients $f_2,f_3,\\ldots$"
     ]
    },
    {
     "cell_type": "markdown",
     "metadata": {},
     "source": [
      "## Product with a matrix\n",
      "\n",
      "Let $M, N$ be two Riordan matrices such that $M = (g(x),f(x))$ and $N =  (h(x),l(x))$. In order to study the product $M N$ consider the $i$-th column of matrix $N$, namely coefficients in the formal power series expansion of $h(x)l(x)^i$.\n",
      "By product by vector explanation above, coefficients of $i$-th column of $M N$ are denoted by series expansion of $g(x)h(f(x))l(f(x))^i$, hence repeating the same reasoning for all $i$, it is possible to write: $M N = (g(x)h(f(x)), l(f(x)))$ hence $M N$ is a Riordan matrix too."
     ]
    },
    {
     "cell_type": "markdown",
     "metadata": {},
     "source": [
      "## The set of Riordan matrices with product operation is a group"
     ]
    },
    {
     "cell_type": "code",
     "collapsed": false,
     "input": [
      "def g(x): return 1\n",
      "def f(x): return x\n",
      "\n",
      "Latex(Riordan_matrix_latex_code(g, f, x, order=10))"
     ],
     "language": "python",
     "metadata": {},
     "outputs": [
      {
       "latex": [
        "\\begin{equation} \\left( 1, x \\right) = \\left[ \\begin{array}{ccccccccccc}1 &  &  &  &  &  &  &  &  &  &  \\\\ 0 & 1 &  &  &  &  &  &  &  &  &  \\\\ 0 & 0 & 1 &  &  &  &  &  &  &  &  \\\\ 0 & 0 & 0 & 1 &  &  &  &  &  &  &  \\\\ 0 & 0 & 0 & 0 & 1 &  &  &  &  &  &  \\\\ 0 & 0 & 0 & 0 & 0 & 1 &  &  &  &  &  \\\\ 0 & 0 & 0 & 0 & 0 & 0 & 1 &  &  &  &  \\\\ 0 & 0 & 0 & 0 & 0 & 0 & 0 & 1 &  &  &  \\\\ 0 & 0 & 0 & 0 & 0 & 0 & 0 & 0 & 1 &  &  \\\\ 0 & 0 & 0 & 0 & 0 & 0 & 0 & 0 & 0 & 1 &  \\\\ \\vdots & \\vdots & \\vdots & \\vdots & \\vdots & \\vdots & \\vdots & \\vdots & \\vdots & \\vdots & \\ddots\\end{array} \\right] \\end{equation}"
       ],
       "metadata": {},
       "output_type": "pyout",
       "prompt_number": 37,
       "text": [
        "<IPython.core.display.Latex at 0x2b46fe05fda0>"
       ]
      }
     ],
     "prompt_number": 37
    },
    {
     "cell_type": "markdown",
     "metadata": {},
     "source": [
      "## Pascal triangle standard"
     ]
    },
    {
     "cell_type": "markdown",
     "metadata": {},
     "source": [
      "In this section we'll built the standard Pascal triangle, developing the Riordan matrix $(g(x),f(x))$ that represent a matrix such that row $r$ contains coefficients of $(x + y)^r$, namely ${ {r} \\choose {i} }$, for $i \\in \\{0,\\ldots,r\\}$.\n",
      "\n",
      "Since the matrix $$M = \\left({ {j} \\choose {i} }\\right)_{i,j \\geq 0}$$ is well known, we proceed in two step in order to define functions $g(x)$ and $f(x)$, starting with the former one. Observe that $g(x)$ is the same as $C_0(x) = 1 + x + x^2 + x^3 + \\ldots $, so it is a formal power series, where each coefficient equals 1, hence $g(x)$ is the generating function of the sequence $\\{1_n\\}_{n\\in \\mathbb{n}}$, which has a closed form: $$g(x) = \\mathcal{G}\\{1_n\\} = \\frac{1}{1-x}$$\n",
      "\n",
      "Now set for $f(x)$. By definition of Riordan matrix, the expansion of $C_1(x) = g(x)f(x)$ as power series should collect coefficients from the second column, namely the natural numbers. Recall that the generating function of the sequence $\\{n\\}_{n\\in \\mathbb{N}}$ is: $$\\mathcal{G} \\{n\\} = \\mathcal{G}\\{n1_n\\} = x\\frac{\\partial \\mathcal{G}\\{1_n\\}}{\\partial x} = \\frac{x}{(1-x)^2}$$\n",
      "\n",
      "Hence the following equation yields $f(x)$:\n",
      "$$ \\frac{1}{1-x}f(x) = \\frac{x}{(1-x)^2}$$\n",
      "\n",
      "The above reasoning is implemented with the following code:"
     ]
    },
    {
     "cell_type": "code",
     "collapsed": false,
     "input": [
      "def g(x): return 1/(1-x)\n",
      "def f(x): return x/(1-x)\n",
      "\n",
      "Latex(Riordan_matrix_latex_code(g, f, x, order=20))"
     ],
     "language": "python",
     "metadata": {},
     "outputs": [
      {
       "ename": "KeyboardInterrupt",
       "evalue": "",
       "output_type": "pyerr",
       "traceback": [
        "\u001b[1;31m---------------------------------------------------------------------------\u001b[0m\n\u001b[1;31mKeyboardInterrupt\u001b[0m                         Traceback (most recent call last)",
        "\u001b[1;32m<ipython-input-2-5d52185184b5>\u001b[0m in \u001b[0;36m<module>\u001b[1;34m()\u001b[0m\n\u001b[0;32m      2\u001b[0m \u001b[1;32mdef\u001b[0m \u001b[0mf\u001b[0m\u001b[1;33m(\u001b[0m\u001b[0mx\u001b[0m\u001b[1;33m)\u001b[0m\u001b[1;33m:\u001b[0m \u001b[1;32mreturn\u001b[0m \u001b[0mx\u001b[0m\u001b[1;33m/\u001b[0m\u001b[1;33m(\u001b[0m\u001b[1;36m1\u001b[0m\u001b[1;33m-\u001b[0m\u001b[0mx\u001b[0m\u001b[1;33m)\u001b[0m\u001b[1;33m\u001b[0m\u001b[0m\n\u001b[0;32m      3\u001b[0m \u001b[1;33m\u001b[0m\u001b[0m\n\u001b[1;32m----> 4\u001b[1;33m \u001b[0mLatex\u001b[0m\u001b[1;33m(\u001b[0m\u001b[0mRiordan_matrix_latex_code\u001b[0m\u001b[1;33m(\u001b[0m\u001b[0mg\u001b[0m\u001b[1;33m,\u001b[0m \u001b[0mf\u001b[0m\u001b[1;33m,\u001b[0m \u001b[0mx\u001b[0m\u001b[1;33m,\u001b[0m \u001b[0morder\u001b[0m\u001b[1;33m=\u001b[0m\u001b[1;36m20\u001b[0m\u001b[1;33m)\u001b[0m\u001b[1;33m)\u001b[0m\u001b[1;33m\u001b[0m\u001b[0m\n\u001b[0m",
        "\u001b[1;32m/home/mn/Developer/working-copies/uni/master-thesis/sympy/riordan-group.py\u001b[0m in \u001b[0;36mRiordan_matrix_latex_code\u001b[1;34m(g, f, var, order)\u001b[0m\n\u001b[0;32m     29\u001b[0m     \u001b[0mcolumns_as_power_series\u001b[0m \u001b[1;33m=\u001b[0m \u001b[1;33m(\u001b[0m\u001b[0mseries\u001b[0m\u001b[1;33m(\u001b[0m\u001b[0mg\u001b[0m\u001b[1;33m(\u001b[0m\u001b[0mvar\u001b[0m\u001b[1;33m)\u001b[0m \u001b[1;33m*\u001b[0m \u001b[0mf\u001b[0m\u001b[1;33m(\u001b[0m\u001b[0mvar\u001b[0m\u001b[1;33m)\u001b[0m\u001b[1;33m**\u001b[0m\u001b[0mi\u001b[0m\u001b[1;33m,\u001b[0m\u001b[0mx\u001b[0m\u001b[1;33m=\u001b[0m\u001b[0mvar\u001b[0m\u001b[1;33m,\u001b[0m\u001b[0mn\u001b[0m\u001b[1;33m=\u001b[0m\u001b[0morder\u001b[0m\u001b[1;33m)\u001b[0m \u001b[1;32mfor\u001b[0m \u001b[0mi\u001b[0m \u001b[1;32min\u001b[0m \u001b[0mrange\u001b[0m\u001b[1;33m(\u001b[0m\u001b[0morder\u001b[0m\u001b[1;33m)\u001b[0m\u001b[1;33m)\u001b[0m\u001b[1;33m\u001b[0m\u001b[0m\n\u001b[0;32m     30\u001b[0m \u001b[1;33m\u001b[0m\u001b[0m\n\u001b[1;32m---> 31\u001b[1;33m     \u001b[0mcoefficients_per_column\u001b[0m \u001b[1;33m=\u001b[0m \u001b[1;33m[\u001b[0m\u001b[0mcol\u001b[0m\u001b[1;33m.\u001b[0m\u001b[0mas_coefficients_dict\u001b[0m\u001b[1;33m(\u001b[0m\u001b[1;33m)\u001b[0m \u001b[1;32mfor\u001b[0m \u001b[0mcol\u001b[0m \u001b[1;32min\u001b[0m \u001b[0mcolumns_as_power_series\u001b[0m\u001b[1;33m]\u001b[0m\u001b[1;33m\u001b[0m\u001b[0m\n\u001b[0m\u001b[0;32m     32\u001b[0m \u001b[1;33m\u001b[0m\u001b[0m\n\u001b[0;32m     33\u001b[0m     \u001b[0mmatrix_rows\u001b[0m \u001b[1;33m=\u001b[0m \u001b[1;33m[\u001b[0m\u001b[1;33m]\u001b[0m\u001b[1;33m\u001b[0m\u001b[0m\n",
        "\u001b[1;32m/home/mn/Developer/working-copies/uni/master-thesis/sympy/riordan-group.py\u001b[0m in \u001b[0;36m<listcomp>\u001b[1;34m(.0)\u001b[0m\n\u001b[0;32m     29\u001b[0m     \u001b[0mcolumns_as_power_series\u001b[0m \u001b[1;33m=\u001b[0m \u001b[1;33m(\u001b[0m\u001b[0mseries\u001b[0m\u001b[1;33m(\u001b[0m\u001b[0mg\u001b[0m\u001b[1;33m(\u001b[0m\u001b[0mvar\u001b[0m\u001b[1;33m)\u001b[0m \u001b[1;33m*\u001b[0m \u001b[0mf\u001b[0m\u001b[1;33m(\u001b[0m\u001b[0mvar\u001b[0m\u001b[1;33m)\u001b[0m\u001b[1;33m**\u001b[0m\u001b[0mi\u001b[0m\u001b[1;33m,\u001b[0m\u001b[0mx\u001b[0m\u001b[1;33m=\u001b[0m\u001b[0mvar\u001b[0m\u001b[1;33m,\u001b[0m\u001b[0mn\u001b[0m\u001b[1;33m=\u001b[0m\u001b[0morder\u001b[0m\u001b[1;33m)\u001b[0m \u001b[1;32mfor\u001b[0m \u001b[0mi\u001b[0m \u001b[1;32min\u001b[0m \u001b[0mrange\u001b[0m\u001b[1;33m(\u001b[0m\u001b[0morder\u001b[0m\u001b[1;33m)\u001b[0m\u001b[1;33m)\u001b[0m\u001b[1;33m\u001b[0m\u001b[0m\n\u001b[0;32m     30\u001b[0m \u001b[1;33m\u001b[0m\u001b[0m\n\u001b[1;32m---> 31\u001b[1;33m     \u001b[0mcoefficients_per_column\u001b[0m \u001b[1;33m=\u001b[0m \u001b[1;33m[\u001b[0m\u001b[0mcol\u001b[0m\u001b[1;33m.\u001b[0m\u001b[0mas_coefficients_dict\u001b[0m\u001b[1;33m(\u001b[0m\u001b[1;33m)\u001b[0m \u001b[1;32mfor\u001b[0m \u001b[0mcol\u001b[0m \u001b[1;32min\u001b[0m \u001b[0mcolumns_as_power_series\u001b[0m\u001b[1;33m]\u001b[0m\u001b[1;33m\u001b[0m\u001b[0m\n\u001b[0m\u001b[0;32m     32\u001b[0m \u001b[1;33m\u001b[0m\u001b[0m\n\u001b[0;32m     33\u001b[0m     \u001b[0mmatrix_rows\u001b[0m \u001b[1;33m=\u001b[0m \u001b[1;33m[\u001b[0m\u001b[1;33m]\u001b[0m\u001b[1;33m\u001b[0m\u001b[0m\n",
        "\u001b[1;32m/home/mn/Developer/working-copies/uni/master-thesis/sympy/riordan-group.py\u001b[0m in \u001b[0;36m<genexpr>\u001b[1;34m(.0)\u001b[0m\n\u001b[0;32m     27\u001b[0m                 + r'\\end{array} \\right]')\n\u001b[0;32m     28\u001b[0m \u001b[1;33m\u001b[0m\u001b[0m\n\u001b[1;32m---> 29\u001b[1;33m     \u001b[0mcolumns_as_power_series\u001b[0m \u001b[1;33m=\u001b[0m \u001b[1;33m(\u001b[0m\u001b[0mseries\u001b[0m\u001b[1;33m(\u001b[0m\u001b[0mg\u001b[0m\u001b[1;33m(\u001b[0m\u001b[0mvar\u001b[0m\u001b[1;33m)\u001b[0m \u001b[1;33m*\u001b[0m \u001b[0mf\u001b[0m\u001b[1;33m(\u001b[0m\u001b[0mvar\u001b[0m\u001b[1;33m)\u001b[0m\u001b[1;33m**\u001b[0m\u001b[0mi\u001b[0m\u001b[1;33m,\u001b[0m\u001b[0mx\u001b[0m\u001b[1;33m=\u001b[0m\u001b[0mvar\u001b[0m\u001b[1;33m,\u001b[0m\u001b[0mn\u001b[0m\u001b[1;33m=\u001b[0m\u001b[0morder\u001b[0m\u001b[1;33m)\u001b[0m \u001b[1;32mfor\u001b[0m \u001b[0mi\u001b[0m \u001b[1;32min\u001b[0m \u001b[0mrange\u001b[0m\u001b[1;33m(\u001b[0m\u001b[0morder\u001b[0m\u001b[1;33m)\u001b[0m\u001b[1;33m)\u001b[0m\u001b[1;33m\u001b[0m\u001b[0m\n\u001b[0m\u001b[0;32m     30\u001b[0m \u001b[1;33m\u001b[0m\u001b[0m\n\u001b[0;32m     31\u001b[0m     \u001b[0mcoefficients_per_column\u001b[0m \u001b[1;33m=\u001b[0m \u001b[1;33m[\u001b[0m\u001b[0mcol\u001b[0m\u001b[1;33m.\u001b[0m\u001b[0mas_coefficients_dict\u001b[0m\u001b[1;33m(\u001b[0m\u001b[1;33m)\u001b[0m \u001b[1;32mfor\u001b[0m \u001b[0mcol\u001b[0m \u001b[1;32min\u001b[0m \u001b[0mcolumns_as_power_series\u001b[0m\u001b[1;33m]\u001b[0m\u001b[1;33m\u001b[0m\u001b[0m\n",
        "\u001b[1;32m/usr/local/lib/python3.4/site-packages/sympy/series/series.py\u001b[0m in \u001b[0;36mseries\u001b[1;34m(expr, x, x0, n, dir)\u001b[0m\n\u001b[0;32m     10\u001b[0m     \"\"\"\n\u001b[0;32m     11\u001b[0m     \u001b[0mexpr\u001b[0m \u001b[1;33m=\u001b[0m \u001b[0msympify\u001b[0m\u001b[1;33m(\u001b[0m\u001b[0mexpr\u001b[0m\u001b[1;33m)\u001b[0m\u001b[1;33m\u001b[0m\u001b[0m\n\u001b[1;32m---> 12\u001b[1;33m     \u001b[1;32mreturn\u001b[0m \u001b[0mexpr\u001b[0m\u001b[1;33m.\u001b[0m\u001b[0mseries\u001b[0m\u001b[1;33m(\u001b[0m\u001b[0mx\u001b[0m\u001b[1;33m,\u001b[0m \u001b[0mx0\u001b[0m\u001b[1;33m,\u001b[0m \u001b[0mn\u001b[0m\u001b[1;33m,\u001b[0m \u001b[0mdir\u001b[0m\u001b[1;33m)\u001b[0m\u001b[1;33m\u001b[0m\u001b[0m\n\u001b[0m",
        "\u001b[1;32m/usr/local/lib/python3.4/site-packages/sympy/core/expr.py\u001b[0m in \u001b[0;36mseries\u001b[1;34m(self, x, x0, n, dir, logx)\u001b[0m\n\u001b[0;32m   2433\u001b[0m             \u001b[1;31m# replace x with an x that has a positive assumption\u001b[0m\u001b[1;33m\u001b[0m\u001b[1;33m\u001b[0m\u001b[0m\n\u001b[0;32m   2434\u001b[0m             \u001b[0mxpos\u001b[0m \u001b[1;33m=\u001b[0m \u001b[0mC\u001b[0m\u001b[1;33m.\u001b[0m\u001b[0mDummy\u001b[0m\u001b[1;33m(\u001b[0m\u001b[1;34m'x'\u001b[0m\u001b[1;33m,\u001b[0m \u001b[0mpositive\u001b[0m\u001b[1;33m=\u001b[0m\u001b[1;32mTrue\u001b[0m\u001b[1;33m,\u001b[0m \u001b[0mfinite\u001b[0m\u001b[1;33m=\u001b[0m\u001b[1;32mTrue\u001b[0m\u001b[1;33m)\u001b[0m\u001b[1;33m\u001b[0m\u001b[0m\n\u001b[1;32m-> 2435\u001b[1;33m             \u001b[0mrv\u001b[0m \u001b[1;33m=\u001b[0m \u001b[0mself\u001b[0m\u001b[1;33m.\u001b[0m\u001b[0msubs\u001b[0m\u001b[1;33m(\u001b[0m\u001b[0mx\u001b[0m\u001b[1;33m,\u001b[0m \u001b[0mxpos\u001b[0m\u001b[1;33m)\u001b[0m\u001b[1;33m.\u001b[0m\u001b[0mseries\u001b[0m\u001b[1;33m(\u001b[0m\u001b[0mxpos\u001b[0m\u001b[1;33m,\u001b[0m \u001b[0mx0\u001b[0m\u001b[1;33m,\u001b[0m \u001b[0mn\u001b[0m\u001b[1;33m,\u001b[0m \u001b[0mdir\u001b[0m\u001b[1;33m,\u001b[0m \u001b[0mlogx\u001b[0m\u001b[1;33m=\u001b[0m\u001b[0mlogx\u001b[0m\u001b[1;33m)\u001b[0m\u001b[1;33m\u001b[0m\u001b[0m\n\u001b[0m\u001b[0;32m   2436\u001b[0m             \u001b[1;32mif\u001b[0m \u001b[0mn\u001b[0m \u001b[1;32mis\u001b[0m \u001b[1;32mNone\u001b[0m\u001b[1;33m:\u001b[0m\u001b[1;33m\u001b[0m\u001b[0m\n\u001b[0;32m   2437\u001b[0m                 \u001b[1;32mreturn\u001b[0m \u001b[1;33m(\u001b[0m\u001b[0ms\u001b[0m\u001b[1;33m.\u001b[0m\u001b[0msubs\u001b[0m\u001b[1;33m(\u001b[0m\u001b[0mxpos\u001b[0m\u001b[1;33m,\u001b[0m \u001b[0mx\u001b[0m\u001b[1;33m)\u001b[0m \u001b[1;32mfor\u001b[0m \u001b[0ms\u001b[0m \u001b[1;32min\u001b[0m \u001b[0mrv\u001b[0m\u001b[1;33m)\u001b[0m\u001b[1;33m\u001b[0m\u001b[0m\n",
        "\u001b[1;32m/usr/local/lib/python3.4/site-packages/sympy/core/expr.py\u001b[0m in \u001b[0;36mseries\u001b[1;34m(self, x, x0, n, dir, logx)\u001b[0m\n\u001b[0;32m   2440\u001b[0m \u001b[1;33m\u001b[0m\u001b[0m\n\u001b[0;32m   2441\u001b[0m         \u001b[1;32mif\u001b[0m \u001b[0mn\u001b[0m \u001b[1;32mis\u001b[0m \u001b[1;32mnot\u001b[0m \u001b[1;32mNone\u001b[0m\u001b[1;33m:\u001b[0m  \u001b[1;31m# nseries handling\u001b[0m\u001b[1;33m\u001b[0m\u001b[0m\n\u001b[1;32m-> 2442\u001b[1;33m             \u001b[0ms1\u001b[0m \u001b[1;33m=\u001b[0m \u001b[0mself\u001b[0m\u001b[1;33m.\u001b[0m\u001b[0m_eval_nseries\u001b[0m\u001b[1;33m(\u001b[0m\u001b[0mx\u001b[0m\u001b[1;33m,\u001b[0m \u001b[0mn\u001b[0m\u001b[1;33m=\u001b[0m\u001b[0mn\u001b[0m\u001b[1;33m,\u001b[0m \u001b[0mlogx\u001b[0m\u001b[1;33m=\u001b[0m\u001b[0mlogx\u001b[0m\u001b[1;33m)\u001b[0m\u001b[1;33m\u001b[0m\u001b[0m\n\u001b[0m\u001b[0;32m   2443\u001b[0m             \u001b[0mo\u001b[0m \u001b[1;33m=\u001b[0m \u001b[0ms1\u001b[0m\u001b[1;33m.\u001b[0m\u001b[0mgetO\u001b[0m\u001b[1;33m(\u001b[0m\u001b[1;33m)\u001b[0m \u001b[1;32mor\u001b[0m \u001b[0mS\u001b[0m\u001b[1;33m.\u001b[0m\u001b[0mZero\u001b[0m\u001b[1;33m\u001b[0m\u001b[0m\n\u001b[0;32m   2444\u001b[0m             \u001b[1;32mif\u001b[0m \u001b[0mo\u001b[0m\u001b[1;33m:\u001b[0m\u001b[1;33m\u001b[0m\u001b[0m\n",
        "\u001b[1;32m/usr/local/lib/python3.4/site-packages/sympy/core/mul.py\u001b[0m in \u001b[0;36m_eval_nseries\u001b[1;34m(self, x, n, logx)\u001b[0m\n\u001b[0;32m   1444\u001b[0m     \u001b[1;32mdef\u001b[0m \u001b[0m_eval_nseries\u001b[0m\u001b[1;33m(\u001b[0m\u001b[0mself\u001b[0m\u001b[1;33m,\u001b[0m \u001b[0mx\u001b[0m\u001b[1;33m,\u001b[0m \u001b[0mn\u001b[0m\u001b[1;33m,\u001b[0m \u001b[0mlogx\u001b[0m\u001b[1;33m)\u001b[0m\u001b[1;33m:\u001b[0m\u001b[1;33m\u001b[0m\u001b[0m\n\u001b[0;32m   1445\u001b[0m         \u001b[1;32mfrom\u001b[0m \u001b[0msympy\u001b[0m \u001b[1;32mimport\u001b[0m \u001b[0mpowsimp\u001b[0m\u001b[1;33m\u001b[0m\u001b[0m\n\u001b[1;32m-> 1446\u001b[1;33m         \u001b[0mterms\u001b[0m \u001b[1;33m=\u001b[0m \u001b[1;33m[\u001b[0m\u001b[0mt\u001b[0m\u001b[1;33m.\u001b[0m\u001b[0mnseries\u001b[0m\u001b[1;33m(\u001b[0m\u001b[0mx\u001b[0m\u001b[1;33m,\u001b[0m \u001b[0mn\u001b[0m\u001b[1;33m=\u001b[0m\u001b[0mn\u001b[0m\u001b[1;33m,\u001b[0m \u001b[0mlogx\u001b[0m\u001b[1;33m=\u001b[0m\u001b[0mlogx\u001b[0m\u001b[1;33m)\u001b[0m \u001b[1;32mfor\u001b[0m \u001b[0mt\u001b[0m \u001b[1;32min\u001b[0m \u001b[0mself\u001b[0m\u001b[1;33m.\u001b[0m\u001b[0margs\u001b[0m\u001b[1;33m]\u001b[0m\u001b[1;33m\u001b[0m\u001b[0m\n\u001b[0m\u001b[0;32m   1447\u001b[0m         \u001b[0mres\u001b[0m \u001b[1;33m=\u001b[0m \u001b[0mpowsimp\u001b[0m\u001b[1;33m(\u001b[0m\u001b[0mself\u001b[0m\u001b[1;33m.\u001b[0m\u001b[0mfunc\u001b[0m\u001b[1;33m(\u001b[0m\u001b[1;33m*\u001b[0m\u001b[0mterms\u001b[0m\u001b[1;33m)\u001b[0m\u001b[1;33m.\u001b[0m\u001b[0mexpand\u001b[0m\u001b[1;33m(\u001b[0m\u001b[1;33m)\u001b[0m\u001b[1;33m,\u001b[0m \u001b[0mcombine\u001b[0m\u001b[1;33m=\u001b[0m\u001b[1;34m'exp'\u001b[0m\u001b[1;33m,\u001b[0m \u001b[0mdeep\u001b[0m\u001b[1;33m=\u001b[0m\u001b[1;32mTrue\u001b[0m\u001b[1;33m)\u001b[0m\u001b[1;33m\u001b[0m\u001b[0m\n\u001b[0;32m   1448\u001b[0m         \u001b[1;32mif\u001b[0m \u001b[0mres\u001b[0m\u001b[1;33m.\u001b[0m\u001b[0mhas\u001b[0m\u001b[1;33m(\u001b[0m\u001b[0mC\u001b[0m\u001b[1;33m.\u001b[0m\u001b[0mOrder\u001b[0m\u001b[1;33m)\u001b[0m\u001b[1;33m:\u001b[0m\u001b[1;33m\u001b[0m\u001b[0m\n",
        "\u001b[1;32m/usr/local/lib/python3.4/site-packages/sympy/core/mul.py\u001b[0m in \u001b[0;36m<listcomp>\u001b[1;34m(.0)\u001b[0m\n\u001b[0;32m   1444\u001b[0m     \u001b[1;32mdef\u001b[0m \u001b[0m_eval_nseries\u001b[0m\u001b[1;33m(\u001b[0m\u001b[0mself\u001b[0m\u001b[1;33m,\u001b[0m \u001b[0mx\u001b[0m\u001b[1;33m,\u001b[0m \u001b[0mn\u001b[0m\u001b[1;33m,\u001b[0m \u001b[0mlogx\u001b[0m\u001b[1;33m)\u001b[0m\u001b[1;33m:\u001b[0m\u001b[1;33m\u001b[0m\u001b[0m\n\u001b[0;32m   1445\u001b[0m         \u001b[1;32mfrom\u001b[0m \u001b[0msympy\u001b[0m \u001b[1;32mimport\u001b[0m \u001b[0mpowsimp\u001b[0m\u001b[1;33m\u001b[0m\u001b[0m\n\u001b[1;32m-> 1446\u001b[1;33m         \u001b[0mterms\u001b[0m \u001b[1;33m=\u001b[0m \u001b[1;33m[\u001b[0m\u001b[0mt\u001b[0m\u001b[1;33m.\u001b[0m\u001b[0mnseries\u001b[0m\u001b[1;33m(\u001b[0m\u001b[0mx\u001b[0m\u001b[1;33m,\u001b[0m \u001b[0mn\u001b[0m\u001b[1;33m=\u001b[0m\u001b[0mn\u001b[0m\u001b[1;33m,\u001b[0m \u001b[0mlogx\u001b[0m\u001b[1;33m=\u001b[0m\u001b[0mlogx\u001b[0m\u001b[1;33m)\u001b[0m \u001b[1;32mfor\u001b[0m \u001b[0mt\u001b[0m \u001b[1;32min\u001b[0m \u001b[0mself\u001b[0m\u001b[1;33m.\u001b[0m\u001b[0margs\u001b[0m\u001b[1;33m]\u001b[0m\u001b[1;33m\u001b[0m\u001b[0m\n\u001b[0m\u001b[0;32m   1447\u001b[0m         \u001b[0mres\u001b[0m \u001b[1;33m=\u001b[0m \u001b[0mpowsimp\u001b[0m\u001b[1;33m(\u001b[0m\u001b[0mself\u001b[0m\u001b[1;33m.\u001b[0m\u001b[0mfunc\u001b[0m\u001b[1;33m(\u001b[0m\u001b[1;33m*\u001b[0m\u001b[0mterms\u001b[0m\u001b[1;33m)\u001b[0m\u001b[1;33m.\u001b[0m\u001b[0mexpand\u001b[0m\u001b[1;33m(\u001b[0m\u001b[1;33m)\u001b[0m\u001b[1;33m,\u001b[0m \u001b[0mcombine\u001b[0m\u001b[1;33m=\u001b[0m\u001b[1;34m'exp'\u001b[0m\u001b[1;33m,\u001b[0m \u001b[0mdeep\u001b[0m\u001b[1;33m=\u001b[0m\u001b[1;32mTrue\u001b[0m\u001b[1;33m)\u001b[0m\u001b[1;33m\u001b[0m\u001b[0m\n\u001b[0;32m   1448\u001b[0m         \u001b[1;32mif\u001b[0m \u001b[0mres\u001b[0m\u001b[1;33m.\u001b[0m\u001b[0mhas\u001b[0m\u001b[1;33m(\u001b[0m\u001b[0mC\u001b[0m\u001b[1;33m.\u001b[0m\u001b[0mOrder\u001b[0m\u001b[1;33m)\u001b[0m\u001b[1;33m:\u001b[0m\u001b[1;33m\u001b[0m\u001b[0m\n",
        "\u001b[1;32m/usr/local/lib/python3.4/site-packages/sympy/core/expr.py\u001b[0m in \u001b[0;36mnseries\u001b[1;34m(self, x, x0, n, dir, logx)\u001b[0m\n\u001b[0;32m   2637\u001b[0m             \u001b[1;32mreturn\u001b[0m \u001b[0mself\u001b[0m\u001b[1;33m.\u001b[0m\u001b[0mseries\u001b[0m\u001b[1;33m(\u001b[0m\u001b[0mx\u001b[0m\u001b[1;33m,\u001b[0m \u001b[0mx0\u001b[0m\u001b[1;33m,\u001b[0m \u001b[0mn\u001b[0m\u001b[1;33m,\u001b[0m \u001b[0mdir\u001b[0m\u001b[1;33m)\u001b[0m\u001b[1;33m\u001b[0m\u001b[0m\n\u001b[0;32m   2638\u001b[0m         \u001b[1;32melse\u001b[0m\u001b[1;33m:\u001b[0m\u001b[1;33m\u001b[0m\u001b[0m\n\u001b[1;32m-> 2639\u001b[1;33m             \u001b[1;32mreturn\u001b[0m \u001b[0mself\u001b[0m\u001b[1;33m.\u001b[0m\u001b[0m_eval_nseries\u001b[0m\u001b[1;33m(\u001b[0m\u001b[0mx\u001b[0m\u001b[1;33m,\u001b[0m \u001b[0mn\u001b[0m\u001b[1;33m=\u001b[0m\u001b[0mn\u001b[0m\u001b[1;33m,\u001b[0m \u001b[0mlogx\u001b[0m\u001b[1;33m=\u001b[0m\u001b[0mlogx\u001b[0m\u001b[1;33m)\u001b[0m\u001b[1;33m\u001b[0m\u001b[0m\n\u001b[0m\u001b[0;32m   2640\u001b[0m \u001b[1;33m\u001b[0m\u001b[0m\n\u001b[0;32m   2641\u001b[0m     \u001b[1;32mdef\u001b[0m \u001b[0m_eval_nseries\u001b[0m\u001b[1;33m(\u001b[0m\u001b[0mself\u001b[0m\u001b[1;33m,\u001b[0m \u001b[0mx\u001b[0m\u001b[1;33m,\u001b[0m \u001b[0mn\u001b[0m\u001b[1;33m,\u001b[0m \u001b[0mlogx\u001b[0m\u001b[1;33m)\u001b[0m\u001b[1;33m:\u001b[0m\u001b[1;33m\u001b[0m\u001b[0m\n",
        "\u001b[1;32m/usr/local/lib/python3.4/site-packages/sympy/core/power.py\u001b[0m in \u001b[0;36m_eval_nseries\u001b[1;34m(self, x, n, logx)\u001b[0m\n\u001b[0;32m   1149\u001b[0m                     \u001b[1;32mreturn\u001b[0m \u001b[0mself\u001b[0m\u001b[1;33m\u001b[0m\u001b[0m\n\u001b[0;32m   1150\u001b[0m                 \u001b[1;31m# now we have a type 1/f(x), that we know how to expand\u001b[0m\u001b[1;33m\u001b[0m\u001b[1;33m\u001b[0m\u001b[0m\n\u001b[1;32m-> 1151\u001b[1;33m                 \u001b[1;32mreturn\u001b[0m \u001b[1;33m(\u001b[0m\u001b[1;36m1\u001b[0m\u001b[1;33m/\u001b[0m\u001b[0mdenominator\u001b[0m\u001b[1;33m)\u001b[0m\u001b[1;33m.\u001b[0m\u001b[0m_eval_nseries\u001b[0m\u001b[1;33m(\u001b[0m\u001b[0mx\u001b[0m\u001b[1;33m,\u001b[0m \u001b[0mn\u001b[0m\u001b[1;33m=\u001b[0m\u001b[0mn\u001b[0m\u001b[1;33m,\u001b[0m \u001b[0mlogx\u001b[0m\u001b[1;33m=\u001b[0m\u001b[0mlogx\u001b[0m\u001b[1;33m)\u001b[0m\u001b[1;33m\u001b[0m\u001b[0m\n\u001b[0m\u001b[0;32m   1152\u001b[0m \u001b[1;33m\u001b[0m\u001b[0m\n\u001b[0;32m   1153\u001b[0m         \u001b[1;32mif\u001b[0m \u001b[0me\u001b[0m\u001b[1;33m.\u001b[0m\u001b[0mhas\u001b[0m\u001b[1;33m(\u001b[0m\u001b[0mSymbol\u001b[0m\u001b[1;33m)\u001b[0m\u001b[1;33m:\u001b[0m\u001b[1;33m\u001b[0m\u001b[0m\n",
        "\u001b[1;32m/usr/local/lib/python3.4/site-packages/sympy/core/power.py\u001b[0m in \u001b[0;36m_eval_nseries\u001b[1;34m(self, x, n, logx)\u001b[0m\n\u001b[0;32m   1136\u001b[0m                     \u001b[0mterms\u001b[0m\u001b[1;33m.\u001b[0m\u001b[0mappend\u001b[0m\u001b[1;33m(\u001b[0m\u001b[0mnew_term\u001b[0m\u001b[1;33m)\u001b[0m\u001b[1;33m\u001b[0m\u001b[0m\n\u001b[0;32m   1137\u001b[0m                 \u001b[0mterms\u001b[0m\u001b[1;33m.\u001b[0m\u001b[0mappend\u001b[0m\u001b[1;33m(\u001b[0m\u001b[0mO\u001b[0m\u001b[1;33m(\u001b[0m\u001b[0mx\u001b[0m\u001b[1;33m**\u001b[0m\u001b[0mn\u001b[0m\u001b[1;33m,\u001b[0m \u001b[0mx\u001b[0m\u001b[1;33m)\u001b[0m\u001b[1;33m)\u001b[0m\u001b[1;33m\u001b[0m\u001b[0m\n\u001b[1;32m-> 1138\u001b[1;33m                 \u001b[1;32mreturn\u001b[0m \u001b[0mpowsimp\u001b[0m\u001b[1;33m(\u001b[0m\u001b[0mAdd\u001b[0m\u001b[1;33m(\u001b[0m\u001b[1;33m*\u001b[0m\u001b[0mterms\u001b[0m\u001b[1;33m)\u001b[0m\u001b[1;33m,\u001b[0m \u001b[0mdeep\u001b[0m\u001b[1;33m=\u001b[0m\u001b[1;32mTrue\u001b[0m\u001b[1;33m,\u001b[0m \u001b[0mcombine\u001b[0m\u001b[1;33m=\u001b[0m\u001b[1;34m'exp'\u001b[0m\u001b[1;33m)\u001b[0m\u001b[1;33m\u001b[0m\u001b[0m\n\u001b[0m\u001b[0;32m   1139\u001b[0m             \u001b[1;32melse\u001b[0m\u001b[1;33m:\u001b[0m\u001b[1;33m\u001b[0m\u001b[0m\n\u001b[0;32m   1140\u001b[0m                 \u001b[1;31m# negative powers are rewritten to the cases above, for\u001b[0m\u001b[1;33m\u001b[0m\u001b[1;33m\u001b[0m\u001b[0m\n",
        "\u001b[1;32m/usr/local/lib/python3.4/site-packages/sympy/core/cache.py\u001b[0m in \u001b[0;36mwrapper\u001b[1;34m(*args, **kwargs)\u001b[0m\n\u001b[0;32m     89\u001b[0m             \u001b[1;32mdef\u001b[0m \u001b[0mwrapper\u001b[0m\u001b[1;33m(\u001b[0m\u001b[1;33m*\u001b[0m\u001b[0margs\u001b[0m\u001b[1;33m,\u001b[0m \u001b[1;33m**\u001b[0m\u001b[0mkwargs\u001b[0m\u001b[1;33m)\u001b[0m\u001b[1;33m:\u001b[0m\u001b[1;33m\u001b[0m\u001b[0m\n\u001b[0;32m     90\u001b[0m                 \u001b[1;32mtry\u001b[0m\u001b[1;33m:\u001b[0m\u001b[1;33m\u001b[0m\u001b[0m\n\u001b[1;32m---> 91\u001b[1;33m                     \u001b[0mretval\u001b[0m \u001b[1;33m=\u001b[0m \u001b[0mcfunc\u001b[0m\u001b[1;33m(\u001b[0m\u001b[1;33m*\u001b[0m\u001b[0margs\u001b[0m\u001b[1;33m,\u001b[0m \u001b[1;33m**\u001b[0m\u001b[0mkwargs\u001b[0m\u001b[1;33m)\u001b[0m\u001b[1;33m\u001b[0m\u001b[0m\n\u001b[0m\u001b[0;32m     92\u001b[0m                 \u001b[1;32mexcept\u001b[0m \u001b[0mTypeError\u001b[0m\u001b[1;33m:\u001b[0m\u001b[1;33m\u001b[0m\u001b[0m\n\u001b[0;32m     93\u001b[0m                     \u001b[0mretval\u001b[0m \u001b[1;33m=\u001b[0m \u001b[0mfunc\u001b[0m\u001b[1;33m(\u001b[0m\u001b[1;33m*\u001b[0m\u001b[0margs\u001b[0m\u001b[1;33m,\u001b[0m \u001b[1;33m**\u001b[0m\u001b[0mkwargs\u001b[0m\u001b[1;33m)\u001b[0m\u001b[1;33m\u001b[0m\u001b[0m\n",
        "\u001b[1;32m/usr/local/lib/python3.4/functools.py\u001b[0m in \u001b[0;36mwrapper\u001b[1;34m(*args, **kwds)\u001b[0m\n\u001b[0;32m    450\u001b[0m                         \u001b[0mhits\u001b[0m \u001b[1;33m+=\u001b[0m \u001b[1;36m1\u001b[0m\u001b[1;33m\u001b[0m\u001b[0m\n\u001b[0;32m    451\u001b[0m                         \u001b[1;32mreturn\u001b[0m \u001b[0mresult\u001b[0m\u001b[1;33m\u001b[0m\u001b[0m\n\u001b[1;32m--> 452\u001b[1;33m                 \u001b[0mresult\u001b[0m \u001b[1;33m=\u001b[0m \u001b[0muser_function\u001b[0m\u001b[1;33m(\u001b[0m\u001b[1;33m*\u001b[0m\u001b[0margs\u001b[0m\u001b[1;33m,\u001b[0m \u001b[1;33m**\u001b[0m\u001b[0mkwds\u001b[0m\u001b[1;33m)\u001b[0m\u001b[1;33m\u001b[0m\u001b[0m\n\u001b[0m\u001b[0;32m    453\u001b[0m                 \u001b[1;32mwith\u001b[0m \u001b[0mlock\u001b[0m\u001b[1;33m:\u001b[0m\u001b[1;33m\u001b[0m\u001b[0m\n\u001b[0;32m    454\u001b[0m                     \u001b[1;32mif\u001b[0m \u001b[0mkey\u001b[0m \u001b[1;32min\u001b[0m \u001b[0mcache\u001b[0m\u001b[1;33m:\u001b[0m\u001b[1;33m\u001b[0m\u001b[0m\n",
        "\u001b[1;32m/usr/local/lib/python3.4/site-packages/sympy/core/operations.py\u001b[0m in \u001b[0;36m__new__\u001b[1;34m(cls, *args, **options)\u001b[0m\n\u001b[0;32m     39\u001b[0m             \u001b[1;32mreturn\u001b[0m \u001b[0margs\u001b[0m\u001b[1;33m[\u001b[0m\u001b[1;36m0\u001b[0m\u001b[1;33m]\u001b[0m\u001b[1;33m\u001b[0m\u001b[0m\n\u001b[0;32m     40\u001b[0m \u001b[1;33m\u001b[0m\u001b[0m\n\u001b[1;32m---> 41\u001b[1;33m         \u001b[0mc_part\u001b[0m\u001b[1;33m,\u001b[0m \u001b[0mnc_part\u001b[0m\u001b[1;33m,\u001b[0m \u001b[0morder_symbols\u001b[0m \u001b[1;33m=\u001b[0m \u001b[0mcls\u001b[0m\u001b[1;33m.\u001b[0m\u001b[0mflatten\u001b[0m\u001b[1;33m(\u001b[0m\u001b[0margs\u001b[0m\u001b[1;33m)\u001b[0m\u001b[1;33m\u001b[0m\u001b[0m\n\u001b[0m\u001b[0;32m     42\u001b[0m         \u001b[0mis_commutative\u001b[0m \u001b[1;33m=\u001b[0m \u001b[1;32mnot\u001b[0m \u001b[0mnc_part\u001b[0m\u001b[1;33m\u001b[0m\u001b[0m\n\u001b[0;32m     43\u001b[0m         \u001b[0mobj\u001b[0m \u001b[1;33m=\u001b[0m \u001b[0mcls\u001b[0m\u001b[1;33m.\u001b[0m\u001b[0m_from_args\u001b[0m\u001b[1;33m(\u001b[0m\u001b[0mc_part\u001b[0m \u001b[1;33m+\u001b[0m \u001b[0mnc_part\u001b[0m\u001b[1;33m,\u001b[0m \u001b[0mis_commutative\u001b[0m\u001b[1;33m)\u001b[0m\u001b[1;33m\u001b[0m\u001b[0m\n",
        "\u001b[1;32m/usr/local/lib/python3.4/site-packages/sympy/core/add.py\u001b[0m in \u001b[0;36mflatten\u001b[1;34m(cls, seq)\u001b[0m\n\u001b[0;32m    241\u001b[0m                 \u001b[1;32mfor\u001b[0m \u001b[0mo\u001b[0m \u001b[1;32min\u001b[0m \u001b[0morder_factors\u001b[0m\u001b[1;33m:\u001b[0m\u001b[1;33m\u001b[0m\u001b[0m\n\u001b[0;32m    242\u001b[0m                     \u001b[1;31m# x + O(x) -> O(x)\u001b[0m\u001b[1;33m\u001b[0m\u001b[1;33m\u001b[0m\u001b[0m\n\u001b[1;32m--> 243\u001b[1;33m                     \u001b[1;32mif\u001b[0m \u001b[0mo\u001b[0m\u001b[1;33m.\u001b[0m\u001b[0mcontains\u001b[0m\u001b[1;33m(\u001b[0m\u001b[0mt\u001b[0m\u001b[1;33m)\u001b[0m\u001b[1;33m:\u001b[0m\u001b[1;33m\u001b[0m\u001b[0m\n\u001b[0m\u001b[0;32m    244\u001b[0m                         \u001b[0mt\u001b[0m \u001b[1;33m=\u001b[0m \u001b[1;32mNone\u001b[0m\u001b[1;33m\u001b[0m\u001b[0m\n\u001b[0;32m    245\u001b[0m                         \u001b[1;32mbreak\u001b[0m\u001b[1;33m\u001b[0m\u001b[0m\n",
        "\u001b[1;32m/usr/local/lib/python3.4/site-packages/sympy/core/cache.py\u001b[0m in \u001b[0;36mwrapper\u001b[1;34m(*args, **kwargs)\u001b[0m\n\u001b[0;32m     89\u001b[0m             \u001b[1;32mdef\u001b[0m \u001b[0mwrapper\u001b[0m\u001b[1;33m(\u001b[0m\u001b[1;33m*\u001b[0m\u001b[0margs\u001b[0m\u001b[1;33m,\u001b[0m \u001b[1;33m**\u001b[0m\u001b[0mkwargs\u001b[0m\u001b[1;33m)\u001b[0m\u001b[1;33m:\u001b[0m\u001b[1;33m\u001b[0m\u001b[0m\n\u001b[0;32m     90\u001b[0m                 \u001b[1;32mtry\u001b[0m\u001b[1;33m:\u001b[0m\u001b[1;33m\u001b[0m\u001b[0m\n\u001b[1;32m---> 91\u001b[1;33m                     \u001b[0mretval\u001b[0m \u001b[1;33m=\u001b[0m \u001b[0mcfunc\u001b[0m\u001b[1;33m(\u001b[0m\u001b[1;33m*\u001b[0m\u001b[0margs\u001b[0m\u001b[1;33m,\u001b[0m \u001b[1;33m**\u001b[0m\u001b[0mkwargs\u001b[0m\u001b[1;33m)\u001b[0m\u001b[1;33m\u001b[0m\u001b[0m\n\u001b[0m\u001b[0;32m     92\u001b[0m                 \u001b[1;32mexcept\u001b[0m \u001b[0mTypeError\u001b[0m\u001b[1;33m:\u001b[0m\u001b[1;33m\u001b[0m\u001b[0m\n\u001b[0;32m     93\u001b[0m                     \u001b[0mretval\u001b[0m \u001b[1;33m=\u001b[0m \u001b[0mfunc\u001b[0m\u001b[1;33m(\u001b[0m\u001b[1;33m*\u001b[0m\u001b[0margs\u001b[0m\u001b[1;33m,\u001b[0m \u001b[1;33m**\u001b[0m\u001b[0mkwargs\u001b[0m\u001b[1;33m)\u001b[0m\u001b[1;33m\u001b[0m\u001b[0m\n",
        "\u001b[1;32m/usr/local/lib/python3.4/functools.py\u001b[0m in \u001b[0;36mwrapper\u001b[1;34m(*args, **kwds)\u001b[0m\n\u001b[0;32m    450\u001b[0m                         \u001b[0mhits\u001b[0m \u001b[1;33m+=\u001b[0m \u001b[1;36m1\u001b[0m\u001b[1;33m\u001b[0m\u001b[0m\n\u001b[0;32m    451\u001b[0m                         \u001b[1;32mreturn\u001b[0m \u001b[0mresult\u001b[0m\u001b[1;33m\u001b[0m\u001b[0m\n\u001b[1;32m--> 452\u001b[1;33m                 \u001b[0mresult\u001b[0m \u001b[1;33m=\u001b[0m \u001b[0muser_function\u001b[0m\u001b[1;33m(\u001b[0m\u001b[1;33m*\u001b[0m\u001b[0margs\u001b[0m\u001b[1;33m,\u001b[0m \u001b[1;33m**\u001b[0m\u001b[0mkwds\u001b[0m\u001b[1;33m)\u001b[0m\u001b[1;33m\u001b[0m\u001b[0m\n\u001b[0m\u001b[0;32m    453\u001b[0m                 \u001b[1;32mwith\u001b[0m \u001b[0mlock\u001b[0m\u001b[1;33m:\u001b[0m\u001b[1;33m\u001b[0m\u001b[0m\n\u001b[0;32m    454\u001b[0m                     \u001b[1;32mif\u001b[0m \u001b[0mkey\u001b[0m \u001b[1;32min\u001b[0m \u001b[0mcache\u001b[0m\u001b[1;33m:\u001b[0m\u001b[1;33m\u001b[0m\u001b[0m\n",
        "\u001b[1;32m/usr/local/lib/python3.4/site-packages/sympy/series/order.py\u001b[0m in \u001b[0;36mcontains\u001b[1;34m(self, expr)\u001b[0m\n\u001b[0;32m    382\u001b[0m             \u001b[1;32mreturn\u001b[0m \u001b[0mr\u001b[0m\u001b[1;33m\u001b[0m\u001b[0m\n\u001b[0;32m    383\u001b[0m         \u001b[0mobj\u001b[0m \u001b[1;33m=\u001b[0m \u001b[0mself\u001b[0m\u001b[1;33m.\u001b[0m\u001b[0mfunc\u001b[0m\u001b[1;33m(\u001b[0m\u001b[0mexpr\u001b[0m\u001b[1;33m,\u001b[0m \u001b[1;33m*\u001b[0m\u001b[0mself\u001b[0m\u001b[1;33m.\u001b[0m\u001b[0margs\u001b[0m\u001b[1;33m[\u001b[0m\u001b[1;36m1\u001b[0m\u001b[1;33m:\u001b[0m\u001b[1;33m]\u001b[0m\u001b[1;33m)\u001b[0m\u001b[1;33m\u001b[0m\u001b[0m\n\u001b[1;32m--> 384\u001b[1;33m         \u001b[1;32mreturn\u001b[0m \u001b[0mself\u001b[0m\u001b[1;33m.\u001b[0m\u001b[0mcontains\u001b[0m\u001b[1;33m(\u001b[0m\u001b[0mobj\u001b[0m\u001b[1;33m)\u001b[0m\u001b[1;33m\u001b[0m\u001b[0m\n\u001b[0m\u001b[0;32m    385\u001b[0m \u001b[1;33m\u001b[0m\u001b[0m\n\u001b[0;32m    386\u001b[0m     \u001b[1;32mdef\u001b[0m \u001b[0m__contains__\u001b[0m\u001b[1;33m(\u001b[0m\u001b[0mself\u001b[0m\u001b[1;33m,\u001b[0m \u001b[0mother\u001b[0m\u001b[1;33m)\u001b[0m\u001b[1;33m:\u001b[0m\u001b[1;33m\u001b[0m\u001b[0m\n",
        "\u001b[1;32m/usr/local/lib/python3.4/site-packages/sympy/core/cache.py\u001b[0m in \u001b[0;36mwrapper\u001b[1;34m(*args, **kwargs)\u001b[0m\n\u001b[0;32m     89\u001b[0m             \u001b[1;32mdef\u001b[0m \u001b[0mwrapper\u001b[0m\u001b[1;33m(\u001b[0m\u001b[1;33m*\u001b[0m\u001b[0margs\u001b[0m\u001b[1;33m,\u001b[0m \u001b[1;33m**\u001b[0m\u001b[0mkwargs\u001b[0m\u001b[1;33m)\u001b[0m\u001b[1;33m:\u001b[0m\u001b[1;33m\u001b[0m\u001b[0m\n\u001b[0;32m     90\u001b[0m                 \u001b[1;32mtry\u001b[0m\u001b[1;33m:\u001b[0m\u001b[1;33m\u001b[0m\u001b[0m\n\u001b[1;32m---> 91\u001b[1;33m                     \u001b[0mretval\u001b[0m \u001b[1;33m=\u001b[0m \u001b[0mcfunc\u001b[0m\u001b[1;33m(\u001b[0m\u001b[1;33m*\u001b[0m\u001b[0margs\u001b[0m\u001b[1;33m,\u001b[0m \u001b[1;33m**\u001b[0m\u001b[0mkwargs\u001b[0m\u001b[1;33m)\u001b[0m\u001b[1;33m\u001b[0m\u001b[0m\n\u001b[0m\u001b[0;32m     92\u001b[0m                 \u001b[1;32mexcept\u001b[0m \u001b[0mTypeError\u001b[0m\u001b[1;33m:\u001b[0m\u001b[1;33m\u001b[0m\u001b[0m\n\u001b[0;32m     93\u001b[0m                     \u001b[0mretval\u001b[0m \u001b[1;33m=\u001b[0m \u001b[0mfunc\u001b[0m\u001b[1;33m(\u001b[0m\u001b[1;33m*\u001b[0m\u001b[0margs\u001b[0m\u001b[1;33m,\u001b[0m \u001b[1;33m**\u001b[0m\u001b[0mkwargs\u001b[0m\u001b[1;33m)\u001b[0m\u001b[1;33m\u001b[0m\u001b[0m\n",
        "\u001b[1;32m/usr/local/lib/python3.4/functools.py\u001b[0m in \u001b[0;36mwrapper\u001b[1;34m(*args, **kwds)\u001b[0m\n\u001b[0;32m    450\u001b[0m                         \u001b[0mhits\u001b[0m \u001b[1;33m+=\u001b[0m \u001b[1;36m1\u001b[0m\u001b[1;33m\u001b[0m\u001b[0m\n\u001b[0;32m    451\u001b[0m                         \u001b[1;32mreturn\u001b[0m \u001b[0mresult\u001b[0m\u001b[1;33m\u001b[0m\u001b[0m\n\u001b[1;32m--> 452\u001b[1;33m                 \u001b[0mresult\u001b[0m \u001b[1;33m=\u001b[0m \u001b[0muser_function\u001b[0m\u001b[1;33m(\u001b[0m\u001b[1;33m*\u001b[0m\u001b[0margs\u001b[0m\u001b[1;33m,\u001b[0m \u001b[1;33m**\u001b[0m\u001b[0mkwds\u001b[0m\u001b[1;33m)\u001b[0m\u001b[1;33m\u001b[0m\u001b[0m\n\u001b[0m\u001b[0;32m    453\u001b[0m                 \u001b[1;32mwith\u001b[0m \u001b[0mlock\u001b[0m\u001b[1;33m:\u001b[0m\u001b[1;33m\u001b[0m\u001b[0m\n\u001b[0;32m    454\u001b[0m                     \u001b[1;32mif\u001b[0m \u001b[0mkey\u001b[0m \u001b[1;32min\u001b[0m \u001b[0mcache\u001b[0m\u001b[1;33m:\u001b[0m\u001b[1;33m\u001b[0m\u001b[0m\n",
        "\u001b[1;32m/usr/local/lib/python3.4/site-packages/sympy/series/order.py\u001b[0m in \u001b[0;36mcontains\u001b[1;34m(self, expr)\u001b[0m\n\u001b[0;32m    370\u001b[0m             \u001b[0mratio\u001b[0m \u001b[1;33m=\u001b[0m \u001b[0mpowsimp\u001b[0m\u001b[1;33m(\u001b[0m\u001b[0mratio\u001b[0m\u001b[1;33m,\u001b[0m \u001b[0mdeep\u001b[0m\u001b[1;33m=\u001b[0m\u001b[1;32mTrue\u001b[0m\u001b[1;33m,\u001b[0m \u001b[0mcombine\u001b[0m\u001b[1;33m=\u001b[0m\u001b[1;34m'exp'\u001b[0m\u001b[1;33m)\u001b[0m\u001b[1;33m\u001b[0m\u001b[0m\n\u001b[0;32m    371\u001b[0m             \u001b[1;32mfor\u001b[0m \u001b[0ms\u001b[0m \u001b[1;32min\u001b[0m \u001b[0mcommon_symbols\u001b[0m\u001b[1;33m:\u001b[0m\u001b[1;33m\u001b[0m\u001b[0m\n\u001b[1;32m--> 372\u001b[1;33m                 \u001b[0ml\u001b[0m \u001b[1;33m=\u001b[0m \u001b[0mratio\u001b[0m\u001b[1;33m.\u001b[0m\u001b[0mlimit\u001b[0m\u001b[1;33m(\u001b[0m\u001b[0ms\u001b[0m\u001b[1;33m,\u001b[0m \u001b[0mpoint\u001b[0m\u001b[1;33m)\u001b[0m\u001b[1;33m\u001b[0m\u001b[0m\n\u001b[0m\u001b[0;32m    373\u001b[0m                 \u001b[1;32mif\u001b[0m \u001b[1;32mnot\u001b[0m \u001b[0misinstance\u001b[0m\u001b[1;33m(\u001b[0m\u001b[0ml\u001b[0m\u001b[1;33m,\u001b[0m \u001b[0mC\u001b[0m\u001b[1;33m.\u001b[0m\u001b[0mLimit\u001b[0m\u001b[1;33m)\u001b[0m\u001b[1;33m:\u001b[0m\u001b[1;33m\u001b[0m\u001b[0m\n\u001b[0;32m    374\u001b[0m                     \u001b[0ml\u001b[0m \u001b[1;33m=\u001b[0m \u001b[0ml\u001b[0m \u001b[1;33m!=\u001b[0m \u001b[1;36m0\u001b[0m\u001b[1;33m\u001b[0m\u001b[0m\n",
        "\u001b[1;32m/usr/local/lib/python3.4/site-packages/sympy/core/expr.py\u001b[0m in \u001b[0;36mlimit\u001b[1;34m(self, x, xlim, dir)\u001b[0m\n\u001b[0;32m   2660\u001b[0m         \"\"\"\n\u001b[0;32m   2661\u001b[0m         \u001b[1;32mfrom\u001b[0m \u001b[0msympy\u001b[0m\u001b[1;33m.\u001b[0m\u001b[0mseries\u001b[0m\u001b[1;33m.\u001b[0m\u001b[0mlimits\u001b[0m \u001b[1;32mimport\u001b[0m \u001b[0mlimit\u001b[0m\u001b[1;33m\u001b[0m\u001b[0m\n\u001b[1;32m-> 2662\u001b[1;33m         \u001b[1;32mreturn\u001b[0m \u001b[0mlimit\u001b[0m\u001b[1;33m(\u001b[0m\u001b[0mself\u001b[0m\u001b[1;33m,\u001b[0m \u001b[0mx\u001b[0m\u001b[1;33m,\u001b[0m \u001b[0mxlim\u001b[0m\u001b[1;33m,\u001b[0m \u001b[0mdir\u001b[0m\u001b[1;33m)\u001b[0m\u001b[1;33m\u001b[0m\u001b[0m\n\u001b[0m\u001b[0;32m   2663\u001b[0m \u001b[1;33m\u001b[0m\u001b[0m\n\u001b[0;32m   2664\u001b[0m     \u001b[1;32mdef\u001b[0m \u001b[0mcompute_leading_term\u001b[0m\u001b[1;33m(\u001b[0m\u001b[0mself\u001b[0m\u001b[1;33m,\u001b[0m \u001b[0mx\u001b[0m\u001b[1;33m,\u001b[0m \u001b[0mlogx\u001b[0m\u001b[1;33m=\u001b[0m\u001b[1;32mNone\u001b[0m\u001b[1;33m)\u001b[0m\u001b[1;33m:\u001b[0m\u001b[1;33m\u001b[0m\u001b[0m\n",
        "\u001b[1;32m/usr/local/lib/python3.4/site-packages/sympy/series/limits.py\u001b[0m in \u001b[0;36mlimit\u001b[1;34m(e, z, z0, dir)\u001b[0m\n\u001b[0;32m     40\u001b[0m     \"\"\"\n\u001b[0;32m     41\u001b[0m \u001b[1;33m\u001b[0m\u001b[0m\n\u001b[1;32m---> 42\u001b[1;33m     \u001b[1;32mreturn\u001b[0m \u001b[0mLimit\u001b[0m\u001b[1;33m(\u001b[0m\u001b[0me\u001b[0m\u001b[1;33m,\u001b[0m \u001b[0mz\u001b[0m\u001b[1;33m,\u001b[0m \u001b[0mz0\u001b[0m\u001b[1;33m,\u001b[0m \u001b[0mdir\u001b[0m\u001b[1;33m)\u001b[0m\u001b[1;33m.\u001b[0m\u001b[0mdoit\u001b[0m\u001b[1;33m(\u001b[0m\u001b[0mdeep\u001b[0m\u001b[1;33m=\u001b[0m\u001b[1;32mFalse\u001b[0m\u001b[1;33m)\u001b[0m\u001b[1;33m\u001b[0m\u001b[0m\n\u001b[0m\u001b[0;32m     43\u001b[0m \u001b[1;33m\u001b[0m\u001b[0m\n\u001b[0;32m     44\u001b[0m \u001b[1;33m\u001b[0m\u001b[0m\n",
        "\u001b[1;32m/usr/local/lib/python3.4/site-packages/sympy/series/limits.py\u001b[0m in \u001b[0;36mdoit\u001b[1;34m(self, **hints)\u001b[0m\n\u001b[0;32m    155\u001b[0m \u001b[1;33m\u001b[0m\u001b[0m\n\u001b[0;32m    156\u001b[0m         \u001b[1;32mtry\u001b[0m\u001b[1;33m:\u001b[0m\u001b[1;33m\u001b[0m\u001b[0m\n\u001b[1;32m--> 157\u001b[1;33m             \u001b[0mr\u001b[0m \u001b[1;33m=\u001b[0m \u001b[0mgruntz\u001b[0m\u001b[1;33m(\u001b[0m\u001b[0me\u001b[0m\u001b[1;33m,\u001b[0m \u001b[0mz\u001b[0m\u001b[1;33m,\u001b[0m \u001b[0mz0\u001b[0m\u001b[1;33m,\u001b[0m \u001b[0mdir\u001b[0m\u001b[1;33m)\u001b[0m\u001b[1;33m\u001b[0m\u001b[0m\n\u001b[0m\u001b[0;32m    158\u001b[0m             \u001b[1;32mif\u001b[0m \u001b[0mr\u001b[0m \u001b[1;32mis\u001b[0m \u001b[0mS\u001b[0m\u001b[1;33m.\u001b[0m\u001b[0mNaN\u001b[0m\u001b[1;33m:\u001b[0m\u001b[1;33m\u001b[0m\u001b[0m\n\u001b[0;32m    159\u001b[0m                 \u001b[1;32mraise\u001b[0m \u001b[0mPoleError\u001b[0m\u001b[1;33m(\u001b[0m\u001b[1;33m)\u001b[0m\u001b[1;33m\u001b[0m\u001b[0m\n",
        "\u001b[1;32m/usr/local/lib/python3.4/site-packages/sympy/series/gruntz.py\u001b[0m in \u001b[0;36mgruntz\u001b[1;34m(e, z, z0, dir)\u001b[0m\n\u001b[0;32m    649\u001b[0m         \u001b[1;32melse\u001b[0m\u001b[1;33m:\u001b[0m\u001b[1;33m\u001b[0m\u001b[0m\n\u001b[0;32m    650\u001b[0m             \u001b[1;32mraise\u001b[0m \u001b[0mNotImplementedError\u001b[0m\u001b[1;33m(\u001b[0m\u001b[1;34m\"dir must be '+' or '-'\"\u001b[0m\u001b[1;33m)\u001b[0m\u001b[1;33m\u001b[0m\u001b[0m\n\u001b[1;32m--> 651\u001b[1;33m         \u001b[0mr\u001b[0m \u001b[1;33m=\u001b[0m \u001b[0mlimitinf\u001b[0m\u001b[1;33m(\u001b[0m\u001b[0me0\u001b[0m\u001b[1;33m,\u001b[0m \u001b[0mz\u001b[0m\u001b[1;33m)\u001b[0m\u001b[1;33m\u001b[0m\u001b[0m\n\u001b[0m\u001b[0;32m    652\u001b[0m \u001b[1;33m\u001b[0m\u001b[0m\n\u001b[0;32m    653\u001b[0m     \u001b[1;31m# This is a bit of a heuristic for nice results... we always rewrite\u001b[0m\u001b[1;33m\u001b[0m\u001b[1;33m\u001b[0m\u001b[0m\n",
        "\u001b[1;32m/usr/local/lib/python3.4/site-packages/sympy/core/cache.py\u001b[0m in \u001b[0;36mwrapper\u001b[1;34m(*args, **kwargs)\u001b[0m\n\u001b[0;32m     89\u001b[0m             \u001b[1;32mdef\u001b[0m \u001b[0mwrapper\u001b[0m\u001b[1;33m(\u001b[0m\u001b[1;33m*\u001b[0m\u001b[0margs\u001b[0m\u001b[1;33m,\u001b[0m \u001b[1;33m**\u001b[0m\u001b[0mkwargs\u001b[0m\u001b[1;33m)\u001b[0m\u001b[1;33m:\u001b[0m\u001b[1;33m\u001b[0m\u001b[0m\n\u001b[0;32m     90\u001b[0m                 \u001b[1;32mtry\u001b[0m\u001b[1;33m:\u001b[0m\u001b[1;33m\u001b[0m\u001b[0m\n\u001b[1;32m---> 91\u001b[1;33m                     \u001b[0mretval\u001b[0m \u001b[1;33m=\u001b[0m \u001b[0mcfunc\u001b[0m\u001b[1;33m(\u001b[0m\u001b[1;33m*\u001b[0m\u001b[0margs\u001b[0m\u001b[1;33m,\u001b[0m \u001b[1;33m**\u001b[0m\u001b[0mkwargs\u001b[0m\u001b[1;33m)\u001b[0m\u001b[1;33m\u001b[0m\u001b[0m\n\u001b[0m\u001b[0;32m     92\u001b[0m                 \u001b[1;32mexcept\u001b[0m \u001b[0mTypeError\u001b[0m\u001b[1;33m:\u001b[0m\u001b[1;33m\u001b[0m\u001b[0m\n\u001b[0;32m     93\u001b[0m                     \u001b[0mretval\u001b[0m \u001b[1;33m=\u001b[0m \u001b[0mfunc\u001b[0m\u001b[1;33m(\u001b[0m\u001b[1;33m*\u001b[0m\u001b[0margs\u001b[0m\u001b[1;33m,\u001b[0m \u001b[1;33m**\u001b[0m\u001b[0mkwargs\u001b[0m\u001b[1;33m)\u001b[0m\u001b[1;33m\u001b[0m\u001b[0m\n",
        "\u001b[1;32m/usr/local/lib/python3.4/functools.py\u001b[0m in \u001b[0;36mwrapper\u001b[1;34m(*args, **kwds)\u001b[0m\n\u001b[0;32m    450\u001b[0m                         \u001b[0mhits\u001b[0m \u001b[1;33m+=\u001b[0m \u001b[1;36m1\u001b[0m\u001b[1;33m\u001b[0m\u001b[0m\n\u001b[0;32m    451\u001b[0m                         \u001b[1;32mreturn\u001b[0m \u001b[0mresult\u001b[0m\u001b[1;33m\u001b[0m\u001b[0m\n\u001b[1;32m--> 452\u001b[1;33m                 \u001b[0mresult\u001b[0m \u001b[1;33m=\u001b[0m \u001b[0muser_function\u001b[0m\u001b[1;33m(\u001b[0m\u001b[1;33m*\u001b[0m\u001b[0margs\u001b[0m\u001b[1;33m,\u001b[0m \u001b[1;33m**\u001b[0m\u001b[0mkwds\u001b[0m\u001b[1;33m)\u001b[0m\u001b[1;33m\u001b[0m\u001b[0m\n\u001b[0m\u001b[0;32m    453\u001b[0m                 \u001b[1;32mwith\u001b[0m \u001b[0mlock\u001b[0m\u001b[1;33m:\u001b[0m\u001b[1;33m\u001b[0m\u001b[0m\n\u001b[0;32m    454\u001b[0m                     \u001b[1;32mif\u001b[0m \u001b[0mkey\u001b[0m \u001b[1;32min\u001b[0m \u001b[0mcache\u001b[0m\u001b[1;33m:\u001b[0m\u001b[1;33m\u001b[0m\u001b[0m\n",
        "\u001b[1;32m/usr/local/lib/python3.4/site-packages/sympy/series/gruntz.py\u001b[0m in \u001b[0;36mlimitinf\u001b[1;34m(e, x)\u001b[0m\n\u001b[0;32m    422\u001b[0m         \u001b[0me\u001b[0m \u001b[1;33m=\u001b[0m \u001b[0me\u001b[0m\u001b[1;33m.\u001b[0m\u001b[0msubs\u001b[0m\u001b[1;33m(\u001b[0m\u001b[0mx\u001b[0m\u001b[1;33m,\u001b[0m \u001b[0mp\u001b[0m\u001b[1;33m)\u001b[0m\u001b[1;33m\u001b[0m\u001b[0m\n\u001b[0;32m    423\u001b[0m         \u001b[0mx\u001b[0m \u001b[1;33m=\u001b[0m \u001b[0mp\u001b[0m\u001b[1;33m\u001b[0m\u001b[0m\n\u001b[1;32m--> 424\u001b[1;33m     \u001b[0mc0\u001b[0m\u001b[1;33m,\u001b[0m \u001b[0me0\u001b[0m \u001b[1;33m=\u001b[0m \u001b[0mmrv_leadterm\u001b[0m\u001b[1;33m(\u001b[0m\u001b[0me\u001b[0m\u001b[1;33m,\u001b[0m \u001b[0mx\u001b[0m\u001b[1;33m)\u001b[0m\u001b[1;33m\u001b[0m\u001b[0m\n\u001b[0m\u001b[0;32m    425\u001b[0m     \u001b[0msig\u001b[0m \u001b[1;33m=\u001b[0m \u001b[0msign\u001b[0m\u001b[1;33m(\u001b[0m\u001b[0me0\u001b[0m\u001b[1;33m,\u001b[0m \u001b[0mx\u001b[0m\u001b[1;33m)\u001b[0m\u001b[1;33m\u001b[0m\u001b[0m\n\u001b[0;32m    426\u001b[0m     \u001b[1;32mif\u001b[0m \u001b[0msig\u001b[0m \u001b[1;33m==\u001b[0m \u001b[1;36m1\u001b[0m\u001b[1;33m:\u001b[0m\u001b[1;33m\u001b[0m\u001b[0m\n",
        "\u001b[1;32m/usr/local/lib/python3.4/site-packages/sympy/core/cache.py\u001b[0m in \u001b[0;36mwrapper\u001b[1;34m(*args, **kwargs)\u001b[0m\n\u001b[0;32m     89\u001b[0m             \u001b[1;32mdef\u001b[0m \u001b[0mwrapper\u001b[0m\u001b[1;33m(\u001b[0m\u001b[1;33m*\u001b[0m\u001b[0margs\u001b[0m\u001b[1;33m,\u001b[0m \u001b[1;33m**\u001b[0m\u001b[0mkwargs\u001b[0m\u001b[1;33m)\u001b[0m\u001b[1;33m:\u001b[0m\u001b[1;33m\u001b[0m\u001b[0m\n\u001b[0;32m     90\u001b[0m                 \u001b[1;32mtry\u001b[0m\u001b[1;33m:\u001b[0m\u001b[1;33m\u001b[0m\u001b[0m\n\u001b[1;32m---> 91\u001b[1;33m                     \u001b[0mretval\u001b[0m \u001b[1;33m=\u001b[0m \u001b[0mcfunc\u001b[0m\u001b[1;33m(\u001b[0m\u001b[1;33m*\u001b[0m\u001b[0margs\u001b[0m\u001b[1;33m,\u001b[0m \u001b[1;33m**\u001b[0m\u001b[0mkwargs\u001b[0m\u001b[1;33m)\u001b[0m\u001b[1;33m\u001b[0m\u001b[0m\n\u001b[0m\u001b[0;32m     92\u001b[0m                 \u001b[1;32mexcept\u001b[0m \u001b[0mTypeError\u001b[0m\u001b[1;33m:\u001b[0m\u001b[1;33m\u001b[0m\u001b[0m\n\u001b[0;32m     93\u001b[0m                     \u001b[0mretval\u001b[0m \u001b[1;33m=\u001b[0m \u001b[0mfunc\u001b[0m\u001b[1;33m(\u001b[0m\u001b[1;33m*\u001b[0m\u001b[0margs\u001b[0m\u001b[1;33m,\u001b[0m \u001b[1;33m**\u001b[0m\u001b[0mkwargs\u001b[0m\u001b[1;33m)\u001b[0m\u001b[1;33m\u001b[0m\u001b[0m\n",
        "\u001b[1;32m/usr/local/lib/python3.4/functools.py\u001b[0m in \u001b[0;36mwrapper\u001b[1;34m(*args, **kwds)\u001b[0m\n\u001b[0;32m    450\u001b[0m                         \u001b[0mhits\u001b[0m \u001b[1;33m+=\u001b[0m \u001b[1;36m1\u001b[0m\u001b[1;33m\u001b[0m\u001b[0m\n\u001b[0;32m    451\u001b[0m                         \u001b[1;32mreturn\u001b[0m \u001b[0mresult\u001b[0m\u001b[1;33m\u001b[0m\u001b[0m\n\u001b[1;32m--> 452\u001b[1;33m                 \u001b[0mresult\u001b[0m \u001b[1;33m=\u001b[0m \u001b[0muser_function\u001b[0m\u001b[1;33m(\u001b[0m\u001b[1;33m*\u001b[0m\u001b[0margs\u001b[0m\u001b[1;33m,\u001b[0m \u001b[1;33m**\u001b[0m\u001b[0mkwds\u001b[0m\u001b[1;33m)\u001b[0m\u001b[1;33m\u001b[0m\u001b[0m\n\u001b[0m\u001b[0;32m    453\u001b[0m                 \u001b[1;32mwith\u001b[0m \u001b[0mlock\u001b[0m\u001b[1;33m:\u001b[0m\u001b[1;33m\u001b[0m\u001b[0m\n\u001b[0;32m    454\u001b[0m                     \u001b[1;32mif\u001b[0m \u001b[0mkey\u001b[0m \u001b[1;32min\u001b[0m \u001b[0mcache\u001b[0m\u001b[1;33m:\u001b[0m\u001b[1;33m\u001b[0m\u001b[0m\n",
        "\u001b[1;32m/usr/local/lib/python3.4/site-packages/sympy/series/gruntz.py\u001b[0m in \u001b[0;36mmrv_leadterm\u001b[1;34m(e, x)\u001b[0m\n\u001b[0;32m    505\u001b[0m     \u001b[0mf\u001b[0m\u001b[1;33m,\u001b[0m \u001b[0mlogw\u001b[0m \u001b[1;33m=\u001b[0m \u001b[0mrewrite\u001b[0m\u001b[1;33m(\u001b[0m\u001b[0mexps\u001b[0m\u001b[1;33m,\u001b[0m \u001b[0mOmega\u001b[0m\u001b[1;33m,\u001b[0m \u001b[0mx\u001b[0m\u001b[1;33m,\u001b[0m \u001b[0mw\u001b[0m\u001b[1;33m)\u001b[0m\u001b[1;33m\u001b[0m\u001b[0m\n\u001b[0;32m    506\u001b[0m     \u001b[0mseries\u001b[0m \u001b[1;33m=\u001b[0m \u001b[0mcalculate_series\u001b[0m\u001b[1;33m(\u001b[0m\u001b[0mf\u001b[0m\u001b[1;33m,\u001b[0m \u001b[0mw\u001b[0m\u001b[1;33m,\u001b[0m \u001b[0mlogx\u001b[0m\u001b[1;33m=\u001b[0m\u001b[0mlogw\u001b[0m\u001b[1;33m)\u001b[0m\u001b[1;33m\u001b[0m\u001b[0m\n\u001b[1;32m--> 507\u001b[1;33m     \u001b[1;32mreturn\u001b[0m \u001b[0mseries\u001b[0m\u001b[1;33m.\u001b[0m\u001b[0mleadterm\u001b[0m\u001b[1;33m(\u001b[0m\u001b[0mw\u001b[0m\u001b[1;33m)\u001b[0m\u001b[1;33m\u001b[0m\u001b[0m\n\u001b[0m\u001b[0;32m    508\u001b[0m \u001b[1;33m\u001b[0m\u001b[0m\n\u001b[0;32m    509\u001b[0m \u001b[1;33m\u001b[0m\u001b[0m\n",
        "\u001b[1;32m/usr/local/lib/python3.4/site-packages/sympy/core/expr.py\u001b[0m in \u001b[0;36mleadterm\u001b[1;34m(self, x)\u001b[0m\n\u001b[0;32m   2747\u001b[0m         \u001b[0ml\u001b[0m \u001b[1;33m=\u001b[0m \u001b[0mself\u001b[0m\u001b[1;33m.\u001b[0m\u001b[0mas_leading_term\u001b[0m\u001b[1;33m(\u001b[0m\u001b[0mx\u001b[0m\u001b[1;33m)\u001b[0m\u001b[1;33m\u001b[0m\u001b[0m\n\u001b[0;32m   2748\u001b[0m         \u001b[0md\u001b[0m \u001b[1;33m=\u001b[0m \u001b[0mC\u001b[0m\u001b[1;33m.\u001b[0m\u001b[0mDummy\u001b[0m\u001b[1;33m(\u001b[0m\u001b[1;34m'logx'\u001b[0m\u001b[1;33m)\u001b[0m\u001b[1;33m\u001b[0m\u001b[0m\n\u001b[1;32m-> 2749\u001b[1;33m         \u001b[1;32mif\u001b[0m \u001b[0ml\u001b[0m\u001b[1;33m.\u001b[0m\u001b[0mhas\u001b[0m\u001b[1;33m(\u001b[0m\u001b[0mC\u001b[0m\u001b[1;33m.\u001b[0m\u001b[0mlog\u001b[0m\u001b[1;33m(\u001b[0m\u001b[0mx\u001b[0m\u001b[1;33m)\u001b[0m\u001b[1;33m)\u001b[0m\u001b[1;33m:\u001b[0m\u001b[1;33m\u001b[0m\u001b[0m\n\u001b[0m\u001b[0;32m   2750\u001b[0m             \u001b[0ml\u001b[0m \u001b[1;33m=\u001b[0m \u001b[0ml\u001b[0m\u001b[1;33m.\u001b[0m\u001b[0msubs\u001b[0m\u001b[1;33m(\u001b[0m\u001b[0mC\u001b[0m\u001b[1;33m.\u001b[0m\u001b[0mlog\u001b[0m\u001b[1;33m(\u001b[0m\u001b[0mx\u001b[0m\u001b[1;33m)\u001b[0m\u001b[1;33m,\u001b[0m \u001b[0md\u001b[0m\u001b[1;33m)\u001b[0m\u001b[1;33m\u001b[0m\u001b[0m\n\u001b[0;32m   2751\u001b[0m         \u001b[0mc\u001b[0m\u001b[1;33m,\u001b[0m \u001b[0me\u001b[0m \u001b[1;33m=\u001b[0m \u001b[0ml\u001b[0m\u001b[1;33m.\u001b[0m\u001b[0mas_coeff_exponent\u001b[0m\u001b[1;33m(\u001b[0m\u001b[0mx\u001b[0m\u001b[1;33m)\u001b[0m\u001b[1;33m\u001b[0m\u001b[0m\n",
        "\u001b[1;32m/usr/local/lib/python3.4/site-packages/sympy/core/cache.py\u001b[0m in \u001b[0;36mwrapper\u001b[1;34m(*args, **kwargs)\u001b[0m\n\u001b[0;32m     89\u001b[0m             \u001b[1;32mdef\u001b[0m \u001b[0mwrapper\u001b[0m\u001b[1;33m(\u001b[0m\u001b[1;33m*\u001b[0m\u001b[0margs\u001b[0m\u001b[1;33m,\u001b[0m \u001b[1;33m**\u001b[0m\u001b[0mkwargs\u001b[0m\u001b[1;33m)\u001b[0m\u001b[1;33m:\u001b[0m\u001b[1;33m\u001b[0m\u001b[0m\n\u001b[0;32m     90\u001b[0m                 \u001b[1;32mtry\u001b[0m\u001b[1;33m:\u001b[0m\u001b[1;33m\u001b[0m\u001b[0m\n\u001b[1;32m---> 91\u001b[1;33m                     \u001b[0mretval\u001b[0m \u001b[1;33m=\u001b[0m \u001b[0mcfunc\u001b[0m\u001b[1;33m(\u001b[0m\u001b[1;33m*\u001b[0m\u001b[0margs\u001b[0m\u001b[1;33m,\u001b[0m \u001b[1;33m**\u001b[0m\u001b[0mkwargs\u001b[0m\u001b[1;33m)\u001b[0m\u001b[1;33m\u001b[0m\u001b[0m\n\u001b[0m\u001b[0;32m     92\u001b[0m                 \u001b[1;32mexcept\u001b[0m \u001b[0mTypeError\u001b[0m\u001b[1;33m:\u001b[0m\u001b[1;33m\u001b[0m\u001b[0m\n\u001b[0;32m     93\u001b[0m                     \u001b[0mretval\u001b[0m \u001b[1;33m=\u001b[0m \u001b[0mfunc\u001b[0m\u001b[1;33m(\u001b[0m\u001b[1;33m*\u001b[0m\u001b[0margs\u001b[0m\u001b[1;33m,\u001b[0m \u001b[1;33m**\u001b[0m\u001b[0mkwargs\u001b[0m\u001b[1;33m)\u001b[0m\u001b[1;33m\u001b[0m\u001b[0m\n",
        "\u001b[1;32m/usr/local/lib/python3.4/functools.py\u001b[0m in \u001b[0;36mwrapper\u001b[1;34m(*args, **kwds)\u001b[0m\n\u001b[0;32m    450\u001b[0m                         \u001b[0mhits\u001b[0m \u001b[1;33m+=\u001b[0m \u001b[1;36m1\u001b[0m\u001b[1;33m\u001b[0m\u001b[0m\n\u001b[0;32m    451\u001b[0m                         \u001b[1;32mreturn\u001b[0m \u001b[0mresult\u001b[0m\u001b[1;33m\u001b[0m\u001b[0m\n\u001b[1;32m--> 452\u001b[1;33m                 \u001b[0mresult\u001b[0m \u001b[1;33m=\u001b[0m \u001b[0muser_function\u001b[0m\u001b[1;33m(\u001b[0m\u001b[1;33m*\u001b[0m\u001b[0margs\u001b[0m\u001b[1;33m,\u001b[0m \u001b[1;33m**\u001b[0m\u001b[0mkwds\u001b[0m\u001b[1;33m)\u001b[0m\u001b[1;33m\u001b[0m\u001b[0m\n\u001b[0m\u001b[0;32m    453\u001b[0m                 \u001b[1;32mwith\u001b[0m \u001b[0mlock\u001b[0m\u001b[1;33m:\u001b[0m\u001b[1;33m\u001b[0m\u001b[0m\n\u001b[0;32m    454\u001b[0m                     \u001b[1;32mif\u001b[0m \u001b[0mkey\u001b[0m \u001b[1;32min\u001b[0m \u001b[0mcache\u001b[0m\u001b[1;33m:\u001b[0m\u001b[1;33m\u001b[0m\u001b[0m\n",
        "\u001b[1;32m/usr/local/lib/python3.4/site-packages/sympy/core/function.py\u001b[0m in \u001b[0;36m__new__\u001b[1;34m(cls, *args, **options)\u001b[0m\n\u001b[0;32m    357\u001b[0m \u001b[1;33m\u001b[0m\u001b[0m\n\u001b[0;32m    358\u001b[0m         \u001b[0mn\u001b[0m \u001b[1;33m=\u001b[0m \u001b[0mlen\u001b[0m\u001b[1;33m(\u001b[0m\u001b[0margs\u001b[0m\u001b[1;33m)\u001b[0m\u001b[1;33m\u001b[0m\u001b[0m\n\u001b[1;32m--> 359\u001b[1;33m         \u001b[1;32mif\u001b[0m \u001b[0mn\u001b[0m \u001b[1;32mnot\u001b[0m \u001b[1;32min\u001b[0m \u001b[0mcls\u001b[0m\u001b[1;33m.\u001b[0m\u001b[0mnargs\u001b[0m\u001b[1;33m:\u001b[0m\u001b[1;33m\u001b[0m\u001b[0m\n\u001b[0m\u001b[0;32m    360\u001b[0m             \u001b[1;31m# XXX: exception message must be in exactly this format to\u001b[0m\u001b[1;33m\u001b[0m\u001b[1;33m\u001b[0m\u001b[0m\n\u001b[0;32m    361\u001b[0m             \u001b[1;31m# make it work with NumPy's functions like vectorize(). See,\u001b[0m\u001b[1;33m\u001b[0m\u001b[1;33m\u001b[0m\u001b[0m\n",
        "\u001b[1;32m/usr/local/lib/python3.4/site-packages/sympy/core/function.py\u001b[0m in \u001b[0;36mnargs\u001b[1;34m(self)\u001b[0m\n\u001b[0;32m    166\u001b[0m         \u001b[1;31m# XXX it would be nice to handle this in __init__ but there are import\u001b[0m\u001b[1;33m\u001b[0m\u001b[1;33m\u001b[0m\u001b[0m\n\u001b[0;32m    167\u001b[0m         \u001b[1;31m# problems with trying to import FiniteSet there\u001b[0m\u001b[1;33m\u001b[0m\u001b[1;33m\u001b[0m\u001b[0m\n\u001b[1;32m--> 168\u001b[1;33m         \u001b[1;32mreturn\u001b[0m \u001b[0mFiniteSet\u001b[0m\u001b[1;33m(\u001b[0m\u001b[1;33m*\u001b[0m\u001b[0mself\u001b[0m\u001b[1;33m.\u001b[0m\u001b[0m_nargs\u001b[0m\u001b[1;33m)\u001b[0m \u001b[1;32mif\u001b[0m \u001b[0mself\u001b[0m\u001b[1;33m.\u001b[0m\u001b[0m_nargs\u001b[0m \u001b[1;32melse\u001b[0m \u001b[0mS\u001b[0m\u001b[1;33m.\u001b[0m\u001b[0mNaturals0\u001b[0m\u001b[1;33m\u001b[0m\u001b[0m\n\u001b[0m\u001b[0;32m    169\u001b[0m \u001b[1;33m\u001b[0m\u001b[0m\n\u001b[0;32m    170\u001b[0m     \u001b[1;32mdef\u001b[0m \u001b[0m__repr__\u001b[0m\u001b[1;33m(\u001b[0m\u001b[0mcls\u001b[0m\u001b[1;33m)\u001b[0m\u001b[1;33m:\u001b[0m\u001b[1;33m\u001b[0m\u001b[0m\n",
        "\u001b[1;32m/usr/local/lib/python3.4/site-packages/sympy/sets/sets.py\u001b[0m in \u001b[0;36m__new__\u001b[1;34m(cls, *args, **kwargs)\u001b[0m\n\u001b[0;32m   1589\u001b[0m             \u001b[0margs\u001b[0m \u001b[1;33m=\u001b[0m \u001b[0mlist\u001b[0m\u001b[1;33m(\u001b[0m\u001b[0mmap\u001b[0m\u001b[1;33m(\u001b[0m\u001b[0msympify\u001b[0m\u001b[1;33m,\u001b[0m \u001b[0margs\u001b[0m\u001b[1;33m)\u001b[0m\u001b[1;33m)\u001b[0m\u001b[1;33m\u001b[0m\u001b[0m\n\u001b[0;32m   1590\u001b[0m \u001b[1;33m\u001b[0m\u001b[0m\n\u001b[1;32m-> 1591\u001b[1;33m         \u001b[0margs\u001b[0m \u001b[1;33m=\u001b[0m \u001b[0mlist\u001b[0m\u001b[1;33m(\u001b[0m\u001b[0mordered\u001b[0m\u001b[1;33m(\u001b[0m\u001b[0mfrozenset\u001b[0m\u001b[1;33m(\u001b[0m\u001b[0mtuple\u001b[0m\u001b[1;33m(\u001b[0m\u001b[0margs\u001b[0m\u001b[1;33m)\u001b[0m\u001b[1;33m)\u001b[0m\u001b[1;33m,\u001b[0m \u001b[0mSet\u001b[0m\u001b[1;33m.\u001b[0m\u001b[0m_infimum_key\u001b[0m\u001b[1;33m)\u001b[0m\u001b[1;33m)\u001b[0m\u001b[1;33m\u001b[0m\u001b[0m\n\u001b[0m\u001b[0;32m   1592\u001b[0m         \u001b[0mobj\u001b[0m \u001b[1;33m=\u001b[0m \u001b[0mBasic\u001b[0m\u001b[1;33m.\u001b[0m\u001b[0m__new__\u001b[0m\u001b[1;33m(\u001b[0m\u001b[0mcls\u001b[0m\u001b[1;33m,\u001b[0m \u001b[1;33m*\u001b[0m\u001b[0margs\u001b[0m\u001b[1;33m)\u001b[0m\u001b[1;33m\u001b[0m\u001b[0m\n\u001b[0;32m   1593\u001b[0m         \u001b[0mobj\u001b[0m\u001b[1;33m.\u001b[0m\u001b[0m_elements\u001b[0m \u001b[1;33m=\u001b[0m \u001b[0mfrozenset\u001b[0m\u001b[1;33m(\u001b[0m\u001b[0margs\u001b[0m\u001b[1;33m)\u001b[0m\u001b[1;33m\u001b[0m\u001b[0m\n",
        "\u001b[1;32m/usr/local/lib/python3.4/site-packages/sympy/core/compatibility.py\u001b[0m in \u001b[0;36mordered\u001b[1;34m(seq, keys, default, warn)\u001b[0m\n\u001b[0;32m    668\u001b[0m                     raise ValueError(\n\u001b[0;32m    669\u001b[0m                         'not enough keys to break ties: %s' % u)\n\u001b[1;32m--> 670\u001b[1;33m         \u001b[1;32mfor\u001b[0m \u001b[0mv\u001b[0m \u001b[1;32min\u001b[0m \u001b[0md\u001b[0m\u001b[1;33m[\u001b[0m\u001b[0mk\u001b[0m\u001b[1;33m]\u001b[0m\u001b[1;33m:\u001b[0m\u001b[1;33m\u001b[0m\u001b[0m\n\u001b[0m\u001b[0;32m    671\u001b[0m             \u001b[1;32myield\u001b[0m \u001b[0mv\u001b[0m\u001b[1;33m\u001b[0m\u001b[0m\n\u001b[0;32m    672\u001b[0m         \u001b[0md\u001b[0m\u001b[1;33m.\u001b[0m\u001b[0mpop\u001b[0m\u001b[1;33m(\u001b[0m\u001b[0mk\u001b[0m\u001b[1;33m)\u001b[0m\u001b[1;33m\u001b[0m\u001b[0m\n",
        "\u001b[1;32m/usr/local/lib/python3.4/site-packages/sympy/core/compatibility.py\u001b[0m in \u001b[0;36mordered\u001b[1;34m(seq, keys, default, warn)\u001b[0m\n\u001b[0;32m    668\u001b[0m                     raise ValueError(\n\u001b[0;32m    669\u001b[0m                         'not enough keys to break ties: %s' % u)\n\u001b[1;32m--> 670\u001b[1;33m         \u001b[1;32mfor\u001b[0m \u001b[0mv\u001b[0m \u001b[1;32min\u001b[0m \u001b[0md\u001b[0m\u001b[1;33m[\u001b[0m\u001b[0mk\u001b[0m\u001b[1;33m]\u001b[0m\u001b[1;33m:\u001b[0m\u001b[1;33m\u001b[0m\u001b[0m\n\u001b[0m\u001b[0;32m    671\u001b[0m             \u001b[1;32myield\u001b[0m \u001b[0mv\u001b[0m\u001b[1;33m\u001b[0m\u001b[0m\n\u001b[0;32m    672\u001b[0m         \u001b[0md\u001b[0m\u001b[1;33m.\u001b[0m\u001b[0mpop\u001b[0m\u001b[1;33m(\u001b[0m\u001b[0mk\u001b[0m\u001b[1;33m)\u001b[0m\u001b[1;33m\u001b[0m\u001b[0m\n",
        "\u001b[1;32m/usr/local/lib/python3.4/site-packages/sympy/core/compatibility.py\u001b[0m in \u001b[0;36mordered\u001b[1;34m(seq, keys, default, warn)\u001b[0m\n\u001b[0;32m    649\u001b[0m         \u001b[0mf\u001b[0m \u001b[1;33m=\u001b[0m \u001b[0mkeys\u001b[0m\u001b[1;33m.\u001b[0m\u001b[0mpop\u001b[0m\u001b[1;33m(\u001b[0m\u001b[1;36m0\u001b[0m\u001b[1;33m)\u001b[0m\u001b[1;33m\u001b[0m\u001b[0m\n\u001b[0;32m    650\u001b[0m         \u001b[1;32mfor\u001b[0m \u001b[0ma\u001b[0m \u001b[1;32min\u001b[0m \u001b[0mseq\u001b[0m\u001b[1;33m:\u001b[0m\u001b[1;33m\u001b[0m\u001b[0m\n\u001b[1;32m--> 651\u001b[1;33m             \u001b[0md\u001b[0m\u001b[1;33m[\u001b[0m\u001b[0mf\u001b[0m\u001b[1;33m(\u001b[0m\u001b[0ma\u001b[0m\u001b[1;33m)\u001b[0m\u001b[1;33m]\u001b[0m\u001b[1;33m.\u001b[0m\u001b[0mappend\u001b[0m\u001b[1;33m(\u001b[0m\u001b[0ma\u001b[0m\u001b[1;33m)\u001b[0m\u001b[1;33m\u001b[0m\u001b[0m\n\u001b[0m\u001b[0;32m    652\u001b[0m     \u001b[1;32melse\u001b[0m\u001b[1;33m:\u001b[0m\u001b[1;33m\u001b[0m\u001b[0m\n\u001b[0;32m    653\u001b[0m         \u001b[1;32mif\u001b[0m \u001b[1;32mnot\u001b[0m \u001b[0mdefault\u001b[0m\u001b[1;33m:\u001b[0m\u001b[1;33m\u001b[0m\u001b[0m\n",
        "\u001b[1;32m/usr/local/lib/python3.4/site-packages/sympy/core/compatibility.py\u001b[0m in \u001b[0;36mdefault_sort_key\u001b[1;34m(item, order)\u001b[0m\n\u001b[0;32m    501\u001b[0m     \u001b[1;32mfrom\u001b[0m \u001b[0msympy\u001b[0m\u001b[1;33m.\u001b[0m\u001b[0mcore\u001b[0m\u001b[1;33m.\u001b[0m\u001b[0mcompatibility\u001b[0m \u001b[1;32mimport\u001b[0m \u001b[0miterable\u001b[0m\u001b[1;33m\u001b[0m\u001b[0m\n\u001b[0;32m    502\u001b[0m \u001b[1;33m\u001b[0m\u001b[0m\n\u001b[1;32m--> 503\u001b[1;33m     \u001b[1;32mif\u001b[0m \u001b[0misinstance\u001b[0m\u001b[1;33m(\u001b[0m\u001b[0mitem\u001b[0m\u001b[1;33m,\u001b[0m \u001b[0mBasic\u001b[0m\u001b[1;33m)\u001b[0m\u001b[1;33m:\u001b[0m\u001b[1;33m\u001b[0m\u001b[0m\n\u001b[0m\u001b[0;32m    504\u001b[0m         \u001b[1;32mreturn\u001b[0m \u001b[0mitem\u001b[0m\u001b[1;33m.\u001b[0m\u001b[0msort_key\u001b[0m\u001b[1;33m(\u001b[0m\u001b[0morder\u001b[0m\u001b[1;33m=\u001b[0m\u001b[0morder\u001b[0m\u001b[1;33m)\u001b[0m\u001b[1;33m\u001b[0m\u001b[0m\n\u001b[0;32m    505\u001b[0m \u001b[1;33m\u001b[0m\u001b[0m\n",
        "\u001b[1;31mKeyboardInterrupt\u001b[0m: "
       ]
      }
     ],
     "prompt_number": 2
    },
    {
     "cell_type": "code",
     "collapsed": false,
     "input": [
      "two_var_gen_fun = 1/(1-y*(1+x))\n",
      "display(series(two_var_gen_fun,(1+x)))\n",
      "display(series(two_var_gen_fun,y))\n",
      "for k in range(5): display(series(y**k/(1-y)**(k+1),y,n=10)) "
     ],
     "language": "python",
     "metadata": {},
     "outputs": [
      {
       "latex": [
        "$$1 + y \\left(x + 1\\right) + y^{2} \\left(x + 1\\right)^{2} + y^{3} \\left(x + 1\\right)^{3} + y^{4} \\left(x + 1\\right)^{4} + y^{5} \\left(x + 1\\right)^{5} + \\mathcal{O}\\left(\\left(x + 1\\right)^{6}; x\\rightarrow-1\\right)$$"
       ],
       "metadata": {},
       "output_type": "display_data",
       "png": "[encoded data removed]",
       "text": [
        "                 2        2    3        3    4        4    5        5    \u239b    \n",
        "1 + y\u22c5(x + 1) + y \u22c5(x + 1)  + y \u22c5(x + 1)  + y \u22c5(x + 1)  + y \u22c5(x + 1)  + O\u239d(x +\n",
        "\n",
        "   6        \u239e\n",
        " 1) ; x \u2192 -1\u23a0"
       ]
      },
      {
       "latex": [
        "$$1 + y \\left(x + 1\\right) + y^{2} \\left(x^{2} + 2 x + 1\\right) + y^{3} \\left(x^{3} + 3 x^{2} + 3 x + 1\\right) + y^{4} \\left(x^{4} + 4 x^{3} + 6 x^{2} + 4 x + 1\\right) + y^{5} \\left(x^{5} + 5 x^{4} + 10 x^{3} + 10 x^{2} + 5 x + 1\\right) + \\mathcal{O}\\left(y^{6}\\right)$$"
       ],
       "metadata": {},
       "output_type": "display_data",
       "png": "[encoded data removed]",
       "text": [
        "                 2 \u239b 2          \u239e    3 \u239b 3      2          \u239e    4 \u239b 4      3  \n",
        "1 + y\u22c5(x + 1) + y \u22c5\u239dx  + 2\u22c5x + 1\u23a0 + y \u22c5\u239dx  + 3\u22c5x  + 3\u22c5x + 1\u23a0 + y \u22c5\u239dx  + 4\u22c5x  +\n",
        "\n",
        "    2          \u239e    5 \u239b 5      4       3       2          \u239e    \u239b 6\u239e\n",
        " 6\u22c5x  + 4\u22c5x + 1\u23a0 + y \u22c5\u239dx  + 5\u22c5x  + 10\u22c5x  + 10\u22c5x  + 5\u22c5x + 1\u23a0 + O\u239dy \u23a0"
       ]
      },
      {
       "latex": [
        "$$1 + y + y^{2} + y^{3} + y^{4} + y^{5} + y^{6} + y^{7} + y^{8} + y^{9} + \\mathcal{O}\\left(y^{10}\\right)$$"
       ],
       "metadata": {},
       "output_type": "display_data",
       "png": "[encoded data removed]",
       "text": [
        "         2    3    4    5    6    7    8    9    \u239b 10\u239e\n",
        "1 + y + y  + y  + y  + y  + y  + y  + y  + y  + O\u239dy  \u23a0"
       ]
      },
      {
       "latex": [
        "$$y + 2 y^{2} + 3 y^{3} + 4 y^{4} + 5 y^{5} + 6 y^{6} + 7 y^{7} + 8 y^{8} + 9 y^{9} + \\mathcal{O}\\left(y^{10}\\right)$$"
       ],
       "metadata": {},
       "output_type": "display_data",
       "png": "[encoded data removed]",
       "text": [
        "       2      3      4      5      6      7      8      9    \u239b 10\u239e\n",
        "y + 2\u22c5y  + 3\u22c5y  + 4\u22c5y  + 5\u22c5y  + 6\u22c5y  + 7\u22c5y  + 8\u22c5y  + 9\u22c5y  + O\u239dy  \u23a0"
       ]
      },
      {
       "latex": [
        "$$y^{2} + 3 y^{3} + 6 y^{4} + 10 y^{5} + 15 y^{6} + 21 y^{7} + 28 y^{8} + 36 y^{9} + \\mathcal{O}\\left(y^{10}\\right)$$"
       ],
       "metadata": {},
       "output_type": "display_data",
       "png": "[encoded data removed]",
       "text": [
        " 2      3      4       5       6       7       8       9    \u239b 10\u239e\n",
        "y  + 3\u22c5y  + 6\u22c5y  + 10\u22c5y  + 15\u22c5y  + 21\u22c5y  + 28\u22c5y  + 36\u22c5y  + O\u239dy  \u23a0"
       ]
      },
      {
       "latex": [
        "$$y^{3} + 4 y^{4} + 10 y^{5} + 20 y^{6} + 35 y^{7} + 56 y^{8} + 84 y^{9} + \\mathcal{O}\\left(y^{10}\\right)$$"
       ],
       "metadata": {},
       "output_type": "display_data",
       "png": "[encoded data removed]",
       "text": [
        " 3      4       5       6       7       8       9    \u239b 10\u239e\n",
        "y  + 4\u22c5y  + 10\u22c5y  + 20\u22c5y  + 35\u22c5y  + 56\u22c5y  + 84\u22c5y  + O\u239dy  \u23a0"
       ]
      },
      {
       "latex": [
        "$$y^{4} + 5 y^{5} + 15 y^{6} + 35 y^{7} + 70 y^{8} + 126 y^{9} + \\mathcal{O}\\left(y^{10}\\right)$$"
       ],
       "metadata": {},
       "output_type": "display_data",
       "png": "[encoded data removed]",
       "text": [
        " 4      5       6       7       8        9    \u239b 10\u239e\n",
        "y  + 5\u22c5y  + 15\u22c5y  + 35\u22c5y  + 70\u22c5y  + 126\u22c5y  + O\u239dy  \u23a0"
       ]
      }
     ],
     "prompt_number": 17
    },
    {
     "cell_type": "markdown",
     "metadata": {},
     "source": [
      "## Pascal triangle enhanced"
     ]
    },
    {
     "cell_type": "markdown",
     "metadata": {},
     "source": [
      "In this section we approach a variant of the above triangle, starting to work with a matrix $M = (b_{nj})_{n,j \\geq 0}$ where coefficients aren't explicitly defined but obey to the recurrence: $$ b_{n+1,j} = b_{n, j-1} + b_{n, j+1}$$\n",
      "\n",
      "where $j > 0$. Assume the relation holds for all $n \\in \\mathbb{N}$ so it is possible to apply the *Identity principle*:\n",
      "$$ \\begin{split}\n",
      "\\mathcal{G}\\{b_{n+1,j}\\} &= \\mathcal{G}\\{b_{n, j-1} + b_{n, j+1}\\} \\\\\n",
      "\\mathcal{G}\\{b_{n+1,j}\\} &= \\mathcal{G}\\{b_{n, j-1}\\} + \\mathcal{G}\\{b_{n, j+1}\\} \\quad \\text{ by linearity of } \\mathcal{G} \\\\\n",
      "\\frac{\\mathcal{G}\\{b_{n,j}\\}-b_{0j}}{x} &= \\mathcal{G}\\{b_{n, j-1}\\} + \\mathcal{G}\\{b_{n, j+1}\\} \\quad \\text{ by forward translation of } \\mathcal{G} \\\\\n",
      "C_j(x) &= xC_{j-1}(x) + xC_{j+1}(x) \\quad  \\forall j > 0: b_{0j} = 0\n",
      "\\end{split}$$\n",
      "\n",
      "Another way to prove the same result, is to observe that $b_{n+1,j}$ is a *convolution* of the two terms $b_{n,j-1}$ and $b_{n,j+1}$, hence there must exists two functions, say $h_j(x) = h_{0j} + h_{1j} x + h_{2j} x^2 + \\ldots$, where coefficient $h_{i,j}= b_{i,j-1} + b_{i,j+1}$ and $l(x) = l_0 + l_1 x + l_2 x^2 + \\ldots$, such that: \n",
      "$$\\mathcal{G}\\left\\lbrace\\sum_{k=0}^{n+1}{h_{k,j} l_{n+1-k}}\\right\\rbrace = h_j(x)l(x)$$\n",
      "\n",
      "Choose $l(x) = x$ because the entire sum should reduce to $b_{n,j-1} + b_{n,j+1}$ which equals $h_{nj}$, hence:\n",
      "$$\\begin{split}\n",
      "\\mathcal{G}\\left\\lbrace\\sum_{k=0}^{n+1}{h_{k,j} l_{n+1-k}}\\right\\rbrace &= \\mathcal{G}\\left\\lbrace{h_{n,j} l_{1}}\\right\\rbrace \\\\ &=\\mathcal{G}\\left\\lbrace{b_{n,j-1} + b_{n,j+1}}\\right\\rbrace \\\\\n",
      "&=\\mathcal{G}\\left\\lbrace{b_{n,j-1}}\\right\\rbrace + \\mathcal{G}\\left\\lbrace{b_{n,j+1}}\\right\\rbrace \\\\\n",
      "&= C_{j-1}(x) + C_{j+1}(x)\\end{split}$$\n",
      "\n",
      "It follows that $h_j(x) = C_{j-1}(x) + C_{j+1}(x)$ as obtained in the former derivation."
     ]
    },
    {
     "cell_type": "code",
     "collapsed": false,
     "input": [
      "def g(x): return 1/sqrt(1 -4*x**2)\n",
      "def f(x): return (1-sqrt(1 -4*x**2))/(2*x)\n",
      "\n",
      "Latex(Riordan_matrix_latex_code(g, f, x, order=10))"
     ],
     "language": "python",
     "metadata": {},
     "outputs": [
      {
       "latex": [
        "\\begin{equation} \\left( \\frac{1}{\\sqrt{- 4 x^{2} + 1}}, \\frac{1}{2 x} \\left(- \\sqrt{- 4 x^{2} + 1} + 1\\right) \\right) = \\left[ \\begin{array}{ccccccccccc}1 &  &  &  &  &  &  &  &  &  &  \\\\ 0 & 1 &  &  &  &  &  &  &  &  &  \\\\ 2 & 0 & 1 &  &  &  &  &  &  &  &  \\\\ 0 & 3 & 0 & 1 &  &  &  &  &  &  &  \\\\ 6 & 0 & 4 & 0 & 1 &  &  &  &  &  &  \\\\ 0 & 10 & 0 & 5 & 0 & 1 &  &  &  &  &  \\\\ 20 & 0 & 15 & 0 & 6 & 0 & 1 &  &  &  &  \\\\ 0 & 35 & 0 & 21 & 0 & 7 & 0 & 1 &  &  &  \\\\ 70 & 0 & 56 & 0 & 28 & 0 & 8 & 0 & 1 &  &  \\\\ 0 & 126 & 0 & 84 & 0 & 36 & 0 & 9 & 0 & 1 &  \\\\ \\vdots & \\vdots & \\vdots & \\vdots & \\vdots & \\vdots & \\vdots & \\vdots & \\vdots & \\vdots & \\ddots\\end{array} \\right] \\end{equation}"
       ],
       "metadata": {},
       "output_type": "pyout",
       "prompt_number": 30,
       "text": [
        "<IPython.core.display.Latex at 0x2b46fdd1fda0>"
       ]
      }
     ],
     "prompt_number": 30
    },
    {
     "cell_type": "code",
     "collapsed": false,
     "input": [
      "series(f(x),x,n=20)"
     ],
     "language": "python",
     "metadata": {},
     "outputs": [
      {
       "latex": [
        "$$x + x^{3} + 2 x^{5} + 5 x^{7} + 14 x^{9} + 42 x^{11} + 132 x^{13} + 429 x^{15} + 1430 x^{17} + 4862 x^{19} + \\mathcal{O}\\left(x^{20}\\right)$$"
       ],
       "metadata": {},
       "output_type": "pyout",
       "png": "[encoded data removed]",
       "prompt_number": 32,
       "text": [
        "     3      5      7       9       11        13        15         17         1\n",
        "x + x  + 2\u22c5x  + 5\u22c5x  + 14\u22c5x  + 42\u22c5x   + 132\u22c5x   + 429\u22c5x   + 1430\u22c5x   + 4862\u22c5x \n",
        "\n",
        "9    \u239b 20\u239e\n",
        "  + O\u239dx  \u23a0"
       ]
      }
     ],
     "prompt_number": 32
    },
    {
     "cell_type": "code",
     "collapsed": false,
     "input": [
      "def g(x): return (1-x**2)/(x**2+1)\n",
      "def f(x): return x/(1+x**2)\n",
      "\n",
      "Latex(Riordan_matrix_latex_code(g, f, x, order=10))"
     ],
     "language": "python",
     "metadata": {},
     "outputs": [
      {
       "latex": [
        "\\begin{equation} \\left( \\frac{- x^{2} + 1}{x^{2} + 1}, \\frac{x}{x^{2} + 1} \\right) = \\left[ \\begin{array}{ccccccccccc}1 &  &  &  &  &  &  &  &  &  &  \\\\ 0 & 1 &  &  &  &  &  &  &  &  &  \\\\ -2 & 0 & 1 &  &  &  &  &  &  &  &  \\\\ 0 & -3 & 0 & 1 &  &  &  &  &  &  &  \\\\ 2 & 0 & -4 & 0 & 1 &  &  &  &  &  &  \\\\ 0 & 5 & 0 & -5 & 0 & 1 &  &  &  &  &  \\\\ -2 & 0 & 9 & 0 & -6 & 0 & 1 &  &  &  &  \\\\ 0 & -7 & 0 & 14 & 0 & -7 & 0 & 1 &  &  &  \\\\ 2 & 0 & -16 & 0 & 20 & 0 & -8 & 0 & 1 &  &  \\\\ 0 & 9 & 0 & -30 & 0 & 27 & 0 & -9 & 0 & 1 &  \\\\ \\vdots & \\vdots & \\vdots & \\vdots & \\vdots & \\vdots & \\vdots & \\vdots & \\vdots & \\vdots & \\ddots\\end{array} \\right] \\end{equation}"
       ],
       "metadata": {},
       "output_type": "pyout",
       "prompt_number": 12,
       "text": [
        "<IPython.core.display.Latex at 0x2b78ecf8a9b0>"
       ]
      }
     ],
     "prompt_number": 12
    },
    {
     "cell_type": "code",
     "collapsed": false,
     "input": [
      "series(f(x),x,n=20)"
     ],
     "language": "python",
     "metadata": {},
     "outputs": [
      {
       "latex": [
        "$$x - x^{3} + x^{5} - x^{7} + x^{9} - x^{11} + x^{13} - x^{15} + x^{17} - x^{19} + \\mathcal{O}\\left(x^{20}\\right)$$"
       ],
       "metadata": {},
       "output_type": "pyout",
       "png": "[encoded data removed]",
       "prompt_number": 14,
       "text": [
        "     3    5    7    9    11    13    15    17    19    \u239b 20\u239e\n",
        "x - x  + x  - x  + x  - x   + x   - x   + x   - x   + O\u239dx  \u23a0"
       ]
      }
     ],
     "prompt_number": 14
    },
    {
     "cell_type": "code",
     "collapsed": false,
     "input": [
      "def g(x): return 1/sqrt(1-2*x-3*x**2)\n",
      "def f(x): return (1-x-sqrt(1-2*x-3*x**2))/(2*x)\n",
      "\n",
      "Latex(Riordan_matrix_latex_code(g, f, x, order=10))"
     ],
     "language": "python",
     "metadata": {},
     "outputs": [
      {
       "latex": [
        "\\begin{equation} \\left( \\frac{1}{\\sqrt{- \\left(x + 1\\right) \\left(3 x - 1\\right)}}, - \\frac{1}{2 x} \\left(x + \\sqrt{- 3 x^{2} - 2 x + 1} - 1\\right) \\right) = \\left[ \\begin{array}{ccccccccccc}1 &  &  &  &  &  &  &  &  &  &  \\\\ 1 & 1 &  &  &  &  &  &  &  &  &  \\\\ 3 & 2 & 1 &  &  &  &  &  &  &  &  \\\\ 7 & 6 & 3 & 1 &  &  &  &  &  &  &  \\\\ 19 & 16 & 10 & 4 & 1 &  &  &  &  &  &  \\\\ 51 & 45 & 30 & 15 & 5 & 1 &  &  &  &  &  \\\\ 141 & 126 & 90 & 50 & 21 & 6 & 1 &  &  &  &  \\\\ 393 & 357 & 266 & 161 & 77 & 28 & 7 & 1 &  &  &  \\\\ 1107 & 1016 & 784 & 504 & 266 & 112 & 36 & 8 & 1 &  &  \\\\ 3139 & 2907 & 2304 & 1554 & 882 & 414 & 156 & 45 & 9 & 1 &  \\\\ \\vdots & \\vdots & \\vdots & \\vdots & \\vdots & \\vdots & \\vdots & \\vdots & \\vdots & \\vdots & \\ddots\\end{array} \\right] \\end{equation}"
       ],
       "metadata": {},
       "output_type": "pyout",
       "prompt_number": 4,
       "text": [
        "<IPython.core.display.Latex at 0x2b6c54f05e80>"
       ]
      }
     ],
     "prompt_number": 4
    },
    {
     "cell_type": "code",
     "collapsed": false,
     "input": [
      "series(f(x),x,n=10)\n",
      "display(series((3+2*x+x**2)/(1-x), n=10))"
     ],
     "language": "python",
     "metadata": {},
     "outputs": [
      {
       "latex": [
        "$$3 + 5 x + 6 x^{2} + 6 x^{3} + 6 x^{4} + 6 x^{5} + 6 x^{6} + 6 x^{7} + 6 x^{8} + 6 x^{9} + \\mathcal{O}\\left(x^{10}\\right)$$"
       ],
       "metadata": {},
       "output_type": "display_data",
       "png": "[encoded data removed]",
       "text": [
        "             2      3      4      5      6      7      8      9    \u239b 10\u239e\n",
        "3 + 5\u22c5x + 6\u22c5x  + 6\u22c5x  + 6\u22c5x  + 6\u22c5x  + 6\u22c5x  + 6\u22c5x  + 6\u22c5x  + 6\u22c5x  + O\u239dx  \u23a0"
       ]
      }
     ],
     "prompt_number": 7
    },
    {
     "cell_type": "code",
     "collapsed": false,
     "input": [
      "def g(x): return Integer(1)\n",
      "def f(x): return x/(1-x)\n",
      "\n",
      "for n in range(1,6):\n",
      "    display(series(f(x)**n, n=10))\n",
      "\n",
      "Latex(Riordan_matrix_latex_code(g, f, x, order=10))"
     ],
     "language": "python",
     "metadata": {},
     "outputs": [
      {
       "latex": [
        "$$x + x^{2} + x^{3} + x^{4} + x^{5} + x^{6} + x^{7} + x^{8} + x^{9} + \\mathcal{O}\\left(x^{10}\\right)$$"
       ],
       "metadata": {},
       "output_type": "display_data",
       "png": "[encoded data removed]",
       "text": [
        "     2    3    4    5    6    7    8    9    \u239b 10\u239e\n",
        "x + x  + x  + x  + x  + x  + x  + x  + x  + O\u239dx  \u23a0"
       ]
      },
      {
       "latex": [
        "$$x^{2} + 2 x^{3} + 3 x^{4} + 4 x^{5} + 5 x^{6} + 6 x^{7} + 7 x^{8} + 8 x^{9} + \\mathcal{O}\\left(x^{10}\\right)$$"
       ],
       "metadata": {},
       "output_type": "display_data",
       "png": "[encoded data removed]",
       "text": [
        " 2      3      4      5      6      7      8      9    \u239b 10\u239e\n",
        "x  + 2\u22c5x  + 3\u22c5x  + 4\u22c5x  + 5\u22c5x  + 6\u22c5x  + 7\u22c5x  + 8\u22c5x  + O\u239dx  \u23a0"
       ]
      },
      {
       "latex": [
        "$$x^{3} + 3 x^{4} + 6 x^{5} + 10 x^{6} + 15 x^{7} + 21 x^{8} + 28 x^{9} + \\mathcal{O}\\left(x^{10}\\right)$$"
       ],
       "metadata": {},
       "output_type": "display_data",
       "png": "[encoded data removed]",
       "text": [
        " 3      4      5       6       7       8       9    \u239b 10\u239e\n",
        "x  + 3\u22c5x  + 6\u22c5x  + 10\u22c5x  + 15\u22c5x  + 21\u22c5x  + 28\u22c5x  + O\u239dx  \u23a0"
       ]
      },
      {
       "latex": [
        "$$x^{4} + 4 x^{5} + 10 x^{6} + 20 x^{7} + 35 x^{8} + 56 x^{9} + \\mathcal{O}\\left(x^{10}\\right)$$"
       ],
       "metadata": {},
       "output_type": "display_data",
       "png": "[encoded data removed]",
       "text": [
        " 4      5       6       7       8       9    \u239b 10\u239e\n",
        "x  + 4\u22c5x  + 10\u22c5x  + 20\u22c5x  + 35\u22c5x  + 56\u22c5x  + O\u239dx  \u23a0"
       ]
      },
      {
       "latex": [
        "$$x^{5} + 5 x^{6} + 15 x^{7} + 35 x^{8} + 70 x^{9} + \\mathcal{O}\\left(x^{10}\\right)$$"
       ],
       "metadata": {},
       "output_type": "display_data",
       "png": "[encoded data removed]",
       "text": [
        " 5      6       7       8       9    \u239b 10\u239e\n",
        "x  + 5\u22c5x  + 15\u22c5x  + 35\u22c5x  + 70\u22c5x  + O\u239dx  \u23a0"
       ]
      },
      {
       "latex": [
        "\\begin{equation} \\left( 1, - \\frac{x}{x - 1} \\right) = \\left[ \\begin{array}{ccccccccccc}1 &  &  &  &  &  &  &  &  &  &  \\\\ 0 & 1 &  &  &  &  &  &  &  &  &  \\\\ 0 & 1 & 1 &  &  &  &  &  &  &  &  \\\\ 0 & 1 & 2 & 1 &  &  &  &  &  &  &  \\\\ 0 & 1 & 3 & 3 & 1 &  &  &  &  &  &  \\\\ 0 & 1 & 4 & 6 & 4 & 1 &  &  &  &  &  \\\\ 0 & 1 & 5 & 10 & 10 & 5 & 1 &  &  &  &  \\\\ 0 & 1 & 6 & 15 & 20 & 15 & 6 & 1 &  &  &  \\\\ 0 & 1 & 7 & 21 & 35 & 35 & 21 & 7 & 1 &  &  \\\\ 0 & 1 & 8 & 28 & 56 & 70 & 56 & 28 & 8 & 1 &  \\\\ \\vdots & \\vdots & \\vdots & \\vdots & \\vdots & \\vdots & \\vdots & \\vdots & \\vdots & \\vdots & \\ddots\\end{array} \\right] \\end{equation}"
       ],
       "metadata": {},
       "output_type": "pyout",
       "prompt_number": 12,
       "text": [
        "<IPython.core.display.Latex at 0x2b6c552d9860>"
       ]
      }
     ],
     "prompt_number": 12
    },
    {
     "cell_type": "code",
     "collapsed": false,
     "input": [
      "def d(t): return (1-t)/(1-2*t)\n",
      "def h(t): return (1+t)/((1-t)*t)\n",
      "\n",
      "Latex(Riordan_matrix_latex_code(d, h, t, order=10))"
     ],
     "language": "python",
     "metadata": {},
     "outputs": [
      {
       "latex": [
        "\\begin{equation} \\left( \\frac{t - 1}{2 t - 1}, - \\frac{t + 1}{t \\left(t - 1\\right)} \\right) = \\left[ \\begin{array}{ccccccccccc}1 & 3 & 14 & 72 & 384 & 2088 & 11492 & 63780 & 356144 & 1998000 &  \\\\ 1 & 6 & 32 & 172 & 936 & 5144 & 28484 & 158652 & 887792 & 4986736 &  \\\\ 2 & 12 & 68 & 380 & 2120 & 11848 & 66388 & 372996 & 2100944 & 11860880 &  \\\\ 4 & 24 & 140 & 804 & 4584 & 26056 & 147956 & 840156 & 4773200 & 27138640 &  \\\\ 8 & 48 & 284 & 1660 & 9624 & 55512 & 319204 & 1832100 & 10504560 & 60197360 &  \\\\ 16 & 96 & 572 & 3380 & 19832 & 115736 & 672740 & 3899260 & 22554160 & 130268080 &  \\\\ 32 & 192 & 1148 & 6828 & 40392 & 237800 & 1394420 & 8150340 & 47516560 & 276462032 &  \\\\ 64 & 384 & 2300 & 13732 & 81672 & 483880 & 2856660 & 16812060 & 98677392 & 577867408 &  \\\\ 128 & 768 & 4604 & 27548 & 164408 & 978360 & 5805060 & 34348772 & 202727984 & 1193793584 &  \\\\ 256 & 1536 & 9212 & 55188 & 330072 & 1970040 & 11731652 & 69701820 & 413198192 & 2444317680 &  \\\\ \\vdots & \\vdots & \\vdots & \\vdots & \\vdots & \\vdots & \\vdots & \\vdots & \\vdots & \\vdots & \\ddots\\end{array} \\right] \\end{equation}"
       ],
       "metadata": {},
       "output_type": "pyout",
       "prompt_number": 7,
       "text": [
        "<IPython.core.display.Latex at 0x2b992d77a780>"
       ]
      }
     ],
     "prompt_number": 7
    },
    {
     "cell_type": "code",
     "collapsed": false,
     "input": [
      "def curious(m): return ((1 + x)**m)*x**(m+1)/(1 -x -x**2)**(m+1)\n",
      "[display(series(curious(m),n=10)) for m in range(5)]; None"
     ],
     "language": "python",
     "metadata": {},
     "outputs": [
      {
       "latex": [
        "$$x + x^{2} + 2 x^{3} + 3 x^{4} + 5 x^{5} + 8 x^{6} + 13 x^{7} + 21 x^{8} + 34 x^{9} + \\mathcal{O}\\left(x^{10}\\right)$$"
       ],
       "metadata": {},
       "output_type": "display_data",
       "png": "[encoded data removed]",
       "text": [
        "     2      3      4      5      6       7       8       9    \u239b 10\u239e\n",
        "x + x  + 2\u22c5x  + 3\u22c5x  + 5\u22c5x  + 8\u22c5x  + 13\u22c5x  + 21\u22c5x  + 34\u22c5x  + O\u239dx  \u23a0"
       ]
      },
      {
       "latex": [
        "$$x^{2} + 3 x^{3} + 7 x^{4} + 15 x^{5} + 30 x^{6} + 58 x^{7} + 109 x^{8} + 201 x^{9} + \\mathcal{O}\\left(x^{10}\\right)$$"
       ],
       "metadata": {},
       "output_type": "display_data",
       "png": "[encoded data removed]",
       "text": [
        " 2      3      4       5       6       7        8        9    \u239b 10\u239e\n",
        "x  + 3\u22c5x  + 7\u22c5x  + 15\u22c5x  + 30\u22c5x  + 58\u22c5x  + 109\u22c5x  + 201\u22c5x  + O\u239dx  \u23a0"
       ]
      },
      {
       "latex": [
        "$$x^{3} + 5 x^{4} + 16 x^{5} + 43 x^{6} + 104 x^{7} + 235 x^{8} + 506 x^{9} + \\mathcal{O}\\left(x^{10}\\right)$$"
       ],
       "metadata": {},
       "output_type": "display_data",
       "png": "[encoded data removed]",
       "text": [
        " 3      4       5       6        7        8        9    \u239b 10\u239e\n",
        "x  + 5\u22c5x  + 16\u22c5x  + 43\u22c5x  + 104\u22c5x  + 235\u22c5x  + 506\u22c5x  + O\u239dx  \u23a0"
       ]
      },
      {
       "latex": [
        "$$x^{4} + 7 x^{5} + 29 x^{6} + 95 x^{7} + 271 x^{8} + 705 x^{9} + \\mathcal{O}\\left(x^{10}\\right)$$"
       ],
       "metadata": {},
       "output_type": "display_data",
       "png": "[encoded data removed]",
       "text": [
        " 4      5       6       7        8        9    \u239b 10\u239e\n",
        "x  + 7\u22c5x  + 29\u22c5x  + 95\u22c5x  + 271\u22c5x  + 705\u22c5x  + O\u239dx  \u23a0"
       ]
      },
      {
       "latex": [
        "$$x^{5} + 9 x^{6} + 46 x^{7} + 179 x^{8} + 591 x^{9} + \\mathcal{O}\\left(x^{10}\\right)$$"
       ],
       "metadata": {},
       "output_type": "display_data",
       "png": "[encoded data removed]",
       "text": [
        " 5      6       7        8        9    \u239b 10\u239e\n",
        "x  + 9\u22c5x  + 46\u22c5x  + 179\u22c5x  + 591\u22c5x  + O\u239dx  \u23a0"
       ]
      }
     ],
     "prompt_number": 3
    },
    {
     "cell_type": "code",
     "collapsed": false,
     "input": [
      "def g(x): return Integer(1)\n",
      "def f(x): return x*(1+x)\n",
      "\n",
      "Latex(Riordan_matrix_latex_code(g, f, x, order=10))"
     ],
     "language": "python",
     "metadata": {},
     "outputs": [
      {
       "latex": [
        "\\begin{equation} \\left( 1, x \\left(x + 1\\right) \\right) = \\left[ \\begin{array}{ccccccccccc}1 &  &  &  &  &  &  &  &  &  &  \\\\ 0 & 1 &  &  &  &  &  &  &  &  &  \\\\ 0 & 1 & 1 &  &  &  &  &  &  &  &  \\\\ 0 & 0 & 2 & 1 &  &  &  &  &  &  &  \\\\ 0 & 0 & 1 & 3 & 1 &  &  &  &  &  &  \\\\ 0 & 0 & 0 & 3 & 4 & 1 &  &  &  &  &  \\\\ 0 & 0 & 0 & 1 & 6 & 5 & 1 &  &  &  &  \\\\ 0 & 0 & 0 & 0 & 4 & 10 & 6 & 1 &  &  &  \\\\ 0 & 0 & 0 & 0 & 1 & 10 & 15 & 7 & 1 &  &  \\\\ 0 & 0 & 0 & 0 & 0 & 5 & 20 & 21 & 8 & 1 &  \\\\ \\vdots & \\vdots & \\vdots & \\vdots & \\vdots & \\vdots & \\vdots & \\vdots & \\vdots & \\vdots & \\ddots\\end{array} \\right] \\end{equation}"
       ],
       "metadata": {},
       "output_type": "pyout",
       "prompt_number": 6,
       "text": [
        "<IPython.core.display.Latex at 0x2ad9c974c9b0>"
       ]
      }
     ],
     "prompt_number": 6
    },
    {
     "cell_type": "markdown",
     "metadata": {},
     "source": [
      "# Identities and inverse relations"
     ]
    },
    {
     "cell_type": "code",
     "collapsed": false,
     "input": [
      "s = series((1-x)**(2*n),x,n=10).subs(n,4)\n",
      "s, s.coeff(x**5)-s.coeff(x**4)"
     ],
     "language": "python",
     "metadata": {},
     "outputs": [
      {
       "latex": [
        "$$\\left ( 1 - 8 x + 28 x^{2} - 56 x^{3} + 70 x^{4} - 56 x^{5} + 28 x^{6} - 8 x^{7} + x^{8} + \\mathcal{O}\\left(x^{10}\\right), \\quad -126\\right )$$"
       ],
       "metadata": {},
       "output_type": "pyout",
       "png": "[encoded data removed]",
       "prompt_number": 20,
       "text": [
        "\u239b              2       3       4       5       6      7    8    \u239b 10\u239e      \u239e\n",
        "\u239d1 - 8\u22c5x + 28\u22c5x  - 56\u22c5x  + 70\u22c5x  - 56\u22c5x  + 28\u22c5x  - 8\u22c5x  + x  + O\u239dx  \u23a0, -126\u23a0"
       ]
      }
     ],
     "prompt_number": 20
    },
    {
     "cell_type": "code",
     "collapsed": false,
     "input": [
      "series((1+x)**5,x,n=10)"
     ],
     "language": "python",
     "metadata": {},
     "outputs": [
      {
       "latex": [
        "$$x^{5} + 5 x^{4} + 10 x^{3} + 10 x^{2} + 5 x + 1$$"
       ],
       "metadata": {},
       "output_type": "pyout",
       "png": "[encoded data removed]",
       "prompt_number": 21,
       "text": [
        " 5      4       3       2          \n",
        "x  + 5\u22c5x  + 10\u22c5x  + 10\u22c5x  + 5\u22c5x + 1"
       ]
      }
     ],
     "prompt_number": 21
    },
    {
     "cell_type": "code",
     "collapsed": false,
     "input": [
      "list(map(display, (series((1/sqrt(1+2*x-3*x**2))*(1+x)**(n-1) *(1+x),x,n=10) for n in range(5))))\n",
      "print(\"\\n\")\n",
      "list(map(display, (series((1/sqrt(1+2*x-3*x**2))*(1+x)**(n-1),x,n=10) for n in range(5))))\n",
      "None"
     ],
     "language": "python",
     "metadata": {},
     "outputs": [
      {
       "latex": [
        "$$1 - x + 3 x^{2} - 7 x^{3} + 19 x^{4} - 51 x^{5} + 141 x^{6} - 393 x^{7} + 1107 x^{8} - 3139 x^{9} + \\mathcal{O}\\left(x^{10}\\right)$$"
       ],
       "metadata": {},
       "output_type": "display_data",
       "png": "[encoded data removed]",
       "text": [
        "           2      3       4       5        6        7         8         9    \u239b\n",
        "1 - x + 3\u22c5x  - 7\u22c5x  + 19\u22c5x  - 51\u22c5x  + 141\u22c5x  - 393\u22c5x  + 1107\u22c5x  - 3139\u22c5x  + O\u239d\n",
        "\n",
        " 10\u239e\n",
        "x  \u23a0"
       ]
      },
      {
       "latex": [
        "$$1 + 2 x^{2} - 4 x^{3} + 12 x^{4} - 32 x^{5} + 90 x^{6} - 252 x^{7} + 714 x^{8} - 2032 x^{9} + \\mathcal{O}\\left(x^{10}\\right)$$"
       ],
       "metadata": {},
       "output_type": "display_data",
       "png": "[encoded data removed]",
       "text": [
        "       2      3       4       5       6        7        8         9    \u239b 10\u239e\n",
        "1 + 2\u22c5x  - 4\u22c5x  + 12\u22c5x  - 32\u22c5x  + 90\u22c5x  - 252\u22c5x  + 714\u22c5x  - 2032\u22c5x  + O\u239dx  \u23a0"
       ]
      },
      {
       "latex": [
        "$$1 + x + 2 x^{2} - 2 x^{3} + 8 x^{4} - 20 x^{5} + 58 x^{6} - 162 x^{7} + 462 x^{8} - 1318 x^{9} + \\mathcal{O}\\left(x^{10}\\right)$$"
       ],
       "metadata": {},
       "output_type": "display_data",
       "png": "[encoded data removed]",
       "text": [
        "           2      3      4       5       6        7        8         9    \u239b 10\n",
        "1 + x + 2\u22c5x  - 2\u22c5x  + 8\u22c5x  - 20\u22c5x  + 58\u22c5x  - 162\u22c5x  + 462\u22c5x  - 1318\u22c5x  + O\u239dx  \n",
        "\n",
        "\u239e\n",
        "\u23a0"
       ]
      },
      {
       "latex": [
        "$$1 + 2 x + 3 x^{2} + 6 x^{4} - 12 x^{5} + 38 x^{6} - 104 x^{7} + 300 x^{8} - 856 x^{9} + \\mathcal{O}\\left(x^{10}\\right)$$"
       ],
       "metadata": {},
       "output_type": "display_data",
       "png": "[encoded data removed]",
       "text": [
        "             2      4       5       6        7        8        9    \u239b 10\u239e\n",
        "1 + 2\u22c5x + 3\u22c5x  + 6\u22c5x  - 12\u22c5x  + 38\u22c5x  - 104\u22c5x  + 300\u22c5x  - 856\u22c5x  + O\u239dx  \u23a0"
       ]
      },
      {
       "latex": [
        "$$1 + 3 x + 5 x^{2} + 3 x^{3} + 6 x^{4} - 6 x^{5} + 26 x^{6} - 66 x^{7} + 196 x^{8} - 556 x^{9} + \\mathcal{O}\\left(x^{10}\\right)$$"
       ],
       "metadata": {},
       "output_type": "display_data",
       "png": "[encoded data removed]",
       "text": [
        "             2      3      4      5       6       7        8        9    \u239b 10\u239e\n",
        "1 + 3\u22c5x + 5\u22c5x  + 3\u22c5x  + 6\u22c5x  - 6\u22c5x  + 26\u22c5x  - 66\u22c5x  + 196\u22c5x  - 556\u22c5x  + O\u239dx  \u23a0"
       ]
      },
      {
       "output_type": "stream",
       "stream": "stdout",
       "text": [
        "\n",
        "\n"
       ]
      },
      {
       "latex": [
        "$$1 - 2 x + 5 x^{2} - 12 x^{3} + 31 x^{4} - 82 x^{5} + 223 x^{6} - 616 x^{7} + 1723 x^{8} - 4862 x^{9} + \\mathcal{O}\\left(x^{10}\\right)$$"
       ],
       "metadata": {},
       "output_type": "display_data",
       "png": "[encoded data removed]",
       "text": [
        "             2       3       4       5        6        7         8         9  \n",
        "1 - 2\u22c5x + 5\u22c5x  - 12\u22c5x  + 31\u22c5x  - 82\u22c5x  + 223\u22c5x  - 616\u22c5x  + 1723\u22c5x  - 4862\u22c5x  +\n",
        "\n",
        "  \u239b 10\u239e\n",
        " O\u239dx  \u23a0"
       ]
      },
      {
       "latex": [
        "$$1 - x + 3 x^{2} - 7 x^{3} + 19 x^{4} - 51 x^{5} + 141 x^{6} - 393 x^{7} + 1107 x^{8} - 3139 x^{9} + \\mathcal{O}\\left(x^{10}\\right)$$"
       ],
       "metadata": {},
       "output_type": "display_data",
       "png": "[encoded data removed]",
       "text": [
        "           2      3       4       5        6        7         8         9    \u239b\n",
        "1 - x + 3\u22c5x  - 7\u22c5x  + 19\u22c5x  - 51\u22c5x  + 141\u22c5x  - 393\u22c5x  + 1107\u22c5x  - 3139\u22c5x  + O\u239d\n",
        "\n",
        " 10\u239e\n",
        "x  \u23a0"
       ]
      },
      {
       "latex": [
        "$$1 + 2 x^{2} - 4 x^{3} + 12 x^{4} - 32 x^{5} + 90 x^{6} - 252 x^{7} + 714 x^{8} - 2032 x^{9} + \\mathcal{O}\\left(x^{10}\\right)$$"
       ],
       "metadata": {},
       "output_type": "display_data",
       "png": "[encoded data removed]",
       "text": [
        "       2      3       4       5       6        7        8         9    \u239b 10\u239e\n",
        "1 + 2\u22c5x  - 4\u22c5x  + 12\u22c5x  - 32\u22c5x  + 90\u22c5x  - 252\u22c5x  + 714\u22c5x  - 2032\u22c5x  + O\u239dx  \u23a0"
       ]
      },
      {
       "latex": [
        "$$1 + x + 2 x^{2} - 2 x^{3} + 8 x^{4} - 20 x^{5} + 58 x^{6} - 162 x^{7} + 462 x^{8} - 1318 x^{9} + \\mathcal{O}\\left(x^{10}\\right)$$"
       ],
       "metadata": {},
       "output_type": "display_data",
       "png": "[encoded data removed]",
       "text": [
        "           2      3      4       5       6        7        8         9    \u239b 10\n",
        "1 + x + 2\u22c5x  - 2\u22c5x  + 8\u22c5x  - 20\u22c5x  + 58\u22c5x  - 162\u22c5x  + 462\u22c5x  - 1318\u22c5x  + O\u239dx  \n",
        "\n",
        "\u239e\n",
        "\u23a0"
       ]
      },
      {
       "latex": [
        "$$1 + 2 x + 3 x^{2} + 6 x^{4} - 12 x^{5} + 38 x^{6} - 104 x^{7} + 300 x^{8} - 856 x^{9} + \\mathcal{O}\\left(x^{10}\\right)$$"
       ],
       "metadata": {},
       "output_type": "display_data",
       "png": "[encoded data removed]",
       "text": [
        "             2      4       5       6        7        8        9    \u239b 10\u239e\n",
        "1 + 2\u22c5x + 3\u22c5x  + 6\u22c5x  - 12\u22c5x  + 38\u22c5x  - 104\u22c5x  + 300\u22c5x  - 856\u22c5x  + O\u239dx  \u23a0"
       ]
      }
     ],
     "prompt_number": 28
    },
    {
     "cell_type": "markdown",
     "metadata": {},
     "source": [
      "---"
     ]
    },
    {
     "cell_type": "markdown",
     "metadata": {},
     "source": [
      "# $A$ and $Z$ sequences for characterizing Riordan arrays"
     ]
    },
    {
     "cell_type": "markdown",
     "metadata": {},
     "source": [
      "## Fibonacci triangle"
     ]
    },
    {
     "cell_type": "code",
     "collapsed": false,
     "input": [
      "def d(x): return 1/(1-x-x**2)\n",
      "def h(x): return (1-sqrt(1-4*x))/2\n",
      "\n",
      "Latex(Riordan_matrix_latex_code(d, h, t, order=10))"
     ],
     "language": "python",
     "metadata": {},
     "outputs": [
      {
       "latex": [
        "\\begin{equation} \\left( - \\frac{1}{t^{2} + t - 1}, - \\frac{1}{2} \\left(\\sqrt{- 4 t + 1} - 1\\right) \\right) = \\left[ \\begin{array}{ccccccccccc}1 &  &  &  &  &  &  &  &  &  &  \\\\ 1 & 1 &  &  &  &  &  &  &  &  &  \\\\ 2 & 2 & 1 &  &  &  &  &  &  &  &  \\\\ 3 & 5 & 3 & 1 &  &  &  &  &  &  &  \\\\ 5 & 12 & 9 & 4 & 1 &  &  &  &  &  &  \\\\ 8 & 31 & 26 & 14 & 5 & 1 &  &  &  &  &  \\\\ 13 & 85 & 77 & 46 & 20 & 6 & 1 &  &  &  &  \\\\ 21 & 248 & 235 & 150 & 73 & 27 & 7 & 1 &  &  &  \\\\ 34 & 762 & 741 & 493 & 258 & 108 & 35 & 8 & 1 &  &  \\\\ 55 & 2440 & 2406 & 1644 & 903 & 410 & 152 & 44 & 9 & 1 &  \\\\ \\vdots & \\vdots & \\vdots & \\vdots & \\vdots & \\vdots & \\vdots & \\vdots & \\vdots & \\vdots & \\ddots\\end{array} \\right] \\end{equation}"
       ],
       "metadata": {},
       "output_type": "pyout",
       "prompt_number": 21,
       "text": [
        "<IPython.core.display.Latex at 0x2b4c9bc1f400>"
       ]
      }
     ],
     "prompt_number": 21
    },
    {
     "cell_type": "code",
     "collapsed": false,
     "input": [
      "Eq(h(t).factor(), series(h(t),n=10))"
     ],
     "language": "python",
     "metadata": {},
     "outputs": [
      {
       "latex": [
        "$$- \\frac{1}{2} \\left(\\sqrt{- 4 t + 1} - 1\\right) = t + t^{2} + 2 t^{3} + 5 t^{4} + 14 t^{5} + 42 t^{6} + 132 t^{7} + 429 t^{8} + 1430 t^{9} + \\mathcal{O}\\left(t^{10}\\right)$$"
       ],
       "metadata": {},
       "output_type": "pyout",
       "png": "[encoded data removed]",
       "prompt_number": 19,
       "text": [
        " \u239b  __________    \u239e                                                           \n",
        "-\u239d\u2572\u2571 -4\u22c5t + 1  - 1\u23a0         2      3      4       5       6        7        8 \n",
        "\u2500\u2500\u2500\u2500\u2500\u2500\u2500\u2500\u2500\u2500\u2500\u2500\u2500\u2500\u2500\u2500\u2500\u2500\u2500\u2500 = t + t  + 2\u22c5t  + 5\u22c5t  + 14\u22c5t  + 42\u22c5t  + 132\u22c5t  + 429\u22c5t  \n",
        "         2                                                                    \n",
        "\n",
        "                  \n",
        "        9    \u239b 10\u239e\n",
        "+ 1430\u22c5t  + O\u239dt  \u23a0\n",
        "                  "
       ]
      }
     ],
     "prompt_number": 19
    },
    {
     "cell_type": "code",
     "collapsed": false,
     "input": [
      "one_less_two_powers = x/((1-x)*(1-2*x))\n",
      "taken_apart = one_less_two_powers.apart()\n",
      "\n",
      "display(taken_apart)\n",
      "display(series(1/(1-2*x)))\n",
      "display(series(1/(x-1)))\n",
      "\n",
      "series(one_less_two_powers, n=10)"
     ],
     "language": "python",
     "metadata": {},
     "outputs": [
      {
       "latex": [
        "$$- \\frac{1}{2 x - 1} + \\frac{1}{x - 1}$$"
       ],
       "metadata": {},
       "output_type": "display_data",
       "png": "[encoded data removed]",
       "text": [
        "     1        1  \n",
        "- \u2500\u2500\u2500\u2500\u2500\u2500\u2500 + \u2500\u2500\u2500\u2500\u2500\n",
        "  2\u22c5x - 1   x - 1"
       ]
      },
      {
       "latex": [
        "$$1 + 2 x + 4 x^{2} + 8 x^{3} + 16 x^{4} + 32 x^{5} + \\mathcal{O}\\left(x^{6}\\right)$$"
       ],
       "metadata": {},
       "output_type": "display_data",
       "png": "[encoded data removed]",
       "text": [
        "             2      3       4       5    \u239b 6\u239e\n",
        "1 + 2\u22c5x + 4\u22c5x  + 8\u22c5x  + 16\u22c5x  + 32\u22c5x  + O\u239dx \u23a0"
       ]
      },
      {
       "latex": [
        "$$-1 - x - x^{2} - x^{3} - x^{4} - x^{5} + \\mathcal{O}\\left(x^{6}\\right)$$"
       ],
       "metadata": {},
       "output_type": "display_data",
       "png": "[encoded data removed]",
       "text": [
        "          2    3    4    5    \u239b 6\u239e\n",
        "-1 - x - x  - x  - x  - x  + O\u239dx \u23a0"
       ]
      },
      {
       "latex": [
        "$$x + 3 x^{2} + 7 x^{3} + 15 x^{4} + 31 x^{5} + 63 x^{6} + 127 x^{7} + 255 x^{8} + 511 x^{9} + \\mathcal{O}\\left(x^{10}\\right)$$"
       ],
       "metadata": {},
       "output_type": "pyout",
       "png": "[encoded data removed]",
       "prompt_number": 33,
       "text": [
        "       2      3       4       5       6        7        8        9    \u239b 10\u239e\n",
        "x + 3\u22c5x  + 7\u22c5x  + 15\u22c5x  + 31\u22c5x  + 63\u22c5x  + 127\u22c5x  + 255\u22c5x  + 511\u22c5x  + O\u239dx  \u23a0"
       ]
      }
     ],
     "prompt_number": 33
    },
    {
     "cell_type": "code",
     "collapsed": false,
     "input": [
      "def autocorrelation_polynomial(x=x,y=y): return (1 + x**2 * y**2 + x**3 * y**2)\n",
      "def avoiding_pattern_expr(x=x,y=y): return autocorrelation_polynomial(x,y) / ((1-x-y)*autocorrelation_polynomial(x,y) + x**4 * y**2)\n",
      "\n",
      "display(avoiding_pattern_expr())\n",
      "display(avoiding_pattern_expr(x,t/x))\n",
      "\n",
      "for_thm = avoiding_pattern_expr(x,t)\n",
      "for_thm.series(x,n=2).coeff(x).series()"
     ],
     "language": "python",
     "metadata": {},
     "outputs": [
      {
       "latex": [
        "$$\\frac{x^{3} y^{2} + x^{2} y^{2} + 1}{x^{4} y^{2} + \\left(- x - y + 1\\right) \\left(x^{3} y^{2} + x^{2} y^{2} + 1\\right)}$$"
       ],
       "metadata": {},
       "output_type": "display_data",
       "png": "[encoded data removed]",
       "text": [
        "            3  2    2  2                \n",
        "           x \u22c5y  + x \u22c5y  + 1            \n",
        "\u2500\u2500\u2500\u2500\u2500\u2500\u2500\u2500\u2500\u2500\u2500\u2500\u2500\u2500\u2500\u2500\u2500\u2500\u2500\u2500\u2500\u2500\u2500\u2500\u2500\u2500\u2500\u2500\u2500\u2500\u2500\u2500\u2500\u2500\u2500\u2500\u2500\u2500\u2500\u2500\n",
        " 4  2                \u239b 3  2    2  2    \u239e\n",
        "x \u22c5y  + (-x - y + 1)\u22c5\u239dx \u22c5y  + x \u22c5y  + 1\u23a0"
       ]
      },
      {
       "latex": [
        "$$\\frac{t^{2} x + t^{2} + 1}{t^{2} x^{2} + \\left(- \\frac{t}{x} - x + 1\\right) \\left(t^{2} x + t^{2} + 1\\right)}$$"
       ],
       "metadata": {},
       "output_type": "display_data",
       "png": "[encoded data removed]",
       "text": [
        "             2      2                \n",
        "            t \u22c5x + t  + 1            \n",
        "\u2500\u2500\u2500\u2500\u2500\u2500\u2500\u2500\u2500\u2500\u2500\u2500\u2500\u2500\u2500\u2500\u2500\u2500\u2500\u2500\u2500\u2500\u2500\u2500\u2500\u2500\u2500\u2500\u2500\u2500\u2500\u2500\u2500\u2500\u2500\u2500\u2500\n",
        " 2  2   \u239b  t        \u239e \u239b 2      2    \u239e\n",
        "t \u22c5x  + \u239c- \u2500 - x + 1\u239f\u22c5\u239dt \u22c5x + t  + 1\u23a0\n",
        "        \u239d  x        \u23a0                "
       ]
      },
      {
       "latex": [
        "$$1 + 2 t + 3 t^{2} + 4 t^{3} + 5 t^{4} + 6 t^{5} + \\mathcal{O}\\left(t^{6}\\right)$$"
       ],
       "metadata": {},
       "output_type": "pyout",
       "png": "[encoded data removed]",
       "prompt_number": 85,
       "text": [
        "             2      3      4      5    \u239b 6\u239e\n",
        "1 + 2\u22c5t + 3\u22c5t  + 4\u22c5t  + 5\u22c5t  + 6\u22c5t  + O\u239dt \u23a0"
       ]
      }
     ],
     "prompt_number": 85
    },
    {
     "cell_type": "code",
     "collapsed": false,
     "input": [
      "\n",
      "# getting the series over *x* means asking for *rows*'s generating functions\n",
      "x_series = series(avoiding_pattern_expr(), x,n=10)\n",
      "\n",
      "# get generating function of row 4th, expand it 'column-wise' (over *y*) in order to build row 4th as desired\n",
      "avoiding_pattern_expr(), x_series.coeff(x**4).series(y,n=10)"
     ],
     "language": "python",
     "metadata": {},
     "outputs": [
      {
       "latex": [
        "$$\\left ( \\frac{1}{x^{2} y - x - y + 1}, \\quad 1 + 2 y + 4 y^{2} + 8 y^{3} + 16 y^{4} + 31 y^{5} + 57 y^{6} + 99 y^{7} + 163 y^{8} + 256 y^{9} + \\mathcal{O}\\left(y^{10}\\right)\\right )$$"
       ],
       "metadata": {},
       "output_type": "pyout",
       "png": "[encoded data removed]",
       "prompt_number": 72,
       "text": [
        "\u239b       1                       2      3       4       5       6       7      \n",
        "\u239c\u2500\u2500\u2500\u2500\u2500\u2500\u2500\u2500\u2500\u2500\u2500\u2500\u2500\u2500\u2500\u2500, 1 + 2\u22c5y + 4\u22c5y  + 8\u22c5y  + 16\u22c5y  + 31\u22c5y  + 57\u22c5y  + 99\u22c5y  + 163\n",
        "\u239c 2                                                                           \n",
        "\u239dx \u22c5y - x - y + 1                                                             \n",
        "\n",
        "  8        9    \u239b 10\u239e\u239e\n",
        "\u22c5y  + 256\u22c5y  + O\u239dy  \u23a0\u239f\n",
        "                     \u239f\n",
        "                     \u23a0"
       ]
      }
     ],
     "prompt_number": 72
    },
    {
     "cell_type": "code",
     "collapsed": false,
     "input": [
      "series(1/(1-t),t,n=10)"
     ],
     "language": "python",
     "metadata": {},
     "outputs": [
      {
       "latex": [
        "$$1 + t + t^{2} + t^{3} + t^{4} + t^{5} + t^{6} + t^{7} + t^{8} + t^{9} + \\mathcal{O}\\left(t^{10}\\right)$$"
       ],
       "metadata": {},
       "output_type": "pyout",
       "png": "[encoded data removed]",
       "prompt_number": 91,
       "text": [
        "         2    3    4    5    6    7    8    9    \u239b 10\u239e\n",
        "1 + t + t  + t  + t  + t  + t  + t  + t  + t  + O\u239dt  \u23a0"
       ]
      }
     ],
     "prompt_number": 91
    },
    {
     "cell_type": "code",
     "collapsed": false,
     "input": [
      "# pattern p: 011\n",
      "def autocorrelation_polynomial(x=x,y=y): return 1\n",
      "def avoiding_pattern_expr(x=x,y=y): return autocorrelation_polynomial(x,y) / ((1-x-y)*autocorrelation_polynomial(x,y) + x**2 * y**1)\n",
      "\n",
      "display(avoiding_pattern_expr())\n",
      "display(avoiding_pattern_expr(x,t/x))\n",
      "\n",
      "for_thm = avoiding_pattern_expr(x,t/x)\n",
      "for_thm.series(x,n=2),for_thm.series(t,n=2)"
     ],
     "language": "python",
     "metadata": {},
     "outputs": [
      {
       "latex": [
        "$$\\frac{1}{x^{2} y - x - y + 1}$$"
       ],
       "metadata": {},
       "output_type": "display_data",
       "png": "[encoded data removed]",
       "text": [
        "       1        \n",
        "\u2500\u2500\u2500\u2500\u2500\u2500\u2500\u2500\u2500\u2500\u2500\u2500\u2500\u2500\u2500\u2500\n",
        " 2              \n",
        "x \u22c5y - x - y + 1"
       ]
      },
      {
       "latex": [
        "$$\\frac{1}{t x - \\frac{t}{x} - x + 1}$$"
       ],
       "metadata": {},
       "output_type": "display_data",
       "png": "[encoded data removed]",
       "text": [
        "       1       \n",
        "\u2500\u2500\u2500\u2500\u2500\u2500\u2500\u2500\u2500\u2500\u2500\u2500\u2500\u2500\u2500\n",
        "      t        \n",
        "t\u22c5x - \u2500 - x + 1\n",
        "      x        "
       ]
      },
      {
       "latex": [
        "$$\\left ( - \\frac{x}{t} + \\mathcal{O}\\left(x^{2}\\right), \\quad \\frac{1}{- x + 1} + t \\left(- \\frac{x}{\\left(- x + 1\\right)^{2}} + \\frac{1}{\\left(- x + 1\\right) \\left(- x^{2} + x\\right)}\\right) + \\mathcal{O}\\left(t^{2}\\right)\\right )$$"
       ],
       "metadata": {},
       "output_type": "pyout",
       "png": "[encoded data removed]",
       "prompt_number": 69,
       "text": [
        "\u239b  x    \u239b 2\u239e    1        \u239b      x                1         \u239e    \u239b 2\u239e\u239e\n",
        "\u239c- \u2500 + O\u239dx \u23a0, \u2500\u2500\u2500\u2500\u2500\u2500 + t\u22c5\u239c- \u2500\u2500\u2500\u2500\u2500\u2500\u2500\u2500\u2500 + \u2500\u2500\u2500\u2500\u2500\u2500\u2500\u2500\u2500\u2500\u2500\u2500\u2500\u2500\u2500\u2500\u2500\u2500\u2500\u239f + O\u239dt \u23a0\u239f\n",
        "\u239c  t          -x + 1     \u239c          2            \u239b   2    \u239e\u239f        \u239f\n",
        "\u239d                        \u239d  (-x + 1)    (-x + 1)\u22c5\u239d- x  + x\u23a0\u23a0        \u23a0"
       ]
      }
     ],
     "prompt_number": 69
    },
    {
     "cell_type": "code",
     "collapsed": false,
     "input": [
      "def R(n,k): return k/(2*(k-n-1))\n",
      "[display(series(R(n,k),x=n,n=10)) for k in range(10)]\n",
      "[display(series(R(n,k),x=k,n=10)) for n in range(10)]\n",
      "\n",
      "display(R(n, k))"
     ],
     "language": "python",
     "metadata": {},
     "outputs": [
      {
       "latex": [
        "$$0$$"
       ],
       "metadata": {},
       "output_type": "display_data",
       "png": "[encoded data removed]",
       "text": [
        "0"
       ]
      },
      {
       "latex": [
        "$$- \\frac{1}{2 n}$$"
       ],
       "metadata": {},
       "output_type": "display_data",
       "png": "[encoded data removed]",
       "text": [
        "-1 \n",
        "\u2500\u2500\u2500\n",
        "2\u22c5n"
       ]
      },
      {
       "latex": [
        "$$1 + n + n^{2} + n^{3} + n^{4} + n^{5} + n^{6} + n^{7} + n^{8} + n^{9} + \\mathcal{O}\\left(n^{10}\\right)$$"
       ],
       "metadata": {},
       "output_type": "display_data",
       "png": "[encoded data removed]",
       "text": [
        "         2    3    4    5    6    7    8    9    \u239b 10\u239e\n",
        "1 + n + n  + n  + n  + n  + n  + n  + n  + n  + O\u239dn  \u23a0"
       ]
      },
      {
       "latex": [
        "$$\\frac{3}{4} + \\frac{3 n}{8} + \\frac{3 n^{2}}{16} + \\frac{3 n^{3}}{32} + \\frac{3 n^{4}}{64} + \\frac{3 n^{5}}{128} + \\frac{3 n^{6}}{256} + \\frac{3 n^{7}}{512} + \\frac{3 n^{8}}{1024} + \\frac{3 n^{9}}{2048} + \\mathcal{O}\\left(n^{10}\\right)$$"
       ],
       "metadata": {},
       "output_type": "display_data",
       "png": "[encoded data removed]",
       "text": [
        "             2      3      4      5      6      7      8      9         \n",
        "3   3\u22c5n   3\u22c5n    3\u22c5n    3\u22c5n    3\u22c5n    3\u22c5n    3\u22c5n    3\u22c5n    3\u22c5n     \u239b 10\u239e\n",
        "\u2500 + \u2500\u2500\u2500 + \u2500\u2500\u2500\u2500 + \u2500\u2500\u2500\u2500 + \u2500\u2500\u2500\u2500 + \u2500\u2500\u2500\u2500 + \u2500\u2500\u2500\u2500 + \u2500\u2500\u2500\u2500 + \u2500\u2500\u2500\u2500 + \u2500\u2500\u2500\u2500 + O\u239dn  \u23a0\n",
        "4    8     16     32     64    128    256    512    1024   2048         "
       ]
      },
      {
       "latex": [
        "$$\\frac{2}{3} + \\frac{2 n}{9} + \\frac{2 n^{2}}{27} + \\frac{2 n^{3}}{81} + \\frac{2 n^{4}}{243} + \\frac{2 n^{5}}{729} + \\frac{2 n^{6}}{2187} + \\frac{2 n^{7}}{6561} + \\frac{2 n^{8}}{19683} + \\frac{2 n^{9}}{59049} + \\mathcal{O}\\left(n^{10}\\right)$$"
       ],
       "metadata": {},
       "output_type": "display_data",
       "png": "[encoded data removed]",
       "text": [
        "             2      3      4      5      6      7       8       9         \n",
        "2   2\u22c5n   2\u22c5n    2\u22c5n    2\u22c5n    2\u22c5n    2\u22c5n    2\u22c5n     2\u22c5n     2\u22c5n     \u239b 10\u239e\n",
        "\u2500 + \u2500\u2500\u2500 + \u2500\u2500\u2500\u2500 + \u2500\u2500\u2500\u2500 + \u2500\u2500\u2500\u2500 + \u2500\u2500\u2500\u2500 + \u2500\u2500\u2500\u2500 + \u2500\u2500\u2500\u2500 + \u2500\u2500\u2500\u2500\u2500 + \u2500\u2500\u2500\u2500\u2500 + O\u239dn  \u23a0\n",
        "3    9     27     81    243    729    2187   6561   19683   59049         "
       ]
      },
      {
       "latex": [
        "$$\\frac{5}{8} + \\frac{5 n}{32} + \\frac{5 n^{2}}{128} + \\frac{5 n^{3}}{512} + \\frac{5 n^{4}}{2048} + \\frac{5 n^{5}}{8192} + \\frac{5 n^{6}}{32768} + \\frac{5 n^{7}}{131072} + \\frac{5 n^{8}}{524288} + \\frac{5 n^{9}}{2097152} + \\mathcal{O}\\left(n^{10}\\right)$$"
       ],
       "metadata": {},
       "output_type": "display_data",
       "png": "[encoded data removed]",
       "text": [
        "             2      3      4      5       6       7        8         9        \n",
        "5   5\u22c5n   5\u22c5n    5\u22c5n    5\u22c5n    5\u22c5n     5\u22c5n     5\u22c5n      5\u22c5n       5\u22c5n      \u239b 1\n",
        "\u2500 + \u2500\u2500\u2500 + \u2500\u2500\u2500\u2500 + \u2500\u2500\u2500\u2500 + \u2500\u2500\u2500\u2500 + \u2500\u2500\u2500\u2500 + \u2500\u2500\u2500\u2500\u2500 + \u2500\u2500\u2500\u2500\u2500\u2500 + \u2500\u2500\u2500\u2500\u2500\u2500 + \u2500\u2500\u2500\u2500\u2500\u2500\u2500 + O\u239dn \n",
        "8    32   128    512    2048   8192   32768   131072   524288   2097152       \n",
        "\n",
        "  \n",
        "0\u239e\n",
        " \u23a0\n",
        "  "
       ]
      },
      {
       "latex": [
        "$$\\frac{3}{5} + \\frac{3 n}{25} + \\frac{3 n^{2}}{125} + \\frac{3 n^{3}}{625} + \\frac{3 n^{4}}{3125} + \\frac{3 n^{5}}{15625} + \\frac{3 n^{6}}{78125} + \\frac{3 n^{7}}{390625} + \\frac{3 n^{8}}{1953125} + \\frac{3 n^{9}}{9765625} + \\mathcal{O}\\left(n^{10}\\right)$$"
       ],
       "metadata": {},
       "output_type": "display_data",
       "png": "[encoded data removed]",
       "text": [
        "             2      3      4       5       6       7         8         9      \n",
        "3   3\u22c5n   3\u22c5n    3\u22c5n    3\u22c5n     3\u22c5n     3\u22c5n     3\u22c5n       3\u22c5n       3\u22c5n      \u239b\n",
        "\u2500 + \u2500\u2500\u2500 + \u2500\u2500\u2500\u2500 + \u2500\u2500\u2500\u2500 + \u2500\u2500\u2500\u2500 + \u2500\u2500\u2500\u2500\u2500 + \u2500\u2500\u2500\u2500\u2500 + \u2500\u2500\u2500\u2500\u2500\u2500 + \u2500\u2500\u2500\u2500\u2500\u2500\u2500 + \u2500\u2500\u2500\u2500\u2500\u2500\u2500 + O\u239d\n",
        "5    25   125    625    3125   15625   78125   390625   1953125   9765625     \n",
        "\n",
        "    \n",
        " 10\u239e\n",
        "n  \u23a0\n",
        "    "
       ]
      },
      {
       "latex": [
        "$$\\frac{7}{12} + \\frac{7 n}{72} + \\frac{7 n^{2}}{432} + \\frac{7 n^{3}}{2592} + \\frac{7 n^{4}}{15552} + \\frac{7 n^{5}}{93312} + \\frac{7 n^{6}}{559872} + \\frac{7 n^{7}}{3359232} + \\frac{7 n^{8}}{20155392} + \\frac{7 n^{9}}{120932352} + \\mathcal{O}\\left(n^{10}\\right)$$"
       ],
       "metadata": {},
       "output_type": "display_data",
       "png": "[encoded data removed]",
       "text": [
        "              2      3       4       5       6         7         8           9\n",
        "7    7\u22c5n   7\u22c5n    7\u22c5n     7\u22c5n     7\u22c5n     7\u22c5n       7\u22c5n       7\u22c5n         7\u22c5n \n",
        "\u2500\u2500 + \u2500\u2500\u2500 + \u2500\u2500\u2500\u2500 + \u2500\u2500\u2500\u2500 + \u2500\u2500\u2500\u2500\u2500 + \u2500\u2500\u2500\u2500\u2500 + \u2500\u2500\u2500\u2500\u2500\u2500 + \u2500\u2500\u2500\u2500\u2500\u2500\u2500 + \u2500\u2500\u2500\u2500\u2500\u2500\u2500\u2500 + \u2500\u2500\u2500\u2500\u2500\u2500\u2500\n",
        "12    72   432    2592   15552   93312   559872   3359232   20155392   1209323\n",
        "\n",
        "           \n",
        "      \u239b 10\u239e\n",
        "\u2500\u2500 + O\u239dn  \u23a0\n",
        "52         "
       ]
      },
      {
       "latex": [
        "$$\\frac{4}{7} + \\frac{4 n}{49} + \\frac{4 n^{2}}{343} + \\frac{4 n^{3}}{2401} + \\frac{4 n^{4}}{16807} + \\frac{4 n^{5}}{117649} + \\frac{4 n^{6}}{823543} + \\frac{4 n^{7}}{5764801} + \\frac{4 n^{8}}{40353607} + \\frac{4 n^{9}}{282475249} + \\mathcal{O}\\left(n^{10}\\right)$$"
       ],
       "metadata": {},
       "output_type": "display_data",
       "png": "[encoded data removed]",
       "text": [
        "             2      3       4       5        6         7         8           9\n",
        "4   4\u22c5n   4\u22c5n    4\u22c5n     4\u22c5n     4\u22c5n      4\u22c5n       4\u22c5n       4\u22c5n         4\u22c5n \n",
        "\u2500 + \u2500\u2500\u2500 + \u2500\u2500\u2500\u2500 + \u2500\u2500\u2500\u2500 + \u2500\u2500\u2500\u2500\u2500 + \u2500\u2500\u2500\u2500\u2500\u2500 + \u2500\u2500\u2500\u2500\u2500\u2500 + \u2500\u2500\u2500\u2500\u2500\u2500\u2500 + \u2500\u2500\u2500\u2500\u2500\u2500\u2500\u2500 + \u2500\u2500\u2500\u2500\u2500\u2500\u2500\n",
        "7    49   343    2401   16807   117649   823543   5764801   40353607   2824752\n",
        "\n",
        "           \n",
        "      \u239b 10\u239e\n",
        "\u2500\u2500 + O\u239dn  \u23a0\n",
        "49         "
       ]
      },
      {
       "latex": [
        "$$\\frac{9}{16} + \\frac{9 n}{128} + \\frac{9 n^{2}}{1024} + \\frac{9 n^{3}}{8192} + \\frac{9 n^{4}}{65536} + \\frac{9 n^{5}}{524288} + \\frac{9 n^{6}}{4194304} + \\frac{9 n^{7}}{33554432} + \\frac{9 n^{8}}{268435456} + \\frac{9 n^{9}}{2147483648} + \\mathcal{O}\\left(n^{10}\\right)$$"
       ],
       "metadata": {},
       "output_type": "display_data",
       "png": "[encoded data removed]",
       "text": [
        "              2      3       4       5         6         7           8        \n",
        "9    9\u22c5n   9\u22c5n    9\u22c5n     9\u22c5n     9\u22c5n       9\u22c5n       9\u22c5n         9\u22c5n         \n",
        "\u2500\u2500 + \u2500\u2500\u2500 + \u2500\u2500\u2500\u2500 + \u2500\u2500\u2500\u2500 + \u2500\u2500\u2500\u2500\u2500 + \u2500\u2500\u2500\u2500\u2500\u2500 + \u2500\u2500\u2500\u2500\u2500\u2500\u2500 + \u2500\u2500\u2500\u2500\u2500\u2500\u2500\u2500 + \u2500\u2500\u2500\u2500\u2500\u2500\u2500\u2500\u2500 + \u2500\u2500\u2500\n",
        "16   128   1024   8192   65536   524288   4194304   33554432   268435456   214\n",
        "\n",
        "   9            \n",
        "9\u22c5n        \u239b 10\u239e\n",
        "\u2500\u2500\u2500\u2500\u2500\u2500\u2500 + O\u239dn  \u23a0\n",
        "7483648         "
       ]
      },
      {
       "latex": [
        "$$- \\frac{k}{2} - \\frac{k^{2}}{2} - \\frac{k^{3}}{2} - \\frac{k^{4}}{2} - \\frac{k^{5}}{2} - \\frac{k^{6}}{2} - \\frac{k^{7}}{2} - \\frac{k^{8}}{2} - \\frac{k^{9}}{2} + \\mathcal{O}\\left(k^{10}\\right)$$"
       ],
       "metadata": {},
       "output_type": "display_data",
       "png": "[encoded data removed]",
       "text": [
        "       2    3    4    5    6    7    8    9         \n",
        "  k   k    k    k    k    k    k    k    k     \u239b 10\u239e\n",
        "- \u2500 - \u2500\u2500 - \u2500\u2500 - \u2500\u2500 - \u2500\u2500 - \u2500\u2500 - \u2500\u2500 - \u2500\u2500 - \u2500\u2500 + O\u239dk  \u23a0\n",
        "  2   2    2    2    2    2    2    2    2          "
       ]
      },
      {
       "latex": [
        "$$- \\frac{k}{4} - \\frac{k^{2}}{8} - \\frac{k^{3}}{16} - \\frac{k^{4}}{32} - \\frac{k^{5}}{64} - \\frac{k^{6}}{128} - \\frac{k^{7}}{256} - \\frac{k^{8}}{512} - \\frac{k^{9}}{1024} + \\mathcal{O}\\left(k^{10}\\right)$$"
       ],
       "metadata": {},
       "output_type": "display_data",
       "png": "[encoded data removed]",
       "text": [
        "       2    3    4    5     6     7     8     9          \n",
        "  k   k    k    k    k     k     k     k     k      \u239b 10\u239e\n",
        "- \u2500 - \u2500\u2500 - \u2500\u2500 - \u2500\u2500 - \u2500\u2500 - \u2500\u2500\u2500 - \u2500\u2500\u2500 - \u2500\u2500\u2500 - \u2500\u2500\u2500\u2500 + O\u239dk  \u23a0\n",
        "  4   8    16   32   64   128   256   512   1024         "
       ]
      },
      {
       "latex": [
        "$$- \\frac{k}{6} - \\frac{k^{2}}{18} - \\frac{k^{3}}{54} - \\frac{k^{4}}{162} - \\frac{k^{5}}{486} - \\frac{k^{6}}{1458} - \\frac{k^{7}}{4374} - \\frac{k^{8}}{13122} - \\frac{k^{9}}{39366} + \\mathcal{O}\\left(k^{10}\\right)$$"
       ],
       "metadata": {},
       "output_type": "display_data",
       "png": "[encoded data removed]",
       "text": [
        "       2    3     4     5     6      7       8       9          \n",
        "  k   k    k     k     k     k      k       k       k      \u239b 10\u239e\n",
        "- \u2500 - \u2500\u2500 - \u2500\u2500 - \u2500\u2500\u2500 - \u2500\u2500\u2500 - \u2500\u2500\u2500\u2500 - \u2500\u2500\u2500\u2500 - \u2500\u2500\u2500\u2500\u2500 - \u2500\u2500\u2500\u2500\u2500 + O\u239dk  \u23a0\n",
        "  6   18   54   162   486   1458   4374   13122   39366         "
       ]
      },
      {
       "latex": [
        "$$- \\frac{k}{8} - \\frac{k^{2}}{32} - \\frac{k^{3}}{128} - \\frac{k^{4}}{512} - \\frac{k^{5}}{2048} - \\frac{k^{6}}{8192} - \\frac{k^{7}}{32768} - \\frac{k^{8}}{131072} - \\frac{k^{9}}{524288} + \\mathcal{O}\\left(k^{10}\\right)$$"
       ],
       "metadata": {},
       "output_type": "display_data",
       "png": "[encoded data removed]",
       "text": [
        "       2     3     4     5      6       7       8        9           \n",
        "  k   k     k     k     k      k       k       k        k       \u239b 10\u239e\n",
        "- \u2500 - \u2500\u2500 - \u2500\u2500\u2500 - \u2500\u2500\u2500 - \u2500\u2500\u2500\u2500 - \u2500\u2500\u2500\u2500 - \u2500\u2500\u2500\u2500\u2500 - \u2500\u2500\u2500\u2500\u2500\u2500 - \u2500\u2500\u2500\u2500\u2500\u2500 + O\u239dk  \u23a0\n",
        "  8   32   128   512   2048   8192   32768   131072   524288         "
       ]
      },
      {
       "latex": [
        "$$- \\frac{k}{10} - \\frac{k^{2}}{50} - \\frac{k^{3}}{250} - \\frac{k^{4}}{1250} - \\frac{k^{5}}{6250} - \\frac{k^{6}}{31250} - \\frac{k^{7}}{156250} - \\frac{k^{8}}{781250} - \\frac{k^{9}}{3906250} + \\mathcal{O}\\left(k^{10}\\right)$$"
       ],
       "metadata": {},
       "output_type": "display_data",
       "png": "[encoded data removed]",
       "text": [
        "        2     3     4      5       6       7        8         9           \n",
        "  k    k     k     k      k       k       k        k         k       \u239b 10\u239e\n",
        "- \u2500\u2500 - \u2500\u2500 - \u2500\u2500\u2500 - \u2500\u2500\u2500\u2500 - \u2500\u2500\u2500\u2500 - \u2500\u2500\u2500\u2500\u2500 - \u2500\u2500\u2500\u2500\u2500\u2500 - \u2500\u2500\u2500\u2500\u2500\u2500 - \u2500\u2500\u2500\u2500\u2500\u2500\u2500 + O\u239dk  \u23a0\n",
        "  10   50   250   1250   6250   31250   156250   781250   3906250         "
       ]
      },
      {
       "latex": [
        "$$- \\frac{k}{12} - \\frac{k^{2}}{72} - \\frac{k^{3}}{432} - \\frac{k^{4}}{2592} - \\frac{k^{5}}{15552} - \\frac{k^{6}}{93312} - \\frac{k^{7}}{559872} - \\frac{k^{8}}{3359232} - \\frac{k^{9}}{20155392} + \\mathcal{O}\\left(k^{10}\\right)$$"
       ],
       "metadata": {},
       "output_type": "display_data",
       "png": "[encoded data removed]",
       "text": [
        "        2     3     4       5       6       7         8         9            \n",
        "  k    k     k     k       k       k       k         k         k        \u239b 10\u239e\n",
        "- \u2500\u2500 - \u2500\u2500 - \u2500\u2500\u2500 - \u2500\u2500\u2500\u2500 - \u2500\u2500\u2500\u2500\u2500 - \u2500\u2500\u2500\u2500\u2500 - \u2500\u2500\u2500\u2500\u2500\u2500 - \u2500\u2500\u2500\u2500\u2500\u2500\u2500 - \u2500\u2500\u2500\u2500\u2500\u2500\u2500\u2500 + O\u239dk  \u23a0\n",
        "  12   72   432   2592   15552   93312   559872   3359232   20155392         "
       ]
      },
      {
       "latex": [
        "$$- \\frac{k}{14} - \\frac{k^{2}}{98} - \\frac{k^{3}}{686} - \\frac{k^{4}}{4802} - \\frac{k^{5}}{33614} - \\frac{k^{6}}{235298} - \\frac{k^{7}}{1647086} - \\frac{k^{8}}{11529602} - \\frac{k^{9}}{80707214} + \\mathcal{O}\\left(k^{10}\\right)$$"
       ],
       "metadata": {},
       "output_type": "display_data",
       "png": "[encoded data removed]",
       "text": [
        "        2     3     4       5       6         7         8          9          \n",
        "  k    k     k     k       k       k         k         k          k        \u239b 1\n",
        "- \u2500\u2500 - \u2500\u2500 - \u2500\u2500\u2500 - \u2500\u2500\u2500\u2500 - \u2500\u2500\u2500\u2500\u2500 - \u2500\u2500\u2500\u2500\u2500\u2500 - \u2500\u2500\u2500\u2500\u2500\u2500\u2500 - \u2500\u2500\u2500\u2500\u2500\u2500\u2500\u2500 - \u2500\u2500\u2500\u2500\u2500\u2500\u2500\u2500 + O\u239dk \n",
        "  14   98   686   4802   33614   235298   1647086   11529602   80707214       \n",
        "\n",
        "  \n",
        "0\u239e\n",
        " \u23a0\n",
        "  "
       ]
      },
      {
       "latex": [
        "$$- \\frac{k}{16} - \\frac{k^{2}}{128} - \\frac{k^{3}}{1024} - \\frac{k^{4}}{8192} - \\frac{k^{5}}{65536} - \\frac{k^{6}}{524288} - \\frac{k^{7}}{4194304} - \\frac{k^{8}}{33554432} - \\frac{k^{9}}{268435456} + \\mathcal{O}\\left(k^{10}\\right)$$"
       ],
       "metadata": {},
       "output_type": "display_data",
       "png": "[encoded data removed]",
       "text": [
        "         2     3      4       5       6         7         8           9       \n",
        "  k     k     k      k       k       k         k         k           k        \n",
        "- \u2500\u2500 - \u2500\u2500\u2500 - \u2500\u2500\u2500\u2500 - \u2500\u2500\u2500\u2500 - \u2500\u2500\u2500\u2500\u2500 - \u2500\u2500\u2500\u2500\u2500\u2500 - \u2500\u2500\u2500\u2500\u2500\u2500\u2500 - \u2500\u2500\u2500\u2500\u2500\u2500\u2500\u2500 - \u2500\u2500\u2500\u2500\u2500\u2500\u2500\u2500\u2500 + O\n",
        "  16   128   1024   8192   65536   524288   4194304   33554432   268435456    \n",
        "\n",
        "     \n",
        "\u239b 10\u239e\n",
        "\u239dk  \u23a0\n",
        "     "
       ]
      },
      {
       "latex": [
        "$$- \\frac{k}{18} - \\frac{k^{2}}{162} - \\frac{k^{3}}{1458} - \\frac{k^{4}}{13122} - \\frac{k^{5}}{118098} - \\frac{k^{6}}{1062882} - \\frac{k^{7}}{9565938} - \\frac{k^{8}}{86093442} - \\frac{k^{9}}{774840978} + \\mathcal{O}\\left(k^{10}\\right)$$"
       ],
       "metadata": {},
       "output_type": "display_data",
       "png": "[encoded data removed]",
       "text": [
        "         2     3       4       5         6         7         8           9    \n",
        "  k     k     k       k       k         k         k         k           k     \n",
        "- \u2500\u2500 - \u2500\u2500\u2500 - \u2500\u2500\u2500\u2500 - \u2500\u2500\u2500\u2500\u2500 - \u2500\u2500\u2500\u2500\u2500\u2500 - \u2500\u2500\u2500\u2500\u2500\u2500\u2500 - \u2500\u2500\u2500\u2500\u2500\u2500\u2500 - \u2500\u2500\u2500\u2500\u2500\u2500\u2500\u2500 - \u2500\u2500\u2500\u2500\u2500\u2500\u2500\u2500\u2500 \n",
        "  18   162   1458   13122   118098   1062882   9565938   86093442   774840978 \n",
        "\n",
        "        \n",
        "   \u239b 10\u239e\n",
        "+ O\u239dk  \u23a0\n",
        "        "
       ]
      },
      {
       "latex": [
        "$$- \\frac{k}{20} - \\frac{k^{2}}{200} - \\frac{k^{3}}{2000} - \\frac{k^{4}}{20000} - \\frac{k^{5}}{200000} - \\frac{k^{6}}{2000000} - \\frac{k^{7}}{20000000} - \\frac{k^{8}}{200000000} - \\frac{k^{9}}{2000000000} + \\mathcal{O}\\left(k^{10}\\right)$$"
       ],
       "metadata": {},
       "output_type": "display_data",
       "png": "[encoded data removed]",
       "text": [
        "         2     3       4       5         6         7           8           9  \n",
        "  k     k     k       k       k         k         k           k           k   \n",
        "- \u2500\u2500 - \u2500\u2500\u2500 - \u2500\u2500\u2500\u2500 - \u2500\u2500\u2500\u2500\u2500 - \u2500\u2500\u2500\u2500\u2500\u2500 - \u2500\u2500\u2500\u2500\u2500\u2500\u2500 - \u2500\u2500\u2500\u2500\u2500\u2500\u2500\u2500 - \u2500\u2500\u2500\u2500\u2500\u2500\u2500\u2500\u2500 - \u2500\u2500\u2500\u2500\u2500\u2500\u2500\u2500\n",
        "  20   200   2000   20000   200000   2000000   20000000   200000000   20000000\n",
        "\n",
        "           \n",
        "      \u239b 10\u239e\n",
        "\u2500\u2500 + O\u239dk  \u23a0\n",
        "00         "
       ]
      },
      {
       "latex": [
        "$$\\frac{k}{2 k - 2 n - 2}$$"
       ],
       "metadata": {},
       "output_type": "display_data",
       "png": "[encoded data removed]",
       "text": [
        "      k      \n",
        "\u2500\u2500\u2500\u2500\u2500\u2500\u2500\u2500\u2500\u2500\u2500\u2500\u2500\n",
        "2\u22c5k - 2\u22c5n - 2"
       ]
      }
     ],
     "prompt_number": 11
    },
    {
     "cell_type": "code",
     "collapsed": false,
     "input": [
      "def R(n,k): return (k-1)/n\n",
      "[display(series(R(n,k),x=n,n=10)) for k in range(10)]\n",
      "[display(series(R(n,k),x=k,n=10)) for n in range(10)]\n",
      "\n",
      "display(R(n, k))"
     ],
     "language": "python",
     "metadata": {},
     "outputs": [
      {
       "latex": [
        "$$- \\frac{1}{n}$$"
       ],
       "metadata": {},
       "output_type": "display_data",
       "png": "[encoded data removed]",
       "text": [
        "-1 \n",
        "\u2500\u2500\u2500\n",
        " n "
       ]
      },
      {
       "latex": [
        "$$0$$"
       ],
       "metadata": {},
       "output_type": "display_data",
       "png": "[encoded data removed]",
       "text": [
        "0"
       ]
      },
      {
       "latex": [
        "$$\\frac{1}{n}$$"
       ],
       "metadata": {},
       "output_type": "display_data",
       "png": "[encoded data removed]",
       "text": [
        "1\n",
        "\u2500\n",
        "n"
       ]
      },
      {
       "latex": [
        "$$\\frac{2}{n}$$"
       ],
       "metadata": {},
       "output_type": "display_data",
       "png": "[encoded data removed]",
       "text": [
        "2\n",
        "\u2500\n",
        "n"
       ]
      },
      {
       "latex": [
        "$$\\frac{3}{n}$$"
       ],
       "metadata": {},
       "output_type": "display_data",
       "png": "[encoded data removed]",
       "text": [
        "3\n",
        "\u2500\n",
        "n"
       ]
      },
      {
       "latex": [
        "$$\\frac{4}{n}$$"
       ],
       "metadata": {},
       "output_type": "display_data",
       "png": "[encoded data removed]",
       "text": [
        "4\n",
        "\u2500\n",
        "n"
       ]
      },
      {
       "latex": [
        "$$\\frac{5}{n}$$"
       ],
       "metadata": {},
       "output_type": "display_data",
       "png": "[encoded data removed]",
       "text": [
        "5\n",
        "\u2500\n",
        "n"
       ]
      },
      {
       "latex": [
        "$$\\frac{6}{n}$$"
       ],
       "metadata": {},
       "output_type": "display_data",
       "png": "[encoded data removed]",
       "text": [
        "6\n",
        "\u2500\n",
        "n"
       ]
      },
      {
       "latex": [
        "$$\\frac{7}{n}$$"
       ],
       "metadata": {},
       "output_type": "display_data",
       "png": "[encoded data removed]",
       "text": [
        "7\n",
        "\u2500\n",
        "n"
       ]
      },
      {
       "latex": [
        "$$\\frac{8}{n}$$"
       ],
       "metadata": {},
       "output_type": "display_data",
       "png": "[encoded data removed]",
       "text": [
        "8\n",
        "\u2500\n",
        "n"
       ]
      },
      {
       "latex": [
        "$$\\mathrm{NaN}$$"
       ],
       "metadata": {},
       "output_type": "display_data",
       "png": "[encoded data removed]",
       "text": [
        "nan"
       ]
      },
      {
       "latex": [
        "$$k - 1$$"
       ],
       "metadata": {},
       "output_type": "display_data",
       "png": "[encoded data removed]",
       "text": [
        "k - 1"
       ]
      },
      {
       "latex": [
        "$$\\frac{k}{2} - \\frac{1}{2}$$"
       ],
       "metadata": {},
       "output_type": "display_data",
       "png": "[encoded data removed]",
       "text": [
        "k   1\n",
        "\u2500 - \u2500\n",
        "2   2"
       ]
      },
      {
       "latex": [
        "$$\\frac{k}{3} - \\frac{1}{3}$$"
       ],
       "metadata": {},
       "output_type": "display_data",
       "png": "[encoded data removed]",
       "text": [
        "k   1\n",
        "\u2500 - \u2500\n",
        "3   3"
       ]
      },
      {
       "latex": [
        "$$\\frac{k}{4} - \\frac{1}{4}$$"
       ],
       "metadata": {},
       "output_type": "display_data",
       "png": "[encoded data removed]",
       "text": [
        "k   1\n",
        "\u2500 - \u2500\n",
        "4   4"
       ]
      },
      {
       "latex": [
        "$$\\frac{k}{5} - \\frac{1}{5}$$"
       ],
       "metadata": {},
       "output_type": "display_data",
       "png": "[encoded data removed]",
       "text": [
        "k   1\n",
        "\u2500 - \u2500\n",
        "5   5"
       ]
      },
      {
       "latex": [
        "$$\\frac{k}{6} - \\frac{1}{6}$$"
       ],
       "metadata": {},
       "output_type": "display_data",
       "png": "[encoded data removed]",
       "text": [
        "k   1\n",
        "\u2500 - \u2500\n",
        "6   6"
       ]
      },
      {
       "latex": [
        "$$\\frac{k}{7} - \\frac{1}{7}$$"
       ],
       "metadata": {},
       "output_type": "display_data",
       "png": "[encoded data removed]",
       "text": [
        "k   1\n",
        "\u2500 - \u2500\n",
        "7   7"
       ]
      },
      {
       "latex": [
        "$$\\frac{k}{8} - \\frac{1}{8}$$"
       ],
       "metadata": {},
       "output_type": "display_data",
       "png": "[encoded data removed]",
       "text": [
        "k   1\n",
        "\u2500 - \u2500\n",
        "8   8"
       ]
      },
      {
       "latex": [
        "$$\\frac{k}{9} - \\frac{1}{9}$$"
       ],
       "metadata": {},
       "output_type": "display_data",
       "png": "[encoded data removed]",
       "text": [
        "k   1\n",
        "\u2500 - \u2500\n",
        "9   9"
       ]
      },
      {
       "latex": [
        "$$\\frac{1}{n} \\left(k - 1\\right)$$"
       ],
       "metadata": {},
       "output_type": "display_data",
       "png": "[encoded data removed]",
       "text": [
        "k - 1\n",
        "\u2500\u2500\u2500\u2500\u2500\n",
        "  n  "
       ]
      }
     ],
     "prompt_number": 12
    },
    {
     "cell_type": "code",
     "collapsed": false,
     "input": [
      "def f_1(n): return factorial(3*n+1)*factorial(2*n-5)*factorial(n+2)**2\n",
      "simplify(Sum(f_1(n-k)/f_1(n), (k,0,3)).doit())"
     ],
     "language": "python",
     "metadata": {},
     "outputs": [
      {
       "latex": [
        "$$\\frac{1259712 n^{21} - 32122656 n^{20} + 337497840 n^{19} - 1801755576 n^{18} + 4336342776 n^{17} + 2570279040 n^{16} - 43035418368 n^{15} + 91393795584 n^{14} + 11567820816 n^{13} - 336081971988 n^{12} + 441211799952 n^{11} + 127611418068 n^{10} - 724739702184 n^{9} + 417817026612 n^{8} + 257433353964 n^{7} - 333322752150 n^{6} + 62126544750 n^{5} + 31820652174 n^{4} - 9239452410 n^{3} + 25382700 n^{2} + 1}{216 n^{3} \\left(n - 5\\right) \\left(n - 4\\right) \\left(n - 3\\right) \\left(n - 2\\right) \\left(n - 1\\right) \\left(n + 1\\right)^{2} \\left(n + 2\\right)^{2} \\left(2 n - 9\\right) \\left(2 n - 7\\right) \\left(2 n - 5\\right) \\left(3 n - 7\\right) \\left(3 n - 5\\right) \\left(3 n - 4\\right) \\left(3 n - 2\\right) \\left(3 n - 1\\right) \\left(3 n + 1\\right)}$$"
       ],
       "metadata": {},
       "output_type": "pyout",
       "png": "[encoded data removed]",
       "prompt_number": 26,
       "text": [
        "         21             20              19               18               17  \n",
        "1259712\u22c5n   - 32122656\u22c5n   + 337497840\u22c5n   - 1801755576\u22c5n   + 4336342776\u22c5n   +\n",
        "\u2500\u2500\u2500\u2500\u2500\u2500\u2500\u2500\u2500\u2500\u2500\u2500\u2500\u2500\u2500\u2500\u2500\u2500\u2500\u2500\u2500\u2500\u2500\u2500\u2500\u2500\u2500\u2500\u2500\u2500\u2500\u2500\u2500\u2500\u2500\u2500\u2500\u2500\u2500\u2500\u2500\u2500\u2500\u2500\u2500\u2500\u2500\u2500\u2500\u2500\u2500\u2500\u2500\u2500\u2500\u2500\u2500\u2500\u2500\u2500\u2500\u2500\u2500\u2500\u2500\u2500\u2500\u2500\u2500\u2500\u2500\u2500\u2500\u2500\u2500\u2500\u2500\u2500\n",
        "                                                                              \n",
        "                                                                              \n",
        "\n",
        "             16                15                14                13         \n",
        " 2570279040\u22c5n   - 43035418368\u22c5n   + 91393795584\u22c5n   + 11567820816\u22c5n   - 336081\n",
        "\u2500\u2500\u2500\u2500\u2500\u2500\u2500\u2500\u2500\u2500\u2500\u2500\u2500\u2500\u2500\u2500\u2500\u2500\u2500\u2500\u2500\u2500\u2500\u2500\u2500\u2500\u2500\u2500\u2500\u2500\u2500\u2500\u2500\u2500\u2500\u2500\u2500\u2500\u2500\u2500\u2500\u2500\u2500\u2500\u2500\u2500\u2500\u2500\u2500\u2500\u2500\u2500\u2500\u2500\u2500\u2500\u2500\u2500\u2500\u2500\u2500\u2500\u2500\u2500\u2500\u2500\u2500\u2500\u2500\u2500\u2500\u2500\u2500\u2500\u2500\u2500\u2500\u2500\n",
        "                      3                                                2      \n",
        "                 216\u22c5n \u22c5(n - 5)\u22c5(n - 4)\u22c5(n - 3)\u22c5(n - 2)\u22c5(n - 1)\u22c5(n + 1) \u22c5(n + \n",
        "\n",
        "        12                 11                 10                 9            \n",
        "971988\u22c5n   + 441211799952\u22c5n   + 127611418068\u22c5n   - 724739702184\u22c5n  + 417817026\n",
        "\u2500\u2500\u2500\u2500\u2500\u2500\u2500\u2500\u2500\u2500\u2500\u2500\u2500\u2500\u2500\u2500\u2500\u2500\u2500\u2500\u2500\u2500\u2500\u2500\u2500\u2500\u2500\u2500\u2500\u2500\u2500\u2500\u2500\u2500\u2500\u2500\u2500\u2500\u2500\u2500\u2500\u2500\u2500\u2500\u2500\u2500\u2500\u2500\u2500\u2500\u2500\u2500\u2500\u2500\u2500\u2500\u2500\u2500\u2500\u2500\u2500\u2500\u2500\u2500\u2500\u2500\u2500\u2500\u2500\u2500\u2500\u2500\u2500\u2500\u2500\u2500\u2500\u2500\n",
        "  2                                                                           \n",
        "2) \u22c5(2\u22c5n - 9)\u22c5(2\u22c5n - 7)\u22c5(2\u22c5n - 5)\u22c5(3\u22c5n - 7)\u22c5(3\u22c5n - 5)\u22c5(3\u22c5n - 4)\u22c5(3\u22c5n - 2)\u22c5(3\u22c5n\n",
        "\n",
        "     8                 7                 6                5                4  \n",
        "612\u22c5n  + 257433353964\u22c5n  - 333322752150\u22c5n  + 62126544750\u22c5n  + 31820652174\u22c5n  -\n",
        "\u2500\u2500\u2500\u2500\u2500\u2500\u2500\u2500\u2500\u2500\u2500\u2500\u2500\u2500\u2500\u2500\u2500\u2500\u2500\u2500\u2500\u2500\u2500\u2500\u2500\u2500\u2500\u2500\u2500\u2500\u2500\u2500\u2500\u2500\u2500\u2500\u2500\u2500\u2500\u2500\u2500\u2500\u2500\u2500\u2500\u2500\u2500\u2500\u2500\u2500\u2500\u2500\u2500\u2500\u2500\u2500\u2500\u2500\u2500\u2500\u2500\u2500\u2500\u2500\u2500\u2500\u2500\u2500\u2500\u2500\u2500\u2500\u2500\u2500\u2500\u2500\u2500\u2500\n",
        "                                                                              \n",
        " - 1)\u22c5(3\u22c5n + 1)                                                               \n",
        "\n",
        "             3             2    \n",
        " 9239452410\u22c5n  + 25382700\u22c5n  + 1\n",
        "\u2500\u2500\u2500\u2500\u2500\u2500\u2500\u2500\u2500\u2500\u2500\u2500\u2500\u2500\u2500\u2500\u2500\u2500\u2500\u2500\u2500\u2500\u2500\u2500\u2500\u2500\u2500\u2500\u2500\u2500\u2500\u2500\n",
        "                                \n",
        "                                "
       ]
      }
     ],
     "prompt_number": 26
    },
    {
     "cell_type": "markdown",
     "metadata": {},
     "source": [
      "---"
     ]
    },
    {
     "cell_type": "markdown",
     "metadata": {},
     "source": [
      "# Printing and displaying stuff\n",
      "\n",
      "In this foot section we save some display tricks in order to support the implementation of a function that builds Riordan coefficient matrix:"
     ]
    },
    {
     "cell_type": "code",
     "collapsed": false,
     "input": [
      "from IPython.display import Math\n",
      "Math(r'F(k) = \\int_{-\\infty}^{\\infty} f(x) e^{2\\pi i k} dx')"
     ],
     "language": "python",
     "metadata": {},
     "outputs": [
      {
       "latex": [
        "$$F(k) = \\int_{-\\infty}^{\\infty} f(x) e^{2\\pi i k} dx$$"
       ],
       "metadata": {},
       "output_type": "pyout",
       "prompt_number": 4,
       "text": [
        "<IPython.core.display.Math at 0x7f47b47de668>"
       ]
      }
     ],
     "prompt_number": 4
    },
    {
     "cell_type": "code",
     "collapsed": false,
     "input": [
      "from IPython.display import Latex\n",
      "Latex(r\"\"\"\\begin{eqnarray}\n",
      "\\nabla \\times \\vec{\\mathbf{B}} -\\, \\frac1c\\, \\frac{\\partial\\vec{\\mathbf{E}}}{\\partial t} & = \\frac{4\\pi}{c}\\vec{\\mathbf{j}} \\\\\n",
      "\\nabla \\cdot \\vec{\\mathbf{E}} & = 4 \\pi \\rho \\\\\n",
      "\\nabla \\times \\vec{\\mathbf{E}}\\, +\\, \\frac1c\\, \\frac{\\partial\\vec{\\mathbf{B}}}{\\partial t} & = \\vec{\\mathbf{0}} \\\\\n",
      "\\nabla \\cdot \\vec{\\mathbf{B}} & = 0 \n",
      "\\end{eqnarray}\"\"\")\n",
      "Latex(r\"\"\"\\[ 4 \\]\"\"\")"
     ],
     "language": "python",
     "metadata": {},
     "outputs": [
      {
       "latex": [
        "\\[ 4 \\]"
       ],
       "metadata": {},
       "output_type": "pyout",
       "prompt_number": 52,
       "text": [
        "<IPython.core.display.Latex at 0x7f47ac9f9a20>"
       ]
      }
     ],
     "prompt_number": 52
    },
    {
     "cell_type": "code",
     "collapsed": false,
     "input": [
      "from IPython.display import display, Math, Latex\n",
      "display(Math(r'F(k) = \\int_{-\\infty}^{\\infty} f(x) e^{2\\pi i k} dx'))"
     ],
     "language": "python",
     "metadata": {},
     "outputs": [
      {
       "latex": [
        "$$F(k) = \\int_{-\\infty}^{\\infty} f(x) e^{2\\pi i k} dx$$"
       ],
       "metadata": {},
       "output_type": "display_data",
       "text": [
        "<IPython.core.display.Math at 0x7f47b47de198>"
       ]
      }
     ],
     "prompt_number": 6
    }
   ],
   "metadata": {}
  }
 ]
}