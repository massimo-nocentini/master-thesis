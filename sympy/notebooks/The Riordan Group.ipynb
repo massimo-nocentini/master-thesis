{
 "metadata": {
  "name": "",
  "signature": "sha256:8171a790ab608c548fd8f08246ef2d7043fc6e9b5757fe88e0141da3343bda00"
 },
 "nbformat": 3,
 "nbformat_minor": 0,
 "worksheets": [
  {
   "cells": [
    {
     "cell_type": "markdown",
     "metadata": {},
     "source": [
      "# The Riordan Group"
     ]
    },
    {
     "cell_type": "markdown",
     "metadata": {},
     "source": [
      "This notebook attempt to study *The Riordan Group* article, by Shapiro, Getu, Woan and Woodson. It is my first attempt to explain ideas and to find meaning and connections among things. We reference objects and equations explained in the article using their reference numbers in order to have a direct mapping to them.\n",
      "\n",
      "We start with some SymPy stuff in order to setup the environment:"
     ]
    },
    {
     "cell_type": "code",
     "collapsed": false,
     "input": [
      "import sympy\n",
      "from sympy import *\n",
      "from sympy.abc import x, n, z, t\n",
      "\n",
      "from IPython.display import display, Math, Latex\n",
      "\n",
      "init_printing() # for nice printing, a-la' TeX\n",
      "\n",
      "%run '../riordan-group.py'"
     ],
     "language": "python",
     "metadata": {},
     "outputs": [],
     "prompt_number": 20
    },
    {
     "cell_type": "markdown",
     "metadata": {},
     "source": [
      "# Definitions"
     ]
    },
    {
     "cell_type": "markdown",
     "metadata": {},
     "source": [
      "Let $M$ be an infinite matrix with elements $m_{ji} \\in \\mathbb{C}$ defined as:\n",
      "$$ M = (m_{ji})_{i,j \\geq 0}= \\left[ \\begin{array}{cccccc}\n",
      "m_{00} & m_{01} & m_{02} & \\ldots & m_{0i} & \\ldots \\\\\n",
      "m_{10} & m_{11} & m_{12} & \\ldots & m_{1i} & \\ldots \\\\\n",
      "m_{20} & m_{21} & m_{22} & \\ldots & m_{2i} & \\ldots \\\\\n",
      "\\vdots & \\vdots & \\vdots & \\ddots & \\vdots &  \\\\\n",
      "m_{j0} & m_{j1} & m_{j2} & \\ldots & m_{ji} & \\ldots \\\\\n",
      "\\vdots & \\vdots & \\vdots &  & \\vdots & \\ddots \\\\\n",
      "\\end{array} \\right] $$\n",
      "\n",
      "Now define $C_i(x)$ as a generating function taking coefficients from $i$-th column:\n",
      "$$ C_i(x) = \\sum_{j=0}^{\\infty}{m_{ji}x^j} $$\n",
      "\n",
      "So the following matrix product holds:\n",
      "$\n",
      "\\left[\\begin{array}{cccccc}        1 & x & x^2 & \\ldots & x^j & \\ldots \\end{array} \\right] M =\n",
      "\\left[\\begin{array}{cccccc}        C_0(x) & C_1(x) & C_2(x) & \\ldots & C_i(x)& \\ldots \\end{array} \\right]\n",
      "$\n",
      "\n",
      "Now assume that $C_i(x)$ can be written as $g(x)f(x)^i$, for all $i \\geq 0$ where:\n",
      "$$ g(x) = g_0 + g_1 x + g_2 x^2 + g_3 x^3 +\\ldots \\\\\n",
      "f(x) = x + f_2 x^2 + f_3 x^3 +\\ldots$$\n",
      "\n",
      "So, there are no requirements on function $g$ while function $f$ has to obeys the following: \n",
      "$$f(0) = 0  \\\\ \\left . \\frac{\\partial f}{\\partial x} \\right|_0 = 1$$\n",
      "\n",
      "Under these assumptions we can rewrite:\n",
      "$\n",
      "\\left[\\begin{array}{cccccc}        1 & x & x^2 & \\ldots & x^j & \\ldots \\end{array} \\right] M =\n",
      "\\left[\\begin{array}{cccccc}        g(x) & g(x)f(x) & g(x)f(x)^2 & \\ldots & g(x)f(x)^i & \\ldots \\end{array} \\right]\n",
      "$ \n",
      "\n",
      "and we call a matrix $M = (g(x), f(x))$ a *Riordan matrix*."
     ]
    },
    {
     "cell_type": "markdown",
     "metadata": {},
     "source": [
      "## Product with a vector\n",
      "\n",
      "Now take the product on the right with a vector $\\left[\\begin{array}{cccccc}        a_0 & a_1 & a_2 & \\ldots & a_i & \\ldots \\end{array} \\right]^T$:\n",
      "$$ \\begin{split}\n",
      "\\left[\\begin{array}{cccccc}        1 & x & x^2 & \\ldots & x^j & \\ldots \\end{array} \\right] M \n",
      "\\left[\\begin{array}{c}        a_0 \\\\ a_1 \\\\ a_2 \\\\ \\vdots \\\\ a_i \\\\ \\vdots \\end{array} \\right] &=\n",
      "a_0 g(x) + a_1 g(x) f(x) + a_2 g(x) f(x)^2 + \\ldots \\\\\n",
      "&= g(x) \\left( a_0  + a_1 f(x) + a_2 f(x)^2 + \\ldots \\right) \\\\\n",
      "&= g(x) A(f(x))\n",
      "\\end{split}$$\n",
      "where $A(t) = a_0 + a_1 t + a_2 t^2 + \\ldots$ is the formal power series of the sequence $(a_0, a_1, a_2, \\ldots)$.\n",
      "\n",
      "Observe that $ g(x) A(f(x))$ can be expanded as a formal power series $b_0 + b_1 x + b_2 x^2 + \\ldots$ for some sequence $\\{b_n\\}_{n \\in \\mathbb{N}}$ after collecting coefficients for equal powers of $x$: applying $\\mathcal{G}$ operator it is possibile to write $\\mathcal{G}(\\{b_n\\}) = g(x) A(f(x))$. Since on the right side there is a product of two separable function, it does follow that the generic term of $\\{b_n\\}$ is a convolution by properties of $\\mathcal{G}$, namely:\n",
      "$$ b_n = \\sum_{i=0}^{n}{g_i r_{n-i}}$$\n",
      "where coefficient $r_j$ depends on both finitely coefficients $a_0, \\ldots, a_j$ both on infinitely coefficients $f_2,f_3,\\ldots$"
     ]
    },
    {
     "cell_type": "markdown",
     "metadata": {},
     "source": [
      "## Product with a matrix\n",
      "\n",
      "Let $M, N$ be two Riordan matrices such that $M = (g(x),f(x))$ and $N =  (h(x),l(x))$. In order to study the product $M N$ consider the $i$-th column of matrix $N$, namely coefficients in the formal power series expansion of $h(x)l(x)^i$.\n",
      "By product by vector explanation above, coefficients of $i$-th column of $M N$ are denoted by series expansion of $g(x)h(f(x))l(f(x))^i$, hence repeating the same reasoning for all $i$, it is possible to write: $M N = (g(x)h(f(x)), l(f(x)))$ hence $M N$ is a Riordan matrix too."
     ]
    },
    {
     "cell_type": "markdown",
     "metadata": {},
     "source": [
      "## The set of Riordan matrices with product operation is a group"
     ]
    },
    {
     "cell_type": "code",
     "collapsed": false,
     "input": [
      "def g(x): return 1\n",
      "def f(x): return x\n",
      "\n",
      "Latex(Riordan_matrix_latex_code(g, f, x, order=10))"
     ],
     "language": "python",
     "metadata": {},
     "outputs": [
      {
       "latex": [
        "\\begin{equation} \\left( 1, x \\right) = \\left[ \\begin{array}{ccccccccccc}1 &  &  &  &  &  &  &  &  &  &  \\\\ 0 & 1 &  &  &  &  &  &  &  &  &  \\\\ 0 & 0 & 1 &  &  &  &  &  &  &  &  \\\\ 0 & 0 & 0 & 1 &  &  &  &  &  &  &  \\\\ 0 & 0 & 0 & 0 & 1 &  &  &  &  &  &  \\\\ 0 & 0 & 0 & 0 & 0 & 1 &  &  &  &  &  \\\\ 0 & 0 & 0 & 0 & 0 & 0 & 1 &  &  &  &  \\\\ 0 & 0 & 0 & 0 & 0 & 0 & 0 & 1 &  &  &  \\\\ 0 & 0 & 0 & 0 & 0 & 0 & 0 & 0 & 1 &  &  \\\\ 0 & 0 & 0 & 0 & 0 & 0 & 0 & 0 & 0 & 1 &  \\\\ \\vdots & \\vdots & \\vdots & \\vdots & \\vdots & \\vdots & \\vdots & \\vdots & \\vdots & \\vdots & \\ddots\\end{array} \\right] \\end{equation}"
       ],
       "metadata": {},
       "output_type": "pyout",
       "prompt_number": 37,
       "text": [
        "<IPython.core.display.Latex at 0x2b46fe05fda0>"
       ]
      }
     ],
     "prompt_number": 37
    },
    {
     "cell_type": "markdown",
     "metadata": {},
     "source": [
      "## Pascal triangle standard"
     ]
    },
    {
     "cell_type": "markdown",
     "metadata": {},
     "source": [
      "In this section we'll built the standard Pascal triangle, developing the Riordan matrix $(g(x),f(x))$ that represent a matrix such that row $r$ contains coefficients of $(x + y)^r$, namely ${ {r} \\choose {i} }$, for $i \\in \\{0,\\ldots,r\\}$.\n",
      "\n",
      "Since the matrix $$M = \\left({ {j} \\choose {i} }\\right)_{i,j \\geq 0}$$ is well known, we proceed in two step in order to define functions $g(x)$ and $f(x)$, starting with the former one. Observe that $g(x)$ is the same as $C_0(x) = 1 + x + x^2 + x^3 + \\ldots $, so it is a formal power series, where each coefficient equals 1, hence $g(x)$ is the generating function of the sequence $\\{1_n\\}_{n\\in \\mathbb{n}}$, which has a closed form: $$g(x) = \\mathcal{G}\\{1_n\\} = \\frac{1}{1-x}$$\n",
      "\n",
      "Now set for $f(x)$. By definition of Riordan matrix, the expansion of $C_1(x) = g(x)f(x)$ as power series should collect coefficients from the second column, namely the natural numbers. Recall that the generating function of the sequence $\\{n\\}_{n\\in \\mathbb{N}}$ is: $$\\mathcal{G} \\{n\\} = \\mathcal{G}\\{n1_n\\} = x\\frac{\\partial \\mathcal{G}\\{1_n\\}}{\\partial x} = \\frac{x}{(1-x)^2}$$\n",
      "\n",
      "Hence the following equation yields $f(x)$:\n",
      "$$ \\frac{1}{1-x}f(x) = \\frac{x}{(1-x)^2}$$\n",
      "\n",
      "The above reasoning is implemented with the following code:"
     ]
    },
    {
     "cell_type": "code",
     "collapsed": false,
     "input": [
      "def g(x): return 1/(1-x)\n",
      "def f(x): return x/(1-x)\n",
      "\n",
      "Latex(Riordan_matrix_latex_code(g, f, x, order=10))"
     ],
     "language": "python",
     "metadata": {},
     "outputs": [
      {
       "latex": [
        "\\begin{equation} \\left( - \\frac{1}{x - 1}, - \\frac{x}{x - 1} \\right) = \\left[ \\begin{array}{ccccccccccc}1 &  &  &  &  &  &  &  &  &  &  \\\\ 1 & 1 &  &  &  &  &  &  &  &  &  \\\\ 1 & 2 & 1 &  &  &  &  &  &  &  &  \\\\ 1 & 3 & 3 & 1 &  &  &  &  &  &  &  \\\\ 1 & 4 & 6 & 4 & 1 &  &  &  &  &  &  \\\\ 1 & 5 & 10 & 10 & 5 & 1 &  &  &  &  &  \\\\ 1 & 6 & 15 & 20 & 15 & 6 & 1 &  &  &  &  \\\\ 1 & 7 & 21 & 35 & 35 & 21 & 7 & 1 &  &  &  \\\\ 1 & 8 & 28 & 56 & 70 & 56 & 28 & 8 & 1 &  &  \\\\ 1 & 9 & 36 & 84 & 126 & 126 & 84 & 36 & 9 & 1 &  \\\\ \\vdots & \\vdots & \\vdots & \\vdots & \\vdots & \\vdots & \\vdots & \\vdots & \\vdots & \\vdots & \\ddots\\end{array} \\right] \\end{equation}"
       ],
       "metadata": {},
       "output_type": "pyout",
       "prompt_number": 22,
       "text": [
        "<IPython.core.display.Latex at 0x2b4c9bf44e10>"
       ]
      }
     ],
     "prompt_number": 22
    },
    {
     "cell_type": "markdown",
     "metadata": {},
     "source": [
      "## Pascal triangle enhanced"
     ]
    },
    {
     "cell_type": "markdown",
     "metadata": {},
     "source": [
      "In this section we approach a variant of the above triangle, starting to work with a matrix $M = (b_{nj})_{n,j \\geq 0}$ where coefficients aren't explicitly defined but obey to the recurrence: $$ b_{n+1,j} = b_{n, j-1} + b_{n, j+1}$$\n",
      "\n",
      "where $j > 0$. Assume the relation holds for all $n \\in \\mathbb{N}$ so it is possible to apply the *Identity principle*:\n",
      "$$ \\begin{split}\n",
      "\\mathcal{G}\\{b_{n+1,j}\\} &= \\mathcal{G}\\{b_{n, j-1} + b_{n, j+1}\\} \\\\\n",
      "\\mathcal{G}\\{b_{n+1,j}\\} &= \\mathcal{G}\\{b_{n, j-1}\\} + \\mathcal{G}\\{b_{n, j+1}\\} \\quad \\text{ by linearity of } \\mathcal{G} \\\\\n",
      "\\frac{\\mathcal{G}\\{b_{n,j}\\}-b_{0j}}{x} &= \\mathcal{G}\\{b_{n, j-1}\\} + \\mathcal{G}\\{b_{n, j+1}\\} \\quad \\text{ by forward translation of } \\mathcal{G} \\\\\n",
      "C_j(x) &= xC_{j-1}(x) + xC_{j+1}(x) \\quad  \\forall j > 0: b_{0j} = 0\n",
      "\\end{split}$$\n",
      "\n",
      "Another way to prove the same result, is to observe that $b_{n+1,j}$ is a *convolution* of the two terms $b_{n,j-1}$ and $b_{n,j+1}$, hence there must exists two functions, say $h_j(x) = h_{0j} + h_{1j} x + h_{2j} x^2 + \\ldots$, where coefficient $h_{i,j}= b_{i,j-1} + b_{i,j+1}$ and $l(x) = l_0 + l_1 x + l_2 x^2 + \\ldots$, such that: \n",
      "$$\\mathcal{G}\\left\\lbrace\\sum_{k=0}^{n+1}{h_{k,j} l_{n+1-k}}\\right\\rbrace = h_j(x)l(x)$$\n",
      "\n",
      "Choose $l(x) = x$ because the entire sum should reduce to $b_{n,j-1} + b_{n,j+1}$ which equals $h_{nj}$, hence:\n",
      "$$\\begin{split}\n",
      "\\mathcal{G}\\left\\lbrace\\sum_{k=0}^{n+1}{h_{k,j} l_{n+1-k}}\\right\\rbrace &= \\mathcal{G}\\left\\lbrace{h_{n,j} l_{1}}\\right\\rbrace \\\\ &=\\mathcal{G}\\left\\lbrace{b_{n,j-1} + b_{n,j+1}}\\right\\rbrace \\\\\n",
      "&=\\mathcal{G}\\left\\lbrace{b_{n,j-1}}\\right\\rbrace + \\mathcal{G}\\left\\lbrace{b_{n,j+1}}\\right\\rbrace \\\\\n",
      "&= C_{j-1}(x) + C_{j+1}(x)\\end{split}$$\n",
      "\n",
      "It follows that $h_j(x) = C_{j-1}(x) + C_{j+1}(x)$ as obtained in the former derivation."
     ]
    },
    {
     "cell_type": "code",
     "collapsed": false,
     "input": [
      "def g(x): return 1/sqrt(1 -4*x**2)\n",
      "def f(x): return (1-sqrt(1 -4*x**2))/(2*x)\n",
      "\n",
      "Latex(Riordan_matrix_latex_code(g, f, x, order=10))"
     ],
     "language": "python",
     "metadata": {},
     "outputs": [
      {
       "latex": [
        "\\begin{equation} \\left( \\frac{1}{\\sqrt{- 4 x^{2} + 1}}, \\frac{1}{2 x} \\left(- \\sqrt{- 4 x^{2} + 1} + 1\\right) \\right) = \\left[ \\begin{array}{ccccccccccc}1 &  &  &  &  &  &  &  &  &  &  \\\\ 0 & 1 &  &  &  &  &  &  &  &  &  \\\\ 2 & 0 & 1 &  &  &  &  &  &  &  &  \\\\ 0 & 3 & 0 & 1 &  &  &  &  &  &  &  \\\\ 6 & 0 & 4 & 0 & 1 &  &  &  &  &  &  \\\\ 0 & 10 & 0 & 5 & 0 & 1 &  &  &  &  &  \\\\ 20 & 0 & 15 & 0 & 6 & 0 & 1 &  &  &  &  \\\\ 0 & 35 & 0 & 21 & 0 & 7 & 0 & 1 &  &  &  \\\\ 70 & 0 & 56 & 0 & 28 & 0 & 8 & 0 & 1 &  &  \\\\ 0 & 126 & 0 & 84 & 0 & 36 & 0 & 9 & 0 & 1 &  \\\\ \\vdots & \\vdots & \\vdots & \\vdots & \\vdots & \\vdots & \\vdots & \\vdots & \\vdots & \\vdots & \\ddots\\end{array} \\right] \\end{equation}"
       ],
       "metadata": {},
       "output_type": "pyout",
       "prompt_number": 30,
       "text": [
        "<IPython.core.display.Latex at 0x2b46fdd1fda0>"
       ]
      }
     ],
     "prompt_number": 30
    },
    {
     "cell_type": "code",
     "collapsed": false,
     "input": [
      "series(f(x),x,n=20)"
     ],
     "language": "python",
     "metadata": {},
     "outputs": [
      {
       "latex": [
        "$$x + x^{3} + 2 x^{5} + 5 x^{7} + 14 x^{9} + 42 x^{11} + 132 x^{13} + 429 x^{15} + 1430 x^{17} + 4862 x^{19} + \\mathcal{O}\\left(x^{20}\\right)$$"
       ],
       "metadata": {},
       "output_type": "pyout",
       "png": "[encoded data removed]",
       "prompt_number": 32,
       "text": [
        "     3      5      7       9       11        13        15         17         1\n",
        "x + x  + 2\u22c5x  + 5\u22c5x  + 14\u22c5x  + 42\u22c5x   + 132\u22c5x   + 429\u22c5x   + 1430\u22c5x   + 4862\u22c5x \n",
        "\n",
        "9    \u239b 20\u239e\n",
        "  + O\u239dx  \u23a0"
       ]
      }
     ],
     "prompt_number": 32
    },
    {
     "cell_type": "code",
     "collapsed": false,
     "input": [
      "def g(x): return (1-x**2)/(x**2+1)\n",
      "def f(x): return x/(1+x**2)\n",
      "\n",
      "Latex(Riordan_matrix_latex_code(g, f, x, order=10))"
     ],
     "language": "python",
     "metadata": {},
     "outputs": [
      {
       "latex": [
        "\\begin{equation} \\left( \\frac{- x^{2} + 1}{x^{2} + 1}, \\frac{x}{x^{2} + 1} \\right) = \\left[ \\begin{array}{ccccccccccc}1 &  &  &  &  &  &  &  &  &  &  \\\\ 0 & 1 &  &  &  &  &  &  &  &  &  \\\\ -2 & 0 & 1 &  &  &  &  &  &  &  &  \\\\ 0 & -3 & 0 & 1 &  &  &  &  &  &  &  \\\\ 2 & 0 & -4 & 0 & 1 &  &  &  &  &  &  \\\\ 0 & 5 & 0 & -5 & 0 & 1 &  &  &  &  &  \\\\ -2 & 0 & 9 & 0 & -6 & 0 & 1 &  &  &  &  \\\\ 0 & -7 & 0 & 14 & 0 & -7 & 0 & 1 &  &  &  \\\\ 2 & 0 & -16 & 0 & 20 & 0 & -8 & 0 & 1 &  &  \\\\ 0 & 9 & 0 & -30 & 0 & 27 & 0 & -9 & 0 & 1 &  \\\\ \\vdots & \\vdots & \\vdots & \\vdots & \\vdots & \\vdots & \\vdots & \\vdots & \\vdots & \\vdots & \\ddots\\end{array} \\right] \\end{equation}"
       ],
       "metadata": {},
       "output_type": "pyout",
       "prompt_number": 12,
       "text": [
        "<IPython.core.display.Latex at 0x2b78ecf8a9b0>"
       ]
      }
     ],
     "prompt_number": 12
    },
    {
     "cell_type": "code",
     "collapsed": false,
     "input": [
      "series(f(x),x,n=20)"
     ],
     "language": "python",
     "metadata": {},
     "outputs": [
      {
       "latex": [
        "$$x - x^{3} + x^{5} - x^{7} + x^{9} - x^{11} + x^{13} - x^{15} + x^{17} - x^{19} + \\mathcal{O}\\left(x^{20}\\right)$$"
       ],
       "metadata": {},
       "output_type": "pyout",
       "png": "[encoded data removed]",
       "prompt_number": 14,
       "text": [
        "     3    5    7    9    11    13    15    17    19    \u239b 20\u239e\n",
        "x - x  + x  - x  + x  - x   + x   - x   + x   - x   + O\u239dx  \u23a0"
       ]
      }
     ],
     "prompt_number": 14
    },
    {
     "cell_type": "code",
     "collapsed": false,
     "input": [
      "def g(x): return 1/sqrt(1-2*x-3*x**2)\n",
      "def f(x): return (1-x-sqrt(1-2*x-3*x**2))/(2*x)\n",
      "\n",
      "Latex(Riordan_matrix_latex_code(g, f, x, order=10))"
     ],
     "language": "python",
     "metadata": {},
     "outputs": [
      {
       "latex": [
        "\\begin{equation} \\left( \\frac{1}{\\sqrt{- 3 x^{2} - 2 x + 1}}, \\frac{1}{2 x} \\left(- x - \\sqrt{- 3 x^{2} - 2 x + 1} + 1\\right) \\right) = \\left[ \\begin{array}{ccccccccccc}1 &  &  &  &  &  &  &  &  &  &  \\\\ 1 & 1 &  &  &  &  &  &  &  &  &  \\\\ 3 & 2 & 1 &  &  &  &  &  &  &  &  \\\\ 7 & 6 & 3 & 1 &  &  &  &  &  &  &  \\\\ 19 & 16 & 10 & 4 & 1 &  &  &  &  &  &  \\\\ 51 & 45 & 30 & 15 & 5 & 1 &  &  &  &  &  \\\\ 141 & 126 & 90 & 50 & 21 & 6 & 1 &  &  &  &  \\\\ 393 & 357 & 266 & 161 & 77 & 28 & 7 & 1 &  &  &  \\\\ 1107 & 1016 & 784 & 504 & 266 & 112 & 36 & 8 & 1 &  &  \\\\ 3139 & 2907 & 2304 & 1554 & 882 & 414 & 156 & 45 & 9 & 1 &  \\\\ \\vdots & \\vdots & \\vdots & \\vdots & \\vdots & \\vdots & \\vdots & \\vdots & \\vdots & \\vdots & \\ddots\\end{array} \\right] \\end{equation}"
       ],
       "metadata": {},
       "output_type": "pyout",
       "prompt_number": 15,
       "text": [
        "<IPython.core.display.Latex at 0x2b78ecfbab38>"
       ]
      }
     ],
     "prompt_number": 15
    },
    {
     "cell_type": "code",
     "collapsed": false,
     "input": [
      "series(f(x),x,n=10)"
     ],
     "language": "python",
     "metadata": {},
     "outputs": [
      {
       "latex": [
        "$$x + x^{2} + 2 x^{3} + 4 x^{4} + 9 x^{5} + 21 x^{6} + 51 x^{7} + 127 x^{8} + 323 x^{9} + \\mathcal{O}\\left(x^{10}\\right)$$"
       ],
       "metadata": {},
       "output_type": "pyout",
       "png": "[encoded data removed]",
       "prompt_number": 24,
       "text": [
        "     2      3      4      5       6       7        8        9    \u239b 10\u239e\n",
        "x + x  + 2\u22c5x  + 4\u22c5x  + 9\u22c5x  + 21\u22c5x  + 51\u22c5x  + 127\u22c5x  + 323\u22c5x  + O\u239dx  \u23a0"
       ]
      }
     ],
     "prompt_number": 24
    },
    {
     "cell_type": "markdown",
     "metadata": {},
     "source": [
      "# Identities and inverse relations"
     ]
    },
    {
     "cell_type": "code",
     "collapsed": false,
     "input": [
      "s = series((1-x)**(2*n),x,n=10).subs(n,4)\n",
      "s, s.coeff(x**5)-s.coeff(x**4)"
     ],
     "language": "python",
     "metadata": {},
     "outputs": [
      {
       "latex": [
        "$$\\left ( 1 - 8 x + 28 x^{2} - 56 x^{3} + 70 x^{4} - 56 x^{5} + 28 x^{6} - 8 x^{7} + x^{8} + \\mathcal{O}\\left(x^{10}\\right), \\quad -126\\right )$$"
       ],
       "metadata": {},
       "output_type": "pyout",
       "png": "[encoded data removed]",
       "prompt_number": 20,
       "text": [
        "\u239b              2       3       4       5       6      7    8    \u239b 10\u239e      \u239e\n",
        "\u239d1 - 8\u22c5x + 28\u22c5x  - 56\u22c5x  + 70\u22c5x  - 56\u22c5x  + 28\u22c5x  - 8\u22c5x  + x  + O\u239dx  \u23a0, -126\u23a0"
       ]
      }
     ],
     "prompt_number": 20
    },
    {
     "cell_type": "code",
     "collapsed": false,
     "input": [
      "series((1+x)**5,x,n=10)"
     ],
     "language": "python",
     "metadata": {},
     "outputs": [
      {
       "latex": [
        "$$x^{5} + 5 x^{4} + 10 x^{3} + 10 x^{2} + 5 x + 1$$"
       ],
       "metadata": {},
       "output_type": "pyout",
       "png": "[encoded data removed]",
       "prompt_number": 21,
       "text": [
        " 5      4       3       2          \n",
        "x  + 5\u22c5x  + 10\u22c5x  + 10\u22c5x  + 5\u22c5x + 1"
       ]
      }
     ],
     "prompt_number": 21
    },
    {
     "cell_type": "code",
     "collapsed": false,
     "input": [
      "list(map(display, (series((1/sqrt(1+2*x-3*x**2))*(1+x)**(n-1) *(1+x),x,n=10) for n in range(5))))\n",
      "print(\"\\n\")\n",
      "list(map(display, (series((1/sqrt(1+2*x-3*x**2))*(1+x)**(n-1),x,n=10) for n in range(5))))\n",
      "None"
     ],
     "language": "python",
     "metadata": {},
     "outputs": [
      {
       "latex": [
        "$$1 - x + 3 x^{2} - 7 x^{3} + 19 x^{4} - 51 x^{5} + 141 x^{6} - 393 x^{7} + 1107 x^{8} - 3139 x^{9} + \\mathcal{O}\\left(x^{10}\\right)$$"
       ],
       "metadata": {},
       "output_type": "display_data",
       "png": "[encoded data removed]",
       "text": [
        "           2      3       4       5        6        7         8         9    \u239b\n",
        "1 - x + 3\u22c5x  - 7\u22c5x  + 19\u22c5x  - 51\u22c5x  + 141\u22c5x  - 393\u22c5x  + 1107\u22c5x  - 3139\u22c5x  + O\u239d\n",
        "\n",
        " 10\u239e\n",
        "x  \u23a0"
       ]
      },
      {
       "latex": [
        "$$1 + 2 x^{2} - 4 x^{3} + 12 x^{4} - 32 x^{5} + 90 x^{6} - 252 x^{7} + 714 x^{8} - 2032 x^{9} + \\mathcal{O}\\left(x^{10}\\right)$$"
       ],
       "metadata": {},
       "output_type": "display_data",
       "png": "[encoded data removed]",
       "text": [
        "       2      3       4       5       6        7        8         9    \u239b 10\u239e\n",
        "1 + 2\u22c5x  - 4\u22c5x  + 12\u22c5x  - 32\u22c5x  + 90\u22c5x  - 252\u22c5x  + 714\u22c5x  - 2032\u22c5x  + O\u239dx  \u23a0"
       ]
      },
      {
       "latex": [
        "$$1 + x + 2 x^{2} - 2 x^{3} + 8 x^{4} - 20 x^{5} + 58 x^{6} - 162 x^{7} + 462 x^{8} - 1318 x^{9} + \\mathcal{O}\\left(x^{10}\\right)$$"
       ],
       "metadata": {},
       "output_type": "display_data",
       "png": "[encoded data removed]",
       "text": [
        "           2      3      4       5       6        7        8         9    \u239b 10\n",
        "1 + x + 2\u22c5x  - 2\u22c5x  + 8\u22c5x  - 20\u22c5x  + 58\u22c5x  - 162\u22c5x  + 462\u22c5x  - 1318\u22c5x  + O\u239dx  \n",
        "\n",
        "\u239e\n",
        "\u23a0"
       ]
      },
      {
       "latex": [
        "$$1 + 2 x + 3 x^{2} + 6 x^{4} - 12 x^{5} + 38 x^{6} - 104 x^{7} + 300 x^{8} - 856 x^{9} + \\mathcal{O}\\left(x^{10}\\right)$$"
       ],
       "metadata": {},
       "output_type": "display_data",
       "png": "[encoded data removed]",
       "text": [
        "             2      4       5       6        7        8        9    \u239b 10\u239e\n",
        "1 + 2\u22c5x + 3\u22c5x  + 6\u22c5x  - 12\u22c5x  + 38\u22c5x  - 104\u22c5x  + 300\u22c5x  - 856\u22c5x  + O\u239dx  \u23a0"
       ]
      },
      {
       "latex": [
        "$$1 + 3 x + 5 x^{2} + 3 x^{3} + 6 x^{4} - 6 x^{5} + 26 x^{6} - 66 x^{7} + 196 x^{8} - 556 x^{9} + \\mathcal{O}\\left(x^{10}\\right)$$"
       ],
       "metadata": {},
       "output_type": "display_data",
       "png": "[encoded data removed]",
       "text": [
        "             2      3      4      5       6       7        8        9    \u239b 10\u239e\n",
        "1 + 3\u22c5x + 5\u22c5x  + 3\u22c5x  + 6\u22c5x  - 6\u22c5x  + 26\u22c5x  - 66\u22c5x  + 196\u22c5x  - 556\u22c5x  + O\u239dx  \u23a0"
       ]
      },
      {
       "output_type": "stream",
       "stream": "stdout",
       "text": [
        "\n",
        "\n"
       ]
      },
      {
       "latex": [
        "$$1 - 2 x + 5 x^{2} - 12 x^{3} + 31 x^{4} - 82 x^{5} + 223 x^{6} - 616 x^{7} + 1723 x^{8} - 4862 x^{9} + \\mathcal{O}\\left(x^{10}\\right)$$"
       ],
       "metadata": {},
       "output_type": "display_data",
       "png": "[encoded data removed]",
       "text": [
        "             2       3       4       5        6        7         8         9  \n",
        "1 - 2\u22c5x + 5\u22c5x  - 12\u22c5x  + 31\u22c5x  - 82\u22c5x  + 223\u22c5x  - 616\u22c5x  + 1723\u22c5x  - 4862\u22c5x  +\n",
        "\n",
        "  \u239b 10\u239e\n",
        " O\u239dx  \u23a0"
       ]
      },
      {
       "latex": [
        "$$1 - x + 3 x^{2} - 7 x^{3} + 19 x^{4} - 51 x^{5} + 141 x^{6} - 393 x^{7} + 1107 x^{8} - 3139 x^{9} + \\mathcal{O}\\left(x^{10}\\right)$$"
       ],
       "metadata": {},
       "output_type": "display_data",
       "png": "[encoded data removed]",
       "text": [
        "           2      3       4       5        6        7         8         9    \u239b\n",
        "1 - x + 3\u22c5x  - 7\u22c5x  + 19\u22c5x  - 51\u22c5x  + 141\u22c5x  - 393\u22c5x  + 1107\u22c5x  - 3139\u22c5x  + O\u239d\n",
        "\n",
        " 10\u239e\n",
        "x  \u23a0"
       ]
      },
      {
       "latex": [
        "$$1 + 2 x^{2} - 4 x^{3} + 12 x^{4} - 32 x^{5} + 90 x^{6} - 252 x^{7} + 714 x^{8} - 2032 x^{9} + \\mathcal{O}\\left(x^{10}\\right)$$"
       ],
       "metadata": {},
       "output_type": "display_data",
       "png": "[encoded data removed]",
       "text": [
        "       2      3       4       5       6        7        8         9    \u239b 10\u239e\n",
        "1 + 2\u22c5x  - 4\u22c5x  + 12\u22c5x  - 32\u22c5x  + 90\u22c5x  - 252\u22c5x  + 714\u22c5x  - 2032\u22c5x  + O\u239dx  \u23a0"
       ]
      },
      {
       "latex": [
        "$$1 + x + 2 x^{2} - 2 x^{3} + 8 x^{4} - 20 x^{5} + 58 x^{6} - 162 x^{7} + 462 x^{8} - 1318 x^{9} + \\mathcal{O}\\left(x^{10}\\right)$$"
       ],
       "metadata": {},
       "output_type": "display_data",
       "png": "[encoded data removed]",
       "text": [
        "           2      3      4       5       6        7        8         9    \u239b 10\n",
        "1 + x + 2\u22c5x  - 2\u22c5x  + 8\u22c5x  - 20\u22c5x  + 58\u22c5x  - 162\u22c5x  + 462\u22c5x  - 1318\u22c5x  + O\u239dx  \n",
        "\n",
        "\u239e\n",
        "\u23a0"
       ]
      },
      {
       "latex": [
        "$$1 + 2 x + 3 x^{2} + 6 x^{4} - 12 x^{5} + 38 x^{6} - 104 x^{7} + 300 x^{8} - 856 x^{9} + \\mathcal{O}\\left(x^{10}\\right)$$"
       ],
       "metadata": {},
       "output_type": "display_data",
       "png": "[encoded data removed]",
       "text": [
        "             2      4       5       6        7        8        9    \u239b 10\u239e\n",
        "1 + 2\u22c5x + 3\u22c5x  + 6\u22c5x  - 12\u22c5x  + 38\u22c5x  - 104\u22c5x  + 300\u22c5x  - 856\u22c5x  + O\u239dx  \u23a0"
       ]
      }
     ],
     "prompt_number": 28
    },
    {
     "cell_type": "markdown",
     "metadata": {},
     "source": [
      "---"
     ]
    },
    {
     "cell_type": "markdown",
     "metadata": {},
     "source": [
      "# $A$ and $Z$ sequences for characterizing Riordan arrays"
     ]
    },
    {
     "cell_type": "markdown",
     "metadata": {},
     "source": [
      "## Fibonacci triangle"
     ]
    },
    {
     "cell_type": "code",
     "collapsed": false,
     "input": [
      "def d(x): return 1/(1-x-x**2)\n",
      "def h(x): return (1-sqrt(1-4*x))/2\n",
      "\n",
      "Latex(Riordan_matrix_latex_code(d, h, t, order=10))"
     ],
     "language": "python",
     "metadata": {},
     "outputs": [
      {
       "latex": [
        "\\begin{equation} \\left( - \\frac{1}{t^{2} + t - 1}, - \\frac{1}{2} \\left(\\sqrt{- 4 t + 1} - 1\\right) \\right) = \\left[ \\begin{array}{ccccccccccc}1 &  &  &  &  &  &  &  &  &  &  \\\\ 1 & 1 &  &  &  &  &  &  &  &  &  \\\\ 2 & 2 & 1 &  &  &  &  &  &  &  &  \\\\ 3 & 5 & 3 & 1 &  &  &  &  &  &  &  \\\\ 5 & 12 & 9 & 4 & 1 &  &  &  &  &  &  \\\\ 8 & 31 & 26 & 14 & 5 & 1 &  &  &  &  &  \\\\ 13 & 85 & 77 & 46 & 20 & 6 & 1 &  &  &  &  \\\\ 21 & 248 & 235 & 150 & 73 & 27 & 7 & 1 &  &  &  \\\\ 34 & 762 & 741 & 493 & 258 & 108 & 35 & 8 & 1 &  &  \\\\ 55 & 2440 & 2406 & 1644 & 903 & 410 & 152 & 44 & 9 & 1 &  \\\\ \\vdots & \\vdots & \\vdots & \\vdots & \\vdots & \\vdots & \\vdots & \\vdots & \\vdots & \\vdots & \\ddots\\end{array} \\right] \\end{equation}"
       ],
       "metadata": {},
       "output_type": "pyout",
       "prompt_number": 21,
       "text": [
        "<IPython.core.display.Latex at 0x2b4c9bc1f400>"
       ]
      }
     ],
     "prompt_number": 21
    },
    {
     "cell_type": "code",
     "collapsed": false,
     "input": [
      "Eq(h(t).factor(), series(h(t),n=10))"
     ],
     "language": "python",
     "metadata": {},
     "outputs": [
      {
       "latex": [
        "$$- \\frac{1}{2} \\left(\\sqrt{- 4 t + 1} - 1\\right) = t + t^{2} + 2 t^{3} + 5 t^{4} + 14 t^{5} + 42 t^{6} + 132 t^{7} + 429 t^{8} + 1430 t^{9} + \\mathcal{O}\\left(t^{10}\\right)$$"
       ],
       "metadata": {},
       "output_type": "pyout",
       "png": "[encoded data removed]",
       "prompt_number": 19,
       "text": [
        " \u239b  __________    \u239e                                                           \n",
        "-\u239d\u2572\u2571 -4\u22c5t + 1  - 1\u23a0         2      3      4       5       6        7        8 \n",
        "\u2500\u2500\u2500\u2500\u2500\u2500\u2500\u2500\u2500\u2500\u2500\u2500\u2500\u2500\u2500\u2500\u2500\u2500\u2500\u2500 = t + t  + 2\u22c5t  + 5\u22c5t  + 14\u22c5t  + 42\u22c5t  + 132\u22c5t  + 429\u22c5t  \n",
        "         2                                                                    \n",
        "\n",
        "                  \n",
        "        9    \u239b 10\u239e\n",
        "+ 1430\u22c5t  + O\u239dt  \u23a0\n",
        "                  "
       ]
      }
     ],
     "prompt_number": 19
    },
    {
     "cell_type": "markdown",
     "metadata": {},
     "source": [
      "---"
     ]
    },
    {
     "cell_type": "markdown",
     "metadata": {},
     "source": [
      "# Printing and displaying stuff\n",
      "\n",
      "In this foot section we save some display tricks in order to support the implementation of a function that builds Riordan coefficient matrix:"
     ]
    },
    {
     "cell_type": "code",
     "collapsed": false,
     "input": [
      "from IPython.display import Math\n",
      "Math(r'F(k) = \\int_{-\\infty}^{\\infty} f(x) e^{2\\pi i k} dx')"
     ],
     "language": "python",
     "metadata": {},
     "outputs": [
      {
       "latex": [
        "$$F(k) = \\int_{-\\infty}^{\\infty} f(x) e^{2\\pi i k} dx$$"
       ],
       "metadata": {},
       "output_type": "pyout",
       "prompt_number": 4,
       "text": [
        "<IPython.core.display.Math at 0x7f47b47de668>"
       ]
      }
     ],
     "prompt_number": 4
    },
    {
     "cell_type": "code",
     "collapsed": false,
     "input": [
      "from IPython.display import Latex\n",
      "Latex(r\"\"\"\\begin{eqnarray}\n",
      "\\nabla \\times \\vec{\\mathbf{B}} -\\, \\frac1c\\, \\frac{\\partial\\vec{\\mathbf{E}}}{\\partial t} & = \\frac{4\\pi}{c}\\vec{\\mathbf{j}} \\\\\n",
      "\\nabla \\cdot \\vec{\\mathbf{E}} & = 4 \\pi \\rho \\\\\n",
      "\\nabla \\times \\vec{\\mathbf{E}}\\, +\\, \\frac1c\\, \\frac{\\partial\\vec{\\mathbf{B}}}{\\partial t} & = \\vec{\\mathbf{0}} \\\\\n",
      "\\nabla \\cdot \\vec{\\mathbf{B}} & = 0 \n",
      "\\end{eqnarray}\"\"\")\n",
      "Latex(r\"\"\"\\[ 4 \\]\"\"\")"
     ],
     "language": "python",
     "metadata": {},
     "outputs": [
      {
       "latex": [
        "\\[ 4 \\]"
       ],
       "metadata": {},
       "output_type": "pyout",
       "prompt_number": 52,
       "text": [
        "<IPython.core.display.Latex at 0x7f47ac9f9a20>"
       ]
      }
     ],
     "prompt_number": 52
    },
    {
     "cell_type": "code",
     "collapsed": false,
     "input": [
      "from IPython.display import display, Math, Latex\n",
      "display(Math(r'F(k) = \\int_{-\\infty}^{\\infty} f(x) e^{2\\pi i k} dx'))"
     ],
     "language": "python",
     "metadata": {},
     "outputs": [
      {
       "latex": [
        "$$F(k) = \\int_{-\\infty}^{\\infty} f(x) e^{2\\pi i k} dx$$"
       ],
       "metadata": {},
       "output_type": "display_data",
       "text": [
        "<IPython.core.display.Math at 0x7f47b47de198>"
       ]
      }
     ],
     "prompt_number": 6
    }
   ],
   "metadata": {}
  }
 ]
}